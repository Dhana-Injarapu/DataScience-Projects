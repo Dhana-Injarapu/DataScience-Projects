{
 "cells": [
  {
   "cell_type": "markdown",
   "id": "a9d4ed7d",
   "metadata": {},
   "source": [
    "# BMW Used Car Data  Analysis"
   ]
  },
  {
   "cell_type": "markdown",
   "id": "fa0336f8",
   "metadata": {},
   "source": [
    "\n",
    "- The dataset consists of the used sale prices of certain BMW car. It has roughly 5000 rows and 18 columns.\n",
    "  - maker_key ( all the cars are of make BMW)\n",
    "  - model_key (Model_key of Bmw car ,75 unique model keys)\n",
    "  - mileage\n",
    "  - engine_power\t\n",
    "  - registration_date (when first owner bought it)\n",
    "  - fuel (what type of fuel used in car,four different fuel type are there in this dataset,Namely - Diesel, Petrol, Hybrid Petrol and Electro )\n",
    "  - paint_color(there are 10 different color cars in the dataset)\n",
    "  - car_type(there are 8 different car_types in the dataset,Namely - Convertible, Coupe, Estate, Hatchback, Sedan, Subcompact, SUV and Van\n",
    "  - some boolean features are there\n",
    "  - price\n",
    "  - sold_at-(date when was second owner sold)"
   ]
  },
  {
   "cell_type": "code",
   "execution_count": 7,
   "id": "9328b666",
   "metadata": {},
   "outputs": [],
   "source": [
    "import pandas as pd\n",
    "import numpy as np\n",
    "import matplotlib.pyplot as plt\n",
    "import seaborn as sns\n",
    "from statistics import median\n",
    "from scipy.stats import iqr\n",
    "import warnings\n",
    "warnings.filterwarnings('ignore')"
   ]
  },
  {
   "cell_type": "code",
   "execution_count": 8,
   "id": "12e7964a",
   "metadata": {},
   "outputs": [
    {
     "data": {
      "text/html": [
       "<div>\n",
       "<style scoped>\n",
       "    .dataframe tbody tr th:only-of-type {\n",
       "        vertical-align: middle;\n",
       "    }\n",
       "\n",
       "    .dataframe tbody tr th {\n",
       "        vertical-align: top;\n",
       "    }\n",
       "\n",
       "    .dataframe thead th {\n",
       "        text-align: right;\n",
       "    }\n",
       "</style>\n",
       "<table border=\"1\" class=\"dataframe\">\n",
       "  <thead>\n",
       "    <tr style=\"text-align: right;\">\n",
       "      <th></th>\n",
       "      <th>maker_key</th>\n",
       "      <th>model_key</th>\n",
       "      <th>mileage</th>\n",
       "      <th>engine_power</th>\n",
       "      <th>registration_date</th>\n",
       "      <th>fuel</th>\n",
       "      <th>paint_color</th>\n",
       "      <th>car_type</th>\n",
       "      <th>feature_1</th>\n",
       "      <th>feature_2</th>\n",
       "      <th>feature_3</th>\n",
       "      <th>feature_4</th>\n",
       "      <th>feature_5</th>\n",
       "      <th>feature_6</th>\n",
       "      <th>feature_7</th>\n",
       "      <th>feature_8</th>\n",
       "      <th>price</th>\n",
       "      <th>sold_at</th>\n",
       "    </tr>\n",
       "  </thead>\n",
       "  <tbody>\n",
       "    <tr>\n",
       "      <th>0</th>\n",
       "      <td>BMW</td>\n",
       "      <td>118</td>\n",
       "      <td>140411</td>\n",
       "      <td>100</td>\n",
       "      <td>01-02-2012</td>\n",
       "      <td>diesel</td>\n",
       "      <td>black</td>\n",
       "      <td>convertible</td>\n",
       "      <td>True</td>\n",
       "      <td>True</td>\n",
       "      <td>False</td>\n",
       "      <td>False</td>\n",
       "      <td>True</td>\n",
       "      <td>True</td>\n",
       "      <td>True</td>\n",
       "      <td>False</td>\n",
       "      <td>11300</td>\n",
       "      <td>01-01-2018</td>\n",
       "    </tr>\n",
       "    <tr>\n",
       "      <th>1</th>\n",
       "      <td>BMW</td>\n",
       "      <td>M4</td>\n",
       "      <td>13929</td>\n",
       "      <td>317</td>\n",
       "      <td>01-04-2016</td>\n",
       "      <td>petrol</td>\n",
       "      <td>grey</td>\n",
       "      <td>convertible</td>\n",
       "      <td>True</td>\n",
       "      <td>True</td>\n",
       "      <td>False</td>\n",
       "      <td>False</td>\n",
       "      <td>False</td>\n",
       "      <td>True</td>\n",
       "      <td>True</td>\n",
       "      <td>True</td>\n",
       "      <td>69700</td>\n",
       "      <td>01-02-2018</td>\n",
       "    </tr>\n",
       "    <tr>\n",
       "      <th>2</th>\n",
       "      <td>BMW</td>\n",
       "      <td>320</td>\n",
       "      <td>183297</td>\n",
       "      <td>120</td>\n",
       "      <td>01-04-2012</td>\n",
       "      <td>diesel</td>\n",
       "      <td>white</td>\n",
       "      <td>convertible</td>\n",
       "      <td>False</td>\n",
       "      <td>False</td>\n",
       "      <td>False</td>\n",
       "      <td>False</td>\n",
       "      <td>True</td>\n",
       "      <td>False</td>\n",
       "      <td>True</td>\n",
       "      <td>False</td>\n",
       "      <td>10200</td>\n",
       "      <td>01-02-2018</td>\n",
       "    </tr>\n",
       "    <tr>\n",
       "      <th>3</th>\n",
       "      <td>BMW</td>\n",
       "      <td>420</td>\n",
       "      <td>128035</td>\n",
       "      <td>135</td>\n",
       "      <td>01-07-2014</td>\n",
       "      <td>diesel</td>\n",
       "      <td>red</td>\n",
       "      <td>convertible</td>\n",
       "      <td>True</td>\n",
       "      <td>True</td>\n",
       "      <td>False</td>\n",
       "      <td>False</td>\n",
       "      <td>True</td>\n",
       "      <td>True</td>\n",
       "      <td>True</td>\n",
       "      <td>True</td>\n",
       "      <td>25100</td>\n",
       "      <td>01-02-2018</td>\n",
       "    </tr>\n",
       "    <tr>\n",
       "      <th>4</th>\n",
       "      <td>BMW</td>\n",
       "      <td>425</td>\n",
       "      <td>97097</td>\n",
       "      <td>160</td>\n",
       "      <td>01-12-2014</td>\n",
       "      <td>diesel</td>\n",
       "      <td>silver</td>\n",
       "      <td>convertible</td>\n",
       "      <td>True</td>\n",
       "      <td>True</td>\n",
       "      <td>False</td>\n",
       "      <td>False</td>\n",
       "      <td>False</td>\n",
       "      <td>True</td>\n",
       "      <td>True</td>\n",
       "      <td>True</td>\n",
       "      <td>33400</td>\n",
       "      <td>01-04-2018</td>\n",
       "    </tr>\n",
       "  </tbody>\n",
       "</table>\n",
       "</div>"
      ],
      "text/plain": [
       "  maker_key model_key  mileage  engine_power registration_date    fuel  \\\n",
       "0       BMW       118   140411           100        01-02-2012  diesel   \n",
       "1       BMW        M4    13929           317        01-04-2016  petrol   \n",
       "2       BMW       320   183297           120        01-04-2012  diesel   \n",
       "3       BMW       420   128035           135        01-07-2014  diesel   \n",
       "4       BMW       425    97097           160        01-12-2014  diesel   \n",
       "\n",
       "  paint_color     car_type  feature_1  feature_2  feature_3  feature_4  \\\n",
       "0       black  convertible       True       True      False      False   \n",
       "1        grey  convertible       True       True      False      False   \n",
       "2       white  convertible      False      False      False      False   \n",
       "3         red  convertible       True       True      False      False   \n",
       "4      silver  convertible       True       True      False      False   \n",
       "\n",
       "   feature_5  feature_6  feature_7  feature_8  price     sold_at  \n",
       "0       True       True       True      False  11300  01-01-2018  \n",
       "1      False       True       True       True  69700  01-02-2018  \n",
       "2       True      False       True      False  10200  01-02-2018  \n",
       "3       True       True       True       True  25100  01-02-2018  \n",
       "4      False       True       True       True  33400  01-04-2018  "
      ]
     },
     "execution_count": 8,
     "metadata": {},
     "output_type": "execute_result"
    }
   ],
   "source": [
    "bmw=pd.read_csv(\"bmw_pricing_challenge.csv\")\n",
    "bmw.head()"
   ]
  },
  {
   "cell_type": "code",
   "execution_count": 9,
   "id": "dae60436",
   "metadata": {},
   "outputs": [
    {
     "data": {
      "text/plain": [
       "(4843, 18)"
      ]
     },
     "execution_count": 9,
     "metadata": {},
     "output_type": "execute_result"
    }
   ],
   "source": [
    "bmw.shape"
   ]
  },
  {
   "cell_type": "code",
   "execution_count": 10,
   "id": "86fa2d71",
   "metadata": {},
   "outputs": [
    {
     "name": "stdout",
     "output_type": "stream",
     "text": [
      "<class 'pandas.core.frame.DataFrame'>\n",
      "RangeIndex: 4843 entries, 0 to 4842\n",
      "Data columns (total 18 columns):\n",
      " #   Column             Non-Null Count  Dtype \n",
      "---  ------             --------------  ----- \n",
      " 0   maker_key          4843 non-null   object\n",
      " 1   model_key          4843 non-null   object\n",
      " 2   mileage            4843 non-null   int64 \n",
      " 3   engine_power       4843 non-null   int64 \n",
      " 4   registration_date  4843 non-null   object\n",
      " 5   fuel               4843 non-null   object\n",
      " 6   paint_color        4843 non-null   object\n",
      " 7   car_type           4843 non-null   object\n",
      " 8   feature_1          4843 non-null   bool  \n",
      " 9   feature_2          4843 non-null   bool  \n",
      " 10  feature_3          4843 non-null   bool  \n",
      " 11  feature_4          4843 non-null   bool  \n",
      " 12  feature_5          4843 non-null   bool  \n",
      " 13  feature_6          4843 non-null   bool  \n",
      " 14  feature_7          4843 non-null   bool  \n",
      " 15  feature_8          4843 non-null   bool  \n",
      " 16  price              4843 non-null   int64 \n",
      " 17  sold_at            4843 non-null   object\n",
      "dtypes: bool(8), int64(3), object(7)\n",
      "memory usage: 416.3+ KB\n"
     ]
    }
   ],
   "source": [
    "bmw.info()"
   ]
  },
  {
   "cell_type": "code",
   "execution_count": 11,
   "id": "e3f8e85f",
   "metadata": {},
   "outputs": [
    {
     "data": {
      "text/html": [
       "<div>\n",
       "<style scoped>\n",
       "    .dataframe tbody tr th:only-of-type {\n",
       "        vertical-align: middle;\n",
       "    }\n",
       "\n",
       "    .dataframe tbody tr th {\n",
       "        vertical-align: top;\n",
       "    }\n",
       "\n",
       "    .dataframe thead th {\n",
       "        text-align: right;\n",
       "    }\n",
       "</style>\n",
       "<table border=\"1\" class=\"dataframe\">\n",
       "  <thead>\n",
       "    <tr style=\"text-align: right;\">\n",
       "      <th></th>\n",
       "      <th>mileage</th>\n",
       "      <th>engine_power</th>\n",
       "      <th>price</th>\n",
       "    </tr>\n",
       "  </thead>\n",
       "  <tbody>\n",
       "    <tr>\n",
       "      <th>count</th>\n",
       "      <td>4.843000e+03</td>\n",
       "      <td>4843.00000</td>\n",
       "      <td>4843.000000</td>\n",
       "    </tr>\n",
       "    <tr>\n",
       "      <th>mean</th>\n",
       "      <td>1.409628e+05</td>\n",
       "      <td>128.98823</td>\n",
       "      <td>15828.081767</td>\n",
       "    </tr>\n",
       "    <tr>\n",
       "      <th>std</th>\n",
       "      <td>6.019674e+04</td>\n",
       "      <td>38.99336</td>\n",
       "      <td>9220.285684</td>\n",
       "    </tr>\n",
       "    <tr>\n",
       "      <th>min</th>\n",
       "      <td>-6.400000e+01</td>\n",
       "      <td>0.00000</td>\n",
       "      <td>100.000000</td>\n",
       "    </tr>\n",
       "    <tr>\n",
       "      <th>25%</th>\n",
       "      <td>1.029135e+05</td>\n",
       "      <td>100.00000</td>\n",
       "      <td>10800.000000</td>\n",
       "    </tr>\n",
       "    <tr>\n",
       "      <th>50%</th>\n",
       "      <td>1.410800e+05</td>\n",
       "      <td>120.00000</td>\n",
       "      <td>14200.000000</td>\n",
       "    </tr>\n",
       "    <tr>\n",
       "      <th>75%</th>\n",
       "      <td>1.751955e+05</td>\n",
       "      <td>135.00000</td>\n",
       "      <td>18600.000000</td>\n",
       "    </tr>\n",
       "    <tr>\n",
       "      <th>max</th>\n",
       "      <td>1.000376e+06</td>\n",
       "      <td>423.00000</td>\n",
       "      <td>178500.000000</td>\n",
       "    </tr>\n",
       "  </tbody>\n",
       "</table>\n",
       "</div>"
      ],
      "text/plain": [
       "            mileage  engine_power          price\n",
       "count  4.843000e+03    4843.00000    4843.000000\n",
       "mean   1.409628e+05     128.98823   15828.081767\n",
       "std    6.019674e+04      38.99336    9220.285684\n",
       "min   -6.400000e+01       0.00000     100.000000\n",
       "25%    1.029135e+05     100.00000   10800.000000\n",
       "50%    1.410800e+05     120.00000   14200.000000\n",
       "75%    1.751955e+05     135.00000   18600.000000\n",
       "max    1.000376e+06     423.00000  178500.000000"
      ]
     },
     "execution_count": 11,
     "metadata": {},
     "output_type": "execute_result"
    }
   ],
   "source": [
    "bmw.describe()"
   ]
  },
  {
   "cell_type": "markdown",
   "id": "ba1ec17f",
   "metadata": {},
   "source": [
    "Milege in negative number so drop negative mileage records"
   ]
  },
  {
   "cell_type": "markdown",
   "id": "de9ca73a",
   "metadata": {},
   "source": [
    "# Feature Engineering"
   ]
  },
  {
   "cell_type": "code",
   "execution_count": 12,
   "id": "d9744241",
   "metadata": {},
   "outputs": [
    {
     "data": {
      "text/html": [
       "<div>\n",
       "<style scoped>\n",
       "    .dataframe tbody tr th:only-of-type {\n",
       "        vertical-align: middle;\n",
       "    }\n",
       "\n",
       "    .dataframe tbody tr th {\n",
       "        vertical-align: top;\n",
       "    }\n",
       "\n",
       "    .dataframe thead th {\n",
       "        text-align: right;\n",
       "    }\n",
       "</style>\n",
       "<table border=\"1\" class=\"dataframe\">\n",
       "  <thead>\n",
       "    <tr style=\"text-align: right;\">\n",
       "      <th></th>\n",
       "      <th>maker_key</th>\n",
       "      <th>model_key</th>\n",
       "      <th>mileage</th>\n",
       "      <th>engine_power</th>\n",
       "      <th>registration_date</th>\n",
       "      <th>fuel</th>\n",
       "      <th>paint_color</th>\n",
       "      <th>car_type</th>\n",
       "      <th>feature_1</th>\n",
       "      <th>feature_2</th>\n",
       "      <th>feature_3</th>\n",
       "      <th>feature_4</th>\n",
       "      <th>feature_5</th>\n",
       "      <th>feature_6</th>\n",
       "      <th>feature_7</th>\n",
       "      <th>feature_8</th>\n",
       "      <th>price</th>\n",
       "      <th>sold_at</th>\n",
       "    </tr>\n",
       "  </thead>\n",
       "  <tbody>\n",
       "    <tr>\n",
       "      <th>2938</th>\n",
       "      <td>BMW</td>\n",
       "      <td>640 Gran Coupé</td>\n",
       "      <td>-64</td>\n",
       "      <td>230</td>\n",
       "      <td>01-03-2017</td>\n",
       "      <td>diesel</td>\n",
       "      <td>black</td>\n",
       "      <td>sedan</td>\n",
       "      <td>True</td>\n",
       "      <td>True</td>\n",
       "      <td>False</td>\n",
       "      <td>True</td>\n",
       "      <td>False</td>\n",
       "      <td>False</td>\n",
       "      <td>True</td>\n",
       "      <td>True</td>\n",
       "      <td>75000</td>\n",
       "      <td>01-04-2018</td>\n",
       "    </tr>\n",
       "  </tbody>\n",
       "</table>\n",
       "</div>"
      ],
      "text/plain": [
       "     maker_key       model_key  mileage  engine_power registration_date  \\\n",
       "2938       BMW  640 Gran Coupé      -64           230        01-03-2017   \n",
       "\n",
       "        fuel paint_color car_type  feature_1  feature_2  feature_3  feature_4  \\\n",
       "2938  diesel       black    sedan       True       True      False       True   \n",
       "\n",
       "      feature_5  feature_6  feature_7  feature_8  price     sold_at  \n",
       "2938      False      False       True       True  75000  01-04-2018  "
      ]
     },
     "execution_count": 12,
     "metadata": {},
     "output_type": "execute_result"
    }
   ],
   "source": [
    "bmw[bmw['mileage']<0]"
   ]
  },
  {
   "cell_type": "code",
   "execution_count": 13,
   "id": "ff671b4a",
   "metadata": {},
   "outputs": [],
   "source": [
    "bmw=bmw.drop(bmw[bmw['mileage']<0].index)"
   ]
  },
  {
   "cell_type": "markdown",
   "id": "d293d7a4",
   "metadata": {},
   "source": [
    "Drop records where engine power is 0"
   ]
  },
  {
   "cell_type": "code",
   "execution_count": 14,
   "id": "6ae4f730",
   "metadata": {},
   "outputs": [
    {
     "data": {
      "text/html": [
       "<div>\n",
       "<style scoped>\n",
       "    .dataframe tbody tr th:only-of-type {\n",
       "        vertical-align: middle;\n",
       "    }\n",
       "\n",
       "    .dataframe tbody tr th {\n",
       "        vertical-align: top;\n",
       "    }\n",
       "\n",
       "    .dataframe thead th {\n",
       "        text-align: right;\n",
       "    }\n",
       "</style>\n",
       "<table border=\"1\" class=\"dataframe\">\n",
       "  <thead>\n",
       "    <tr style=\"text-align: right;\">\n",
       "      <th></th>\n",
       "      <th>maker_key</th>\n",
       "      <th>model_key</th>\n",
       "      <th>mileage</th>\n",
       "      <th>engine_power</th>\n",
       "      <th>registration_date</th>\n",
       "      <th>fuel</th>\n",
       "      <th>paint_color</th>\n",
       "      <th>car_type</th>\n",
       "      <th>feature_1</th>\n",
       "      <th>feature_2</th>\n",
       "      <th>feature_3</th>\n",
       "      <th>feature_4</th>\n",
       "      <th>feature_5</th>\n",
       "      <th>feature_6</th>\n",
       "      <th>feature_7</th>\n",
       "      <th>feature_8</th>\n",
       "      <th>price</th>\n",
       "      <th>sold_at</th>\n",
       "    </tr>\n",
       "  </thead>\n",
       "  <tbody>\n",
       "    <tr>\n",
       "      <th>3765</th>\n",
       "      <td>BMW</td>\n",
       "      <td>X1</td>\n",
       "      <td>81770</td>\n",
       "      <td>0</td>\n",
       "      <td>01-10-2014</td>\n",
       "      <td>diesel</td>\n",
       "      <td>white</td>\n",
       "      <td>suv</td>\n",
       "      <td>False</td>\n",
       "      <td>False</td>\n",
       "      <td>False</td>\n",
       "      <td>False</td>\n",
       "      <td>False</td>\n",
       "      <td>False</td>\n",
       "      <td>False</td>\n",
       "      <td>False</td>\n",
       "      <td>11700</td>\n",
       "      <td>01-03-2018</td>\n",
       "    </tr>\n",
       "  </tbody>\n",
       "</table>\n",
       "</div>"
      ],
      "text/plain": [
       "     maker_key model_key  mileage  engine_power registration_date    fuel  \\\n",
       "3765       BMW        X1    81770             0        01-10-2014  diesel   \n",
       "\n",
       "     paint_color car_type  feature_1  feature_2  feature_3  feature_4  \\\n",
       "3765       white      suv      False      False      False      False   \n",
       "\n",
       "      feature_5  feature_6  feature_7  feature_8  price     sold_at  \n",
       "3765      False      False      False      False  11700  01-03-2018  "
      ]
     },
     "execution_count": 14,
     "metadata": {},
     "output_type": "execute_result"
    }
   ],
   "source": [
    "bmw[bmw['engine_power']==0]"
   ]
  },
  {
   "cell_type": "code",
   "execution_count": 15,
   "id": "c169f91e",
   "metadata": {},
   "outputs": [],
   "source": [
    "bmw=bmw.drop(bmw[bmw['engine_power']==0].index)"
   ]
  },
  {
   "cell_type": "code",
   "execution_count": 16,
   "id": "0b28f061",
   "metadata": {},
   "outputs": [
    {
     "data": {
      "text/html": [
       "<div>\n",
       "<style scoped>\n",
       "    .dataframe tbody tr th:only-of-type {\n",
       "        vertical-align: middle;\n",
       "    }\n",
       "\n",
       "    .dataframe tbody tr th {\n",
       "        vertical-align: top;\n",
       "    }\n",
       "\n",
       "    .dataframe thead th {\n",
       "        text-align: right;\n",
       "    }\n",
       "</style>\n",
       "<table border=\"1\" class=\"dataframe\">\n",
       "  <thead>\n",
       "    <tr style=\"text-align: right;\">\n",
       "      <th></th>\n",
       "      <th>mileage</th>\n",
       "      <th>engine_power</th>\n",
       "      <th>price</th>\n",
       "    </tr>\n",
       "  </thead>\n",
       "  <tbody>\n",
       "    <tr>\n",
       "      <th>count</th>\n",
       "      <td>4.841000e+03</td>\n",
       "      <td>4841.000000</td>\n",
       "      <td>4841.000000</td>\n",
       "    </tr>\n",
       "    <tr>\n",
       "      <th>mean</th>\n",
       "      <td>1.410042e+05</td>\n",
       "      <td>128.994010</td>\n",
       "      <td>15816.711423</td>\n",
       "    </tr>\n",
       "    <tr>\n",
       "      <th>std</th>\n",
       "      <td>6.016901e+04</td>\n",
       "      <td>38.930253</td>\n",
       "      <td>9182.686706</td>\n",
       "    </tr>\n",
       "    <tr>\n",
       "      <th>min</th>\n",
       "      <td>4.760000e+02</td>\n",
       "      <td>25.000000</td>\n",
       "      <td>100.000000</td>\n",
       "    </tr>\n",
       "    <tr>\n",
       "      <th>25%</th>\n",
       "      <td>1.030340e+05</td>\n",
       "      <td>100.000000</td>\n",
       "      <td>10800.000000</td>\n",
       "    </tr>\n",
       "    <tr>\n",
       "      <th>50%</th>\n",
       "      <td>1.410890e+05</td>\n",
       "      <td>120.000000</td>\n",
       "      <td>14200.000000</td>\n",
       "    </tr>\n",
       "    <tr>\n",
       "      <th>75%</th>\n",
       "      <td>1.752170e+05</td>\n",
       "      <td>135.000000</td>\n",
       "      <td>18600.000000</td>\n",
       "    </tr>\n",
       "    <tr>\n",
       "      <th>max</th>\n",
       "      <td>1.000376e+06</td>\n",
       "      <td>423.000000</td>\n",
       "      <td>178500.000000</td>\n",
       "    </tr>\n",
       "  </tbody>\n",
       "</table>\n",
       "</div>"
      ],
      "text/plain": [
       "            mileage  engine_power          price\n",
       "count  4.841000e+03   4841.000000    4841.000000\n",
       "mean   1.410042e+05    128.994010   15816.711423\n",
       "std    6.016901e+04     38.930253    9182.686706\n",
       "min    4.760000e+02     25.000000     100.000000\n",
       "25%    1.030340e+05    100.000000   10800.000000\n",
       "50%    1.410890e+05    120.000000   14200.000000\n",
       "75%    1.752170e+05    135.000000   18600.000000\n",
       "max    1.000376e+06    423.000000  178500.000000"
      ]
     },
     "execution_count": 16,
     "metadata": {},
     "output_type": "execute_result"
    }
   ],
   "source": [
    "bmw.describe()"
   ]
  },
  {
   "cell_type": "code",
   "execution_count": 17,
   "id": "f478b003",
   "metadata": {},
   "outputs": [
    {
     "data": {
      "text/plain": [
       "maker_key            0\n",
       "model_key            0\n",
       "mileage              0\n",
       "engine_power         0\n",
       "registration_date    0\n",
       "fuel                 0\n",
       "paint_color          0\n",
       "car_type             0\n",
       "feature_1            0\n",
       "feature_2            0\n",
       "feature_3            0\n",
       "feature_4            0\n",
       "feature_5            0\n",
       "feature_6            0\n",
       "feature_7            0\n",
       "feature_8            0\n",
       "price                0\n",
       "sold_at              0\n",
       "dtype: int64"
      ]
     },
     "execution_count": 17,
     "metadata": {},
     "output_type": "execute_result"
    }
   ],
   "source": [
    "bmw.isnull().sum()"
   ]
  },
  {
   "cell_type": "code",
   "execution_count": 18,
   "id": "4bb0fc5e",
   "metadata": {},
   "outputs": [
    {
     "data": {
      "text/plain": [
       "0"
      ]
     },
     "execution_count": 18,
     "metadata": {},
     "output_type": "execute_result"
    }
   ],
   "source": [
    "bmw.duplicated().sum()"
   ]
  },
  {
   "cell_type": "code",
   "execution_count": 19,
   "id": "6d17e9fe",
   "metadata": {},
   "outputs": [
    {
     "data": {
      "text/plain": [
       "Index(['maker_key', 'model_key', 'mileage', 'engine_power',\n",
       "       'registration_date', 'fuel', 'paint_color', 'car_type', 'feature_1',\n",
       "       'feature_2', 'feature_3', 'feature_4', 'feature_5', 'feature_6',\n",
       "       'feature_7', 'feature_8', 'price', 'sold_at'],\n",
       "      dtype='object')"
      ]
     },
     "execution_count": 19,
     "metadata": {},
     "output_type": "execute_result"
    }
   ],
   "source": [
    "bmw.columns"
   ]
  },
  {
   "cell_type": "code",
   "execution_count": 20,
   "id": "b7be65c8",
   "metadata": {},
   "outputs": [
    {
     "data": {
      "text/plain": [
       "array(['BMW'], dtype=object)"
      ]
     },
     "execution_count": 20,
     "metadata": {},
     "output_type": "execute_result"
    }
   ],
   "source": [
    "bmw['maker_key'].unique()"
   ]
  },
  {
   "cell_type": "markdown",
   "id": "ac71b38a",
   "metadata": {},
   "source": [
    "### Boolean Features"
   ]
  },
  {
   "cell_type": "code",
   "execution_count": 21,
   "id": "ee4e4552",
   "metadata": {},
   "outputs": [
    {
     "name": "stdout",
     "output_type": "stream",
     "text": [
      "feature_1   [ True False]\n",
      "feature_2   [ True False]\n",
      "feature_3   [False  True]\n",
      "feature_4   [False  True]\n",
      "feature_5   [ True False]\n",
      "feature_6   [ True False]\n",
      "feature_7   [ True False]\n",
      "feature_8   [False  True]\n"
     ]
    }
   ],
   "source": [
    "bool_col=bmw.select_dtypes(include=['boolean']).columns\n",
    "for col in bool_col:\n",
    "    print(col,\" \",bmw[col].unique())"
   ]
  },
  {
   "cell_type": "code",
   "execution_count": 22,
   "id": "b6ef9f84",
   "metadata": {},
   "outputs": [],
   "source": [
    "for col in bool_col:\n",
    "    bmw[col]=bmw[col].apply(lambda x: 1 if x==True else 0)"
   ]
  },
  {
   "cell_type": "code",
   "execution_count": 23,
   "id": "8c687f8a",
   "metadata": {},
   "outputs": [
    {
     "data": {
      "text/html": [
       "<div>\n",
       "<style scoped>\n",
       "    .dataframe tbody tr th:only-of-type {\n",
       "        vertical-align: middle;\n",
       "    }\n",
       "\n",
       "    .dataframe tbody tr th {\n",
       "        vertical-align: top;\n",
       "    }\n",
       "\n",
       "    .dataframe thead th {\n",
       "        text-align: right;\n",
       "    }\n",
       "</style>\n",
       "<table border=\"1\" class=\"dataframe\">\n",
       "  <thead>\n",
       "    <tr style=\"text-align: right;\">\n",
       "      <th></th>\n",
       "      <th>feature_1</th>\n",
       "      <th>feature_2</th>\n",
       "      <th>feature_3</th>\n",
       "      <th>feature_4</th>\n",
       "      <th>feature_5</th>\n",
       "      <th>feature_6</th>\n",
       "      <th>feature_7</th>\n",
       "      <th>feature_8</th>\n",
       "    </tr>\n",
       "  </thead>\n",
       "  <tbody>\n",
       "    <tr>\n",
       "      <th>0</th>\n",
       "      <td>1</td>\n",
       "      <td>1</td>\n",
       "      <td>0</td>\n",
       "      <td>0</td>\n",
       "      <td>1</td>\n",
       "      <td>1</td>\n",
       "      <td>1</td>\n",
       "      <td>0</td>\n",
       "    </tr>\n",
       "    <tr>\n",
       "      <th>1</th>\n",
       "      <td>1</td>\n",
       "      <td>1</td>\n",
       "      <td>0</td>\n",
       "      <td>0</td>\n",
       "      <td>0</td>\n",
       "      <td>1</td>\n",
       "      <td>1</td>\n",
       "      <td>1</td>\n",
       "    </tr>\n",
       "    <tr>\n",
       "      <th>2</th>\n",
       "      <td>0</td>\n",
       "      <td>0</td>\n",
       "      <td>0</td>\n",
       "      <td>0</td>\n",
       "      <td>1</td>\n",
       "      <td>0</td>\n",
       "      <td>1</td>\n",
       "      <td>0</td>\n",
       "    </tr>\n",
       "    <tr>\n",
       "      <th>3</th>\n",
       "      <td>1</td>\n",
       "      <td>1</td>\n",
       "      <td>0</td>\n",
       "      <td>0</td>\n",
       "      <td>1</td>\n",
       "      <td>1</td>\n",
       "      <td>1</td>\n",
       "      <td>1</td>\n",
       "    </tr>\n",
       "    <tr>\n",
       "      <th>4</th>\n",
       "      <td>1</td>\n",
       "      <td>1</td>\n",
       "      <td>0</td>\n",
       "      <td>0</td>\n",
       "      <td>0</td>\n",
       "      <td>1</td>\n",
       "      <td>1</td>\n",
       "      <td>1</td>\n",
       "    </tr>\n",
       "    <tr>\n",
       "      <th>...</th>\n",
       "      <td>...</td>\n",
       "      <td>...</td>\n",
       "      <td>...</td>\n",
       "      <td>...</td>\n",
       "      <td>...</td>\n",
       "      <td>...</td>\n",
       "      <td>...</td>\n",
       "      <td>...</td>\n",
       "    </tr>\n",
       "    <tr>\n",
       "      <th>4838</th>\n",
       "      <td>0</td>\n",
       "      <td>1</td>\n",
       "      <td>0</td>\n",
       "      <td>0</td>\n",
       "      <td>0</td>\n",
       "      <td>0</td>\n",
       "      <td>1</td>\n",
       "      <td>0</td>\n",
       "    </tr>\n",
       "    <tr>\n",
       "      <th>4839</th>\n",
       "      <td>0</td>\n",
       "      <td>1</td>\n",
       "      <td>0</td>\n",
       "      <td>0</td>\n",
       "      <td>0</td>\n",
       "      <td>0</td>\n",
       "      <td>1</td>\n",
       "      <td>1</td>\n",
       "    </tr>\n",
       "    <tr>\n",
       "      <th>4840</th>\n",
       "      <td>0</td>\n",
       "      <td>1</td>\n",
       "      <td>0</td>\n",
       "      <td>0</td>\n",
       "      <td>0</td>\n",
       "      <td>0</td>\n",
       "      <td>1</td>\n",
       "      <td>1</td>\n",
       "    </tr>\n",
       "    <tr>\n",
       "      <th>4841</th>\n",
       "      <td>1</td>\n",
       "      <td>1</td>\n",
       "      <td>0</td>\n",
       "      <td>0</td>\n",
       "      <td>0</td>\n",
       "      <td>0</td>\n",
       "      <td>1</td>\n",
       "      <td>1</td>\n",
       "    </tr>\n",
       "    <tr>\n",
       "      <th>4842</th>\n",
       "      <td>1</td>\n",
       "      <td>1</td>\n",
       "      <td>0</td>\n",
       "      <td>0</td>\n",
       "      <td>1</td>\n",
       "      <td>0</td>\n",
       "      <td>1</td>\n",
       "      <td>1</td>\n",
       "    </tr>\n",
       "  </tbody>\n",
       "</table>\n",
       "<p>4841 rows × 8 columns</p>\n",
       "</div>"
      ],
      "text/plain": [
       "      feature_1  feature_2  feature_3  feature_4  feature_5  feature_6  \\\n",
       "0             1          1          0          0          1          1   \n",
       "1             1          1          0          0          0          1   \n",
       "2             0          0          0          0          1          0   \n",
       "3             1          1          0          0          1          1   \n",
       "4             1          1          0          0          0          1   \n",
       "...         ...        ...        ...        ...        ...        ...   \n",
       "4838          0          1          0          0          0          0   \n",
       "4839          0          1          0          0          0          0   \n",
       "4840          0          1          0          0          0          0   \n",
       "4841          1          1          0          0          0          0   \n",
       "4842          1          1          0          0          1          0   \n",
       "\n",
       "      feature_7  feature_8  \n",
       "0             1          0  \n",
       "1             1          1  \n",
       "2             1          0  \n",
       "3             1          1  \n",
       "4             1          1  \n",
       "...         ...        ...  \n",
       "4838          1          0  \n",
       "4839          1          1  \n",
       "4840          1          1  \n",
       "4841          1          1  \n",
       "4842          1          1  \n",
       "\n",
       "[4841 rows x 8 columns]"
      ]
     },
     "execution_count": 23,
     "metadata": {},
     "output_type": "execute_result"
    }
   ],
   "source": [
    "bmw[bool_col]"
   ]
  },
  {
   "cell_type": "markdown",
   "id": "8849f25c",
   "metadata": {},
   "source": [
    "Encoded boolean features with 1 and 0"
   ]
  },
  {
   "cell_type": "markdown",
   "id": "1787f518",
   "metadata": {},
   "source": [
    "#### Categorical features"
   ]
  },
  {
   "cell_type": "code",
   "execution_count": 24,
   "id": "388af24a",
   "metadata": {},
   "outputs": [
    {
     "data": {
      "text/plain": [
       "Index(['maker_key', 'model_key', 'registration_date', 'fuel', 'paint_color',\n",
       "       'car_type', 'sold_at'],\n",
       "      dtype='object')"
      ]
     },
     "execution_count": 24,
     "metadata": {},
     "output_type": "execute_result"
    }
   ],
   "source": [
    "cat_col=bmw.select_dtypes(include=('object')).columns\n",
    "cat_col"
   ]
  },
  {
   "cell_type": "code",
   "execution_count": 25,
   "id": "c25e40d2",
   "metadata": {},
   "outputs": [],
   "source": [
    "cat_col=['fuel','model_key','paint_color','car_type']"
   ]
  },
  {
   "cell_type": "code",
   "execution_count": 26,
   "id": "6b60c893",
   "metadata": {},
   "outputs": [
    {
     "data": {
      "text/html": [
       "<div>\n",
       "<style scoped>\n",
       "    .dataframe tbody tr th:only-of-type {\n",
       "        vertical-align: middle;\n",
       "    }\n",
       "\n",
       "    .dataframe tbody tr th {\n",
       "        vertical-align: top;\n",
       "    }\n",
       "\n",
       "    .dataframe thead th {\n",
       "        text-align: right;\n",
       "    }\n",
       "</style>\n",
       "<table border=\"1\" class=\"dataframe\">\n",
       "  <thead>\n",
       "    <tr style=\"text-align: right;\">\n",
       "      <th></th>\n",
       "      <th>fuel</th>\n",
       "      <th>model_key</th>\n",
       "      <th>paint_color</th>\n",
       "      <th>car_type</th>\n",
       "    </tr>\n",
       "  </thead>\n",
       "  <tbody>\n",
       "    <tr>\n",
       "      <th>0</th>\n",
       "      <td>diesel</td>\n",
       "      <td>118</td>\n",
       "      <td>black</td>\n",
       "      <td>convertible</td>\n",
       "    </tr>\n",
       "    <tr>\n",
       "      <th>1</th>\n",
       "      <td>petrol</td>\n",
       "      <td>M4</td>\n",
       "      <td>grey</td>\n",
       "      <td>convertible</td>\n",
       "    </tr>\n",
       "    <tr>\n",
       "      <th>2</th>\n",
       "      <td>diesel</td>\n",
       "      <td>320</td>\n",
       "      <td>white</td>\n",
       "      <td>convertible</td>\n",
       "    </tr>\n",
       "    <tr>\n",
       "      <th>3</th>\n",
       "      <td>diesel</td>\n",
       "      <td>420</td>\n",
       "      <td>red</td>\n",
       "      <td>convertible</td>\n",
       "    </tr>\n",
       "    <tr>\n",
       "      <th>4</th>\n",
       "      <td>diesel</td>\n",
       "      <td>425</td>\n",
       "      <td>silver</td>\n",
       "      <td>convertible</td>\n",
       "    </tr>\n",
       "  </tbody>\n",
       "</table>\n",
       "</div>"
      ],
      "text/plain": [
       "     fuel model_key paint_color     car_type\n",
       "0  diesel       118       black  convertible\n",
       "1  petrol        M4        grey  convertible\n",
       "2  diesel       320       white  convertible\n",
       "3  diesel       420         red  convertible\n",
       "4  diesel       425      silver  convertible"
      ]
     },
     "execution_count": 26,
     "metadata": {},
     "output_type": "execute_result"
    }
   ],
   "source": [
    "bmw[cat_col].head()"
   ]
  },
  {
   "cell_type": "code",
   "execution_count": 27,
   "id": "cc3f004e",
   "metadata": {},
   "outputs": [
    {
     "name": "stdout",
     "output_type": "stream",
     "text": [
      "fuel \n",
      "  ['diesel' 'petrol' 'hybrid_petrol' 'electro'] -------> 4 \n",
      "\n",
      "\n",
      "model_key \n",
      "  ['118' 'M4' '320' '420' '425' '335' '325' 'Z4' '120' '220' '650' '135'\n",
      " '218' '318' '430' 'M3' '330' '225' 'M235' '316' '435' '640'\n",
      " '640 Gran Coupé' '435 Gran Coupé' 'i8' '630' '430 Gran Coupé' '635' '520'\n",
      " '525' '530' '535' '320 Gran Turismo' '518' '116' '328' '523' 'X3' 'M550'\n",
      " '528' '325 Gran Turismo' '125' '318 Gran Turismo' '420 Gran Coupé' 'i3'\n",
      " '114' '520 Gran Turismo' '530 Gran Turismo' 'M135' '418 Gran Coupé'\n",
      " '330 Gran Turismo' '335 Gran Turismo' '730' '123' '535 Gran Turismo'\n",
      " '740' '750' 'ActiveHybrid 5' '735' 'M5' 'X5' 'X1' 'X4' 'X6' 'X6 M' 'X5 M'\n",
      " 'X5 M50' '218 Active Tourer' '218 Gran Tourer' '216' '220 Active Tourer'\n",
      " '216 Gran Tourer' '216 Active Tourer' '225 Active Tourer'\n",
      " '214 Gran Tourer'] -------> 75 \n",
      "\n",
      "\n",
      "paint_color \n",
      "  ['black' 'grey' 'white' 'red' 'silver' 'blue' 'orange' 'beige' 'brown'\n",
      " 'green'] -------> 10 \n",
      "\n",
      "\n",
      "car_type \n",
      "  ['convertible' 'coupe' 'estate' 'hatchback' 'sedan' 'subcompact' 'suv'\n",
      " 'van'] -------> 8 \n",
      "\n",
      "\n"
     ]
    }
   ],
   "source": [
    "for col in cat_col:\n",
    "    print(col,\"\\n \",bmw[col].unique(),\"------->\",bmw[col].nunique(),\"\\n\\n\")\n",
    "    "
   ]
  },
  {
   "cell_type": "markdown",
   "id": "583f7d75",
   "metadata": {},
   "source": [
    "- Observation:\n",
    "    - There are Four fuel type cars in the datset\n",
    "    'diesel', 'petrol' ,'hybrid_petrol', 'electro'\n",
    "    - 75 unique model keys are there\n",
    "    -10 different paint_color cars are there in the dataset\n",
    "    'black' ,'grey','white' ,'red' ,'silver' ,'blue', 'orange' ,'beige' ,'brown', 'green'\n",
    "    - 8 different car types are there\n",
    "      'convertible' ,'coupe' ,'estate' ,'hatchback' 'sedan', 'subcompact' ,'suv' ,'van'\n",
    " "
   ]
  },
  {
   "cell_type": "markdown",
   "id": "4b57f191",
   "metadata": {},
   "source": [
    "###### Encoding \"fuel\" types "
   ]
  },
  {
   "cell_type": "code",
   "execution_count": 28,
   "id": "29e60e6e",
   "metadata": {},
   "outputs": [
    {
     "data": {
      "image/png": "[encoded data removed]",
      "text/plain": [
       "<Figure size 1080x288 with 2 Axes>"
      ]
     },
     "metadata": {
      "needs_background": "light"
     },
     "output_type": "display_data"
    },
    {
     "data": {
      "image/png": "[encoded data removed]",
      "text/plain": [
       "<Figure size 1080x288 with 2 Axes>"
      ]
     },
     "metadata": {
      "needs_background": "light"
     },
     "output_type": "display_data"
    }
   ],
   "source": [
    "# plot frequency of each of the fuel  types\n",
    "fig,ax=plt.subplots(1,2,figsize=(15,4))\n",
    "sns.countplot(x=bmw['fuel'],ax=ax[0])\n",
    "ax[0].set_title('Freq of each fuel type')\n",
    "sns.boxplot(x='price',y='fuel',data=bmw,ax=ax[1])\n",
    "ax[1].set_title('box plot for price vs fuel type')\n",
    "\n",
    "#plot for normalised metrices on price for each fuel type\n",
    "# median\n",
    "fuel_median=[]\n",
    "fuel_mean=[]\n",
    "for each in bmw.fuel.unique():\n",
    "    x= bmw[bmw.fuel==each]\n",
    "    fuel_median.append(x['price'].median())\n",
    "    fuel_mean.append(x['price'].mean())\n",
    "    \n",
    "fig,ax=plt.subplots(1,2,figsize=(15,4))\n",
    "sns.barplot(y=bmw.fuel.unique(),x=fuel_median,ax=ax[0])\n",
    "ax[0].set_title(\"median price for each fuel type\")\n",
    "\n",
    "sns.barplot(y=bmw.fuel.unique(),x=fuel_mean,ax=ax[1])\n",
    "ax[1].set_title(\"mean price for each fuel type\")\n",
    "plt.show()"
   ]
  },
  {
   "cell_type": "markdown",
   "id": "7d104bc6",
   "metadata": {},
   "source": [
    "- Observations:\n",
    "    - Mean price of hybrid-petrol  and electro cars are highest amongst all types,but dataset has very hybrid_petrol,electro            cars.we need to drop hybrid_petrol,electro for better prediction"
   ]
  },
  {
   "cell_type": "code",
   "execution_count": 29,
   "id": "c4ece21b",
   "metadata": {},
   "outputs": [],
   "source": [
    "bmw=bmw.drop(bmw[(bmw['fuel']=='hybrid_petrol') | (bmw['fuel']=='electro')].index)"
   ]
  },
  {
   "cell_type": "code",
   "execution_count": 30,
   "id": "9922fdc7",
   "metadata": {},
   "outputs": [],
   "source": [
    "bmw['fuel_E'] = bmw.fuel.map({'diesel':2,'petrol':1})"
   ]
  },
  {
   "cell_type": "code",
   "execution_count": 31,
   "id": "bf75b4d8",
   "metadata": {},
   "outputs": [
    {
     "data": {
      "text/plain": [
       "(4830, 19)"
      ]
     },
     "execution_count": 31,
     "metadata": {},
     "output_type": "execute_result"
    }
   ],
   "source": [
    "bmw.shape"
   ]
  },
  {
   "cell_type": "markdown",
   "id": "26dab0de",
   "metadata": {},
   "source": [
    "### Encoding \"Paint colour\""
   ]
  },
  {
   "cell_type": "code",
   "execution_count": 32,
   "id": "f15158dd",
   "metadata": {},
   "outputs": [
    {
     "data": {
      "image/png": "[encoded data removed]",
      "text/plain": [
       "<Figure size 1080x288 with 2 Axes>"
      ]
     },
     "metadata": {
      "needs_background": "light"
     },
     "output_type": "display_data"
    },
    {
     "data": {
      "image/png": "[encoded data removed]",
      "text/plain": [
       "<Figure size 1080x288 with 2 Axes>"
      ]
     },
     "metadata": {
      "needs_background": "light"
     },
     "output_type": "display_data"
    }
   ],
   "source": [
    "#plot the frequency of the each paint colour\n",
    "\n",
    "fig,ax=plt.subplots(1,2,figsize=(15,4))\n",
    "sns.countplot(y=bmw.paint_color,ax=ax[0])\n",
    "ax[0].set_title('Freq of each paint color')\n",
    "sns.boxplot(x=bmw['price'],y=bmw['paint_color'],ax=ax[1]) \n",
    "ax[1].set_title('box plot for price vs paint color')\n",
    "\n",
    "#plot for normalised metrices on price for each paint color\n",
    "\n",
    "paint_median=[]\n",
    "paint_mean=[]\n",
    "for each in bmw.paint_color.unique():\n",
    "    p_df=bmw[bmw['paint_color']==each]\n",
    "    paint_median.append(p_df.price.median())\n",
    "    paint_mean.append(p_df.price.mean())\n",
    "\n",
    "fig,ax=plt.subplots(1,2,figsize=(15,4))\n",
    "sns.barplot(x=sorted(paint_median),y=bmw.paint_color.unique()[np.argsort(paint_median)],ax=ax[0])\n",
    "ax[0].set_title(\"median price for each paint color\")\n",
    "sns.barplot(x=sorted(paint_mean),y=bmw.paint_color.unique()[np.argsort(paint_mean)],ax=ax[1])\n",
    "ax[1].set_title(\"mean price for each paint color\")\n",
    "plt.show()"
   ]
  },
  {
   "cell_type": "code",
   "execution_count": 33,
   "id": "eeac42cc",
   "metadata": {},
   "outputs": [
    {
     "data": {
      "text/html": [
       "<div>\n",
       "<style scoped>\n",
       "    .dataframe tbody tr th:only-of-type {\n",
       "        vertical-align: middle;\n",
       "    }\n",
       "\n",
       "    .dataframe tbody tr th {\n",
       "        vertical-align: top;\n",
       "    }\n",
       "\n",
       "    .dataframe thead th {\n",
       "        text-align: right;\n",
       "    }\n",
       "</style>\n",
       "<table border=\"1\" class=\"dataframe\">\n",
       "  <thead>\n",
       "    <tr style=\"text-align: right;\">\n",
       "      <th></th>\n",
       "      <th>paint_color</th>\n",
       "      <th>total_avg_price</th>\n",
       "      <th>avg_price_by_color</th>\n",
       "      <th>diff_avg_price</th>\n",
       "    </tr>\n",
       "  </thead>\n",
       "  <tbody>\n",
       "    <tr>\n",
       "      <th>6</th>\n",
       "      <td>orange</td>\n",
       "      <td>15777.47412</td>\n",
       "      <td>18866.666667</td>\n",
       "      <td>-19.579766</td>\n",
       "    </tr>\n",
       "    <tr>\n",
       "      <th>2</th>\n",
       "      <td>white</td>\n",
       "      <td>15777.47412</td>\n",
       "      <td>17331.716418</td>\n",
       "      <td>-9.851021</td>\n",
       "    </tr>\n",
       "    <tr>\n",
       "      <th>3</th>\n",
       "      <td>red</td>\n",
       "      <td>15777.47412</td>\n",
       "      <td>16500.000000</td>\n",
       "      <td>-4.579478</td>\n",
       "    </tr>\n",
       "    <tr>\n",
       "      <th>0</th>\n",
       "      <td>black</td>\n",
       "      <td>15777.47412</td>\n",
       "      <td>16124.754300</td>\n",
       "      <td>-2.201114</td>\n",
       "    </tr>\n",
       "    <tr>\n",
       "      <th>7</th>\n",
       "      <td>beige</td>\n",
       "      <td>15777.47412</td>\n",
       "      <td>15817.073171</td>\n",
       "      <td>-0.250985</td>\n",
       "    </tr>\n",
       "    <tr>\n",
       "      <th>1</th>\n",
       "      <td>grey</td>\n",
       "      <td>15777.47412</td>\n",
       "      <td>15487.532024</td>\n",
       "      <td>1.837697</td>\n",
       "    </tr>\n",
       "    <tr>\n",
       "      <th>8</th>\n",
       "      <td>brown</td>\n",
       "      <td>15777.47412</td>\n",
       "      <td>15350.882353</td>\n",
       "      <td>2.703803</td>\n",
       "    </tr>\n",
       "    <tr>\n",
       "      <th>5</th>\n",
       "      <td>blue</td>\n",
       "      <td>15777.47412</td>\n",
       "      <td>15070.944993</td>\n",
       "      <td>4.478088</td>\n",
       "    </tr>\n",
       "    <tr>\n",
       "      <th>4</th>\n",
       "      <td>silver</td>\n",
       "      <td>15777.47412</td>\n",
       "      <td>14816.109422</td>\n",
       "      <td>6.093274</td>\n",
       "    </tr>\n",
       "    <tr>\n",
       "      <th>9</th>\n",
       "      <td>green</td>\n",
       "      <td>15777.47412</td>\n",
       "      <td>7200.000000</td>\n",
       "      <td>54.365319</td>\n",
       "    </tr>\n",
       "  </tbody>\n",
       "</table>\n",
       "</div>"
      ],
      "text/plain": [
       "  paint_color  total_avg_price  avg_price_by_color  diff_avg_price\n",
       "6      orange      15777.47412        18866.666667      -19.579766\n",
       "2       white      15777.47412        17331.716418       -9.851021\n",
       "3         red      15777.47412        16500.000000       -4.579478\n",
       "0       black      15777.47412        16124.754300       -2.201114\n",
       "7       beige      15777.47412        15817.073171       -0.250985\n",
       "1        grey      15777.47412        15487.532024        1.837697\n",
       "8       brown      15777.47412        15350.882353        2.703803\n",
       "5        blue      15777.47412        15070.944993        4.478088\n",
       "4      silver      15777.47412        14816.109422        6.093274\n",
       "9       green      15777.47412         7200.000000       54.365319"
      ]
     },
     "execution_count": 33,
     "metadata": {},
     "output_type": "execute_result"
    }
   ],
   "source": [
    "avg_price_by_color= [np.mean(bmw[bmw.paint_color==each]['price'])  for each in bmw.paint_color.unique() ]\n",
    "paint_dummy_df=pd.DataFrame(bmw.paint_color.unique(),columns=['paint_color'])\n",
    "paint_dummy_df['total_avg_price']=bmw.price.mean()\n",
    "paint_dummy_df['avg_price_by_color']=avg_price_by_color\n",
    "paint_dummy_df['diff_avg_price']=(paint_dummy_df['total_avg_price']-paint_dummy_df['avg_price_by_color'])/paint_dummy_df['total_avg_price']*100\n",
    "paint_dummy_df.sort_values('diff_avg_price')"
   ]
  },
  {
   "cell_type": "markdown",
   "id": "c473f609",
   "metadata": {},
   "source": [
    "- Quick observations:\n",
    "    - Orange cars have almost same median and average price and highest amost all.\n",
    "    - Green cars have least median and average price.\n",
    "    - Other colors of the cars median and average prices are changing in order.\n",
    "    - All the cars paint colors except orange, white, silver and green, average price is within 5% of the total price.\n",
    " - following the observations below weightage can be used for label encoding\n",
    "        - orange -> 5\n",
    "        - white -> 4\n",
    "        - remaing -> 3\n",
    "        - silver -> 2\n",
    "        - green -> 1\n"
   ]
  },
  {
   "cell_type": "code",
   "execution_count": 34,
   "id": "aaece86f",
   "metadata": {},
   "outputs": [],
   "source": [
    "bmw['paint_color_E']=bmw.paint_color.apply(lambda x: 5 if x=='orange' else\n",
    "                                          (4 if x=='white' else(\n",
    "                                          2 if x=='silver' else(\n",
    "                                          1 if x=='green' else 3))))"
   ]
  },
  {
   "cell_type": "code",
   "execution_count": 35,
   "id": "426c760d",
   "metadata": {},
   "outputs": [
    {
     "data": {
      "text/plain": [
       "array(['118', 'M4', '320', '420', '425', '335', '325', 'Z4', '120', '220',\n",
       "       '650', '135', '218', '318', '430', 'M3', '330', '225', 'M235',\n",
       "       '316', '435', '640', '640 Gran Coupé', '435 Gran Coupé', '630',\n",
       "       '430 Gran Coupé', '635', '520', '525', '530', '535',\n",
       "       '320 Gran Turismo', '518', '116', '328', '523', 'X3', 'M550',\n",
       "       '528', '325 Gran Turismo', '125', '318 Gran Turismo',\n",
       "       '420 Gran Coupé', '114', '520 Gran Turismo', '530 Gran Turismo',\n",
       "       'M135', '418 Gran Coupé', '330 Gran Turismo', '335 Gran Turismo',\n",
       "       '730', '123', '535 Gran Turismo', '740', '750', '735', 'M5', 'X5',\n",
       "       'X1', 'X4', 'X6', 'X6 M', 'X5 M', 'X5 M50', '218 Active Tourer',\n",
       "       '218 Gran Tourer', '216', '220 Active Tourer', '216 Gran Tourer',\n",
       "       '216 Active Tourer', '225 Active Tourer', '214 Gran Tourer'],\n",
       "      dtype=object)"
      ]
     },
     "execution_count": 35,
     "metadata": {},
     "output_type": "execute_result"
    }
   ],
   "source": [
    "bmw.model_key.unique()"
   ]
  },
  {
   "cell_type": "code",
   "execution_count": 36,
   "id": "59c228f7",
   "metadata": {
    "scrolled": true
   },
   "outputs": [
    {
     "data": {
      "text/plain": [
       "72"
      ]
     },
     "execution_count": 36,
     "metadata": {},
     "output_type": "execute_result"
    }
   ],
   "source": [
    "bmw.model_key.nunique()"
   ]
  },
  {
   "cell_type": "code",
   "execution_count": 37,
   "id": "bf137327",
   "metadata": {},
   "outputs": [
    {
     "data": {
      "text/plain": [
       "Text(0, 0.5, 'Model keys')"
      ]
     },
     "execution_count": 37,
     "metadata": {},
     "output_type": "execute_result"
    },
    {
     "data": {
      "image/png": "[encoded data removed]",
      "text/plain": [
       "<Figure size 1440x1584 with 1 Axes>"
      ]
     },
     "metadata": {
      "needs_background": "light"
     },
     "output_type": "display_data"
    }
   ],
   "source": [
    "model_key_lst=[]\n",
    "for key in bmw.model_key.unique():\n",
    "    df=bmw[bmw.model_key==key]\n",
    "    model_key_lst.append(df['price'].mean())\n",
    "plt.figure(figsize=(20,22))\n",
    "#x = pd.concat([pd.DataFrame(bmw.model_key.unique(), columns=['Key']), pd.DataFrame(model_key_lst,columns=['value'])], axis = 1).sort_values('value')\n",
    "sns.barplot(y=bmw.model_key.unique()[np.argsort(model_key_lst)],x=sorted(model_key_lst)) \n",
    "plt.xlabel('Avg. price')\n",
    "plt.ylabel('Model keys')"
   ]
  },
  {
   "cell_type": "code",
   "execution_count": 38,
   "id": "d5c3a87f",
   "metadata": {},
   "outputs": [],
   "source": [
    "bmw['model_key_E'] =bmw.model_key.apply(lambda x: 6 if x == 'i8' else(\n",
    "5 if x== 'M4' else(\n",
    "4 if x=='X6 M' else(\n",
    "1 if x == 'X5 M50' else(\n",
    "1 if x in('735', '216', '523', '650', '123', 'Z4', '118', '116', '316',\n",
    "       '630', '318', '114', '220 Active Tourer', '320', '120', '125',\n",
    "       '216 Active Tourer', 'X1') else(\n",
    "2 if x in ('325', '318 Gran Turismo', '525',\n",
    "       '218 Active Tourer', '520', '218 Gran Tourer', '518', '328', '330',\n",
    "       '216 Gran Tourer', '218', '320 Gran Turismo', '214 Gran Tourer',\n",
    "       'X3', '225', '225 Active Tourer', '635', '530', '520 Gran Turismo',\n",
    "       '528', '325 Gran Turismo', '418 Gran Coupé', '530 Gran Turismo',\n",
    "       'ActiveHybrid 5', 'i3', '335', '135') else(\n",
    "3)))))))"
   ]
  },
  {
   "cell_type": "code",
   "execution_count": 39,
   "id": "b5d8928d",
   "metadata": {},
   "outputs": [
    {
     "data": {
      "text/plain": [
       "Index(['maker_key', 'model_key', 'mileage', 'engine_power',\n",
       "       'registration_date', 'fuel', 'paint_color', 'car_type', 'feature_1',\n",
       "       'feature_2', 'feature_3', 'feature_4', 'feature_5', 'feature_6',\n",
       "       'feature_7', 'feature_8', 'price', 'sold_at', 'fuel_E', 'paint_color_E',\n",
       "       'model_key_E'],\n",
       "      dtype='object')"
      ]
     },
     "execution_count": 39,
     "metadata": {},
     "output_type": "execute_result"
    }
   ],
   "source": [
    "bmw.columns"
   ]
  },
  {
   "cell_type": "code",
   "execution_count": 40,
   "id": "570ac14e",
   "metadata": {},
   "outputs": [
    {
     "data": {
      "text/html": [
       "<div>\n",
       "<style scoped>\n",
       "    .dataframe tbody tr th:only-of-type {\n",
       "        vertical-align: middle;\n",
       "    }\n",
       "\n",
       "    .dataframe tbody tr th {\n",
       "        vertical-align: top;\n",
       "    }\n",
       "\n",
       "    .dataframe thead th {\n",
       "        text-align: right;\n",
       "    }\n",
       "</style>\n",
       "<table border=\"1\" class=\"dataframe\">\n",
       "  <thead>\n",
       "    <tr style=\"text-align: right;\">\n",
       "      <th></th>\n",
       "      <th>car_type</th>\n",
       "      <th>mean</th>\n",
       "    </tr>\n",
       "  </thead>\n",
       "  <tbody>\n",
       "    <tr>\n",
       "      <th>1</th>\n",
       "      <td>coupe</td>\n",
       "      <td>21463.106796</td>\n",
       "    </tr>\n",
       "    <tr>\n",
       "      <th>6</th>\n",
       "      <td>suv</td>\n",
       "      <td>21452.277040</td>\n",
       "    </tr>\n",
       "    <tr>\n",
       "      <th>0</th>\n",
       "      <td>convertible</td>\n",
       "      <td>17136.170213</td>\n",
       "    </tr>\n",
       "    <tr>\n",
       "      <th>4</th>\n",
       "      <td>sedan</td>\n",
       "      <td>15962.521441</td>\n",
       "    </tr>\n",
       "    <tr>\n",
       "      <th>7</th>\n",
       "      <td>van</td>\n",
       "      <td>14350.000000</td>\n",
       "    </tr>\n",
       "    <tr>\n",
       "      <th>3</th>\n",
       "      <td>hatchback</td>\n",
       "      <td>13242.939481</td>\n",
       "    </tr>\n",
       "    <tr>\n",
       "      <th>2</th>\n",
       "      <td>estate</td>\n",
       "      <td>13112.141968</td>\n",
       "    </tr>\n",
       "    <tr>\n",
       "      <th>5</th>\n",
       "      <td>subcompact</td>\n",
       "      <td>9362.068966</td>\n",
       "    </tr>\n",
       "  </tbody>\n",
       "</table>\n",
       "</div>"
      ],
      "text/plain": [
       "      car_type          mean\n",
       "1        coupe  21463.106796\n",
       "6          suv  21452.277040\n",
       "0  convertible  17136.170213\n",
       "4        sedan  15962.521441\n",
       "7          van  14350.000000\n",
       "3    hatchback  13242.939481\n",
       "2       estate  13112.141968\n",
       "5   subcompact   9362.068966"
      ]
     },
     "execution_count": 40,
     "metadata": {},
     "output_type": "execute_result"
    }
   ],
   "source": [
    "car_type=[]\n",
    "for each in bmw.car_type.unique():\n",
    "    df=bmw[bmw.car_type==each]\n",
    "    car_type.append(np.mean(df['price']))\n",
    "df=pd.concat([pd.DataFrame(bmw.car_type.unique(),columns=['car_type']),pd.DataFrame(car_type,columns=['mean'])],axis=1).sort_values('mean',ascending=False)\n",
    "df"
   ]
  },
  {
   "cell_type": "code",
   "execution_count": 41,
   "id": "8a857687",
   "metadata": {},
   "outputs": [
    {
     "data": {
      "text/plain": [
       "Text(0, 0.5, 'mean')"
      ]
     },
     "execution_count": 41,
     "metadata": {},
     "output_type": "execute_result"
    },
    {
     "data": {
      "image/png": "[encoded data removed]",
      "text/plain": [
       "<Figure size 720x360 with 1 Axes>"
      ]
     },
     "metadata": {
      "needs_background": "light"
     },
     "output_type": "display_data"
    }
   ],
   "source": [
    "plt.figure(figsize=(10,5))\n",
    "sns.barplot(x='car_type',y='mean',data=df)\n",
    "plt.xlabel('car_type')\n",
    "plt.ylabel('mean')"
   ]
  },
  {
   "cell_type": "code",
   "execution_count": 42,
   "id": "5e73b6c7",
   "metadata": {},
   "outputs": [],
   "source": [
    "bmw['car_type_E']=bmw.car_type.apply(lambda x:1 if x=='subcompact' else(\n",
    "2 if x=='estate' else(\n",
    "3 if x=='hatchback' else(\n",
    "4 if x=='van' else(\n",
    "5 if x=='sedan' else(\n",
    "6 if x=='sedan' else(\n",
    "7 if x=='sedan' else 8)))))))"
   ]
  },
  {
   "cell_type": "code",
   "execution_count": 43,
   "id": "45f5bd78",
   "metadata": {},
   "outputs": [
    {
     "data": {
      "text/html": [
       "<div>\n",
       "<style scoped>\n",
       "    .dataframe tbody tr th:only-of-type {\n",
       "        vertical-align: middle;\n",
       "    }\n",
       "\n",
       "    .dataframe tbody tr th {\n",
       "        vertical-align: top;\n",
       "    }\n",
       "\n",
       "    .dataframe thead th {\n",
       "        text-align: right;\n",
       "    }\n",
       "</style>\n",
       "<table border=\"1\" class=\"dataframe\">\n",
       "  <thead>\n",
       "    <tr style=\"text-align: right;\">\n",
       "      <th></th>\n",
       "      <th>model_key</th>\n",
       "      <th>mean</th>\n",
       "    </tr>\n",
       "  </thead>\n",
       "  <tbody>\n",
       "    <tr>\n",
       "      <th>35</th>\n",
       "      <td>523</td>\n",
       "      <td>207175.250000</td>\n",
       "    </tr>\n",
       "    <tr>\n",
       "      <th>45</th>\n",
       "      <td>530 Gran Turismo</td>\n",
       "      <td>188735.722222</td>\n",
       "    </tr>\n",
       "    <tr>\n",
       "      <th>55</th>\n",
       "      <td>735</td>\n",
       "      <td>184189.000000</td>\n",
       "    </tr>\n",
       "    <tr>\n",
       "      <th>26</th>\n",
       "      <td>635</td>\n",
       "      <td>173302.000000</td>\n",
       "    </tr>\n",
       "    <tr>\n",
       "      <th>28</th>\n",
       "      <td>525</td>\n",
       "      <td>170967.271739</td>\n",
       "    </tr>\n",
       "    <tr>\n",
       "      <th>...</th>\n",
       "      <td>...</td>\n",
       "      <td>...</td>\n",
       "    </tr>\n",
       "    <tr>\n",
       "      <th>70</th>\n",
       "      <td>225 Active Tourer</td>\n",
       "      <td>33300.000000</td>\n",
       "    </tr>\n",
       "    <tr>\n",
       "      <th>9</th>\n",
       "      <td>220</td>\n",
       "      <td>31972.000000</td>\n",
       "    </tr>\n",
       "    <tr>\n",
       "      <th>66</th>\n",
       "      <td>216</td>\n",
       "      <td>31079.000000</td>\n",
       "    </tr>\n",
       "    <tr>\n",
       "      <th>71</th>\n",
       "      <td>214 Gran Tourer</td>\n",
       "      <td>28573.000000</td>\n",
       "    </tr>\n",
       "    <tr>\n",
       "      <th>10</th>\n",
       "      <td>650</td>\n",
       "      <td>24486.500000</td>\n",
       "    </tr>\n",
       "  </tbody>\n",
       "</table>\n",
       "<p>72 rows × 2 columns</p>\n",
       "</div>"
      ],
      "text/plain": [
       "            model_key           mean\n",
       "35                523  207175.250000\n",
       "45   530 Gran Turismo  188735.722222\n",
       "55                735  184189.000000\n",
       "26                635  173302.000000\n",
       "28                525  170967.271739\n",
       "..                ...            ...\n",
       "70  225 Active Tourer   33300.000000\n",
       "9                 220   31972.000000\n",
       "66                216   31079.000000\n",
       "71    214 Gran Tourer   28573.000000\n",
       "10                650   24486.500000\n",
       "\n",
       "[72 rows x 2 columns]"
      ]
     },
     "execution_count": 43,
     "metadata": {},
     "output_type": "execute_result"
    }
   ],
   "source": [
    "### relation between model_key and mileage\n",
    "mileage_mean=[]\n",
    "for each in bmw.model_key.unique():\n",
    "    df= bmw[bmw.model_key==each]\n",
    "    mileage_mean.append(df.mileage.mean())\n",
    "df=pd.concat([pd.DataFrame(bmw.model_key.unique(),columns=['model_key']),pd.DataFrame(mileage_mean,columns=['mean'])],axis=1).sort_values('mean',ascending=False)\n",
    "df"
   ]
  },
  {
   "cell_type": "code",
   "execution_count": 44,
   "id": "caff5b45",
   "metadata": {},
   "outputs": [
    {
     "data": {
      "text/plain": [
       "Text(0, 0.5, 'model_key')"
      ]
     },
     "execution_count": 44,
     "metadata": {},
     "output_type": "execute_result"
    },
    {
     "data": {
      "image/png": "[encoded data removed]",
      "text/plain": [
       "<Figure size 1440x1584 with 1 Axes>"
      ]
     },
     "metadata": {
      "needs_background": "light"
     },
     "output_type": "display_data"
    }
   ],
   "source": [
    "plt.figure(figsize=(20,22))\n",
    "sns.barplot(x='mean',y='model_key',data=df)\n",
    "plt.xlabel('mean')\n",
    "plt.ylabel('model_key')"
   ]
  },
  {
   "cell_type": "code",
   "execution_count": 45,
   "id": "f84de81b",
   "metadata": {},
   "outputs": [],
   "source": [
    "bmw['model_key_mileage_rel'] = bmw.model_key.apply(lambda x : 5 if x == '523' else (\n",
    "4 if x in ('530 Gran Turismo', '735', '635', '525', '335', '530') else (\n",
    "3 if x in ('535', '325 Gran Turismo', '518', '520', '320',\n",
    "       '220 Active Tourer', '730', '318', 'M5', '630', '318 Gran Turismo',\n",
    "       '316', 'M550', '520 Gran Turismo', '335 Gran Turismo', '118', 'X3',\n",
    "       '120', '330', '320 Gran Turismo', 'X5') else (\n",
    "2 if x in ('X1', '740', '325', '328',\n",
    "       'X6', '528', '640 Gran Coupé', '123', '116', '135', 'M3', 'X5 M',\n",
    "       '750', '640', '418 Gran Coupé', '216 Active Tourer',\n",
    "       '430 Gran Coupé', '125', 'Z4') else (\n",
    "1)))))"
   ]
  },
  {
   "cell_type": "code",
   "execution_count": 46,
   "id": "3b189d65",
   "metadata": {},
   "outputs": [
    {
     "data": {
      "text/plain": [
       "Index(['maker_key', 'model_key', 'mileage', 'engine_power',\n",
       "       'registration_date', 'fuel', 'paint_color', 'car_type', 'feature_1',\n",
       "       'feature_2', 'feature_3', 'feature_4', 'feature_5', 'feature_6',\n",
       "       'feature_7', 'feature_8', 'price', 'sold_at', 'fuel_E', 'paint_color_E',\n",
       "       'model_key_E', 'car_type_E', 'model_key_mileage_rel'],\n",
       "      dtype='object')"
      ]
     },
     "execution_count": 46,
     "metadata": {},
     "output_type": "execute_result"
    }
   ],
   "source": [
    "bmw.columns"
   ]
  },
  {
   "cell_type": "code",
   "execution_count": 47,
   "id": "616e245e",
   "metadata": {},
   "outputs": [
    {
     "data": {
      "text/html": [
       "<div>\n",
       "<style scoped>\n",
       "    .dataframe tbody tr th:only-of-type {\n",
       "        vertical-align: middle;\n",
       "    }\n",
       "\n",
       "    .dataframe tbody tr th {\n",
       "        vertical-align: top;\n",
       "    }\n",
       "\n",
       "    .dataframe thead th {\n",
       "        text-align: right;\n",
       "    }\n",
       "</style>\n",
       "<table border=\"1\" class=\"dataframe\">\n",
       "  <thead>\n",
       "    <tr style=\"text-align: right;\">\n",
       "      <th></th>\n",
       "      <th>mileage</th>\n",
       "      <th>engine_power</th>\n",
       "      <th>feature_1</th>\n",
       "      <th>feature_2</th>\n",
       "      <th>feature_3</th>\n",
       "      <th>feature_4</th>\n",
       "      <th>feature_5</th>\n",
       "      <th>feature_6</th>\n",
       "      <th>feature_7</th>\n",
       "      <th>feature_8</th>\n",
       "      <th>price</th>\n",
       "      <th>fuel_E</th>\n",
       "      <th>paint_color_E</th>\n",
       "      <th>model_key_E</th>\n",
       "      <th>car_type_E</th>\n",
       "      <th>model_key_mileage_rel</th>\n",
       "    </tr>\n",
       "  </thead>\n",
       "  <tbody>\n",
       "    <tr>\n",
       "      <th>mileage</th>\n",
       "      <td>1.000000</td>\n",
       "      <td>-0.049803</td>\n",
       "      <td>0.067239</td>\n",
       "      <td>0.010689</td>\n",
       "      <td>0.003253</td>\n",
       "      <td>-0.052397</td>\n",
       "      <td>0.045190</td>\n",
       "      <td>-0.031076</td>\n",
       "      <td>0.153963</td>\n",
       "      <td>-0.039049</td>\n",
       "      <td>-0.407236</td>\n",
       "      <td>0.037536</td>\n",
       "      <td>-0.079606</td>\n",
       "      <td>-0.076101</td>\n",
       "      <td>-0.137097</td>\n",
       "      <td>0.306312</td>\n",
       "    </tr>\n",
       "    <tr>\n",
       "      <th>engine_power</th>\n",
       "      <td>-0.049803</td>\n",
       "      <td>1.000000</td>\n",
       "      <td>0.325628</td>\n",
       "      <td>0.202418</td>\n",
       "      <td>0.316258</td>\n",
       "      <td>0.447666</td>\n",
       "      <td>0.340891</td>\n",
       "      <td>0.232960</td>\n",
       "      <td>0.007044</td>\n",
       "      <td>0.490624</td>\n",
       "      <td>0.645156</td>\n",
       "      <td>-0.121142</td>\n",
       "      <td>0.005679</td>\n",
       "      <td>0.702638</td>\n",
       "      <td>0.288118</td>\n",
       "      <td>0.135894</td>\n",
       "    </tr>\n",
       "    <tr>\n",
       "      <th>feature_1</th>\n",
       "      <td>0.067239</td>\n",
       "      <td>0.325628</td>\n",
       "      <td>1.000000</td>\n",
       "      <td>0.306190</td>\n",
       "      <td>0.255193</td>\n",
       "      <td>0.229739</td>\n",
       "      <td>0.278607</td>\n",
       "      <td>0.134540</td>\n",
       "      <td>0.244483</td>\n",
       "      <td>0.225375</td>\n",
       "      <td>0.269007</td>\n",
       "      <td>0.010487</td>\n",
       "      <td>-0.067894</td>\n",
       "      <td>0.386498</td>\n",
       "      <td>0.139333</td>\n",
       "      <td>0.125743</td>\n",
       "    </tr>\n",
       "    <tr>\n",
       "      <th>feature_2</th>\n",
       "      <td>0.010689</td>\n",
       "      <td>0.202418</td>\n",
       "      <td>0.306190</td>\n",
       "      <td>1.000000</td>\n",
       "      <td>0.150857</td>\n",
       "      <td>0.149692</td>\n",
       "      <td>0.285780</td>\n",
       "      <td>0.136306</td>\n",
       "      <td>0.370222</td>\n",
       "      <td>0.223595</td>\n",
       "      <td>0.249515</td>\n",
       "      <td>0.097926</td>\n",
       "      <td>-0.018423</td>\n",
       "      <td>0.241293</td>\n",
       "      <td>-0.012416</td>\n",
       "      <td>0.140018</td>\n",
       "    </tr>\n",
       "    <tr>\n",
       "      <th>feature_3</th>\n",
       "      <td>0.003253</td>\n",
       "      <td>0.316258</td>\n",
       "      <td>0.255193</td>\n",
       "      <td>0.150857</td>\n",
       "      <td>1.000000</td>\n",
       "      <td>0.200288</td>\n",
       "      <td>0.199066</td>\n",
       "      <td>0.144131</td>\n",
       "      <td>0.061842</td>\n",
       "      <td>0.202963</td>\n",
       "      <td>0.257443</td>\n",
       "      <td>-0.014189</td>\n",
       "      <td>0.002300</td>\n",
       "      <td>0.278881</td>\n",
       "      <td>0.099473</td>\n",
       "      <td>0.059125</td>\n",
       "    </tr>\n",
       "    <tr>\n",
       "      <th>feature_4</th>\n",
       "      <td>-0.052397</td>\n",
       "      <td>0.447666</td>\n",
       "      <td>0.229739</td>\n",
       "      <td>0.149692</td>\n",
       "      <td>0.200288</td>\n",
       "      <td>1.000000</td>\n",
       "      <td>0.249705</td>\n",
       "      <td>0.154052</td>\n",
       "      <td>0.125865</td>\n",
       "      <td>0.276991</td>\n",
       "      <td>0.418372</td>\n",
       "      <td>0.074364</td>\n",
       "      <td>-0.038928</td>\n",
       "      <td>0.429634</td>\n",
       "      <td>0.400251</td>\n",
       "      <td>0.046160</td>\n",
       "    </tr>\n",
       "    <tr>\n",
       "      <th>feature_5</th>\n",
       "      <td>0.045190</td>\n",
       "      <td>0.340891</td>\n",
       "      <td>0.278607</td>\n",
       "      <td>0.285780</td>\n",
       "      <td>0.199066</td>\n",
       "      <td>0.249705</td>\n",
       "      <td>1.000000</td>\n",
       "      <td>0.256527</td>\n",
       "      <td>0.202967</td>\n",
       "      <td>0.333391</td>\n",
       "      <td>0.269097</td>\n",
       "      <td>-0.006254</td>\n",
       "      <td>0.040766</td>\n",
       "      <td>0.331558</td>\n",
       "      <td>0.069769</td>\n",
       "      <td>0.119358</td>\n",
       "    </tr>\n",
       "    <tr>\n",
       "      <th>feature_6</th>\n",
       "      <td>-0.031076</td>\n",
       "      <td>0.232960</td>\n",
       "      <td>0.134540</td>\n",
       "      <td>0.136306</td>\n",
       "      <td>0.144131</td>\n",
       "      <td>0.154052</td>\n",
       "      <td>0.256527</td>\n",
       "      <td>1.000000</td>\n",
       "      <td>0.129094</td>\n",
       "      <td>0.121357</td>\n",
       "      <td>0.217233</td>\n",
       "      <td>-0.029306</td>\n",
       "      <td>0.056297</td>\n",
       "      <td>0.153602</td>\n",
       "      <td>0.050859</td>\n",
       "      <td>-0.009134</td>\n",
       "    </tr>\n",
       "    <tr>\n",
       "      <th>feature_7</th>\n",
       "      <td>0.153963</td>\n",
       "      <td>0.007044</td>\n",
       "      <td>0.244483</td>\n",
       "      <td>0.370222</td>\n",
       "      <td>0.061842</td>\n",
       "      <td>0.125865</td>\n",
       "      <td>0.202967</td>\n",
       "      <td>0.129094</td>\n",
       "      <td>1.000000</td>\n",
       "      <td>-0.065092</td>\n",
       "      <td>-0.000115</td>\n",
       "      <td>0.046806</td>\n",
       "      <td>-0.069738</td>\n",
       "      <td>0.043669</td>\n",
       "      <td>-0.094515</td>\n",
       "      <td>0.067412</td>\n",
       "    </tr>\n",
       "    <tr>\n",
       "      <th>feature_8</th>\n",
       "      <td>-0.039049</td>\n",
       "      <td>0.490624</td>\n",
       "      <td>0.225375</td>\n",
       "      <td>0.223595</td>\n",
       "      <td>0.202963</td>\n",
       "      <td>0.276991</td>\n",
       "      <td>0.333391</td>\n",
       "      <td>0.121357</td>\n",
       "      <td>-0.065092</td>\n",
       "      <td>1.000000</td>\n",
       "      <td>0.445395</td>\n",
       "      <td>0.006761</td>\n",
       "      <td>0.024442</td>\n",
       "      <td>0.439476</td>\n",
       "      <td>0.164262</td>\n",
       "      <td>0.159772</td>\n",
       "    </tr>\n",
       "    <tr>\n",
       "      <th>price</th>\n",
       "      <td>-0.407236</td>\n",
       "      <td>0.645156</td>\n",
       "      <td>0.269007</td>\n",
       "      <td>0.249515</td>\n",
       "      <td>0.257443</td>\n",
       "      <td>0.418372</td>\n",
       "      <td>0.269097</td>\n",
       "      <td>0.217233</td>\n",
       "      <td>-0.000115</td>\n",
       "      <td>0.445395</td>\n",
       "      <td>1.000000</td>\n",
       "      <td>0.030778</td>\n",
       "      <td>0.076612</td>\n",
       "      <td>0.653706</td>\n",
       "      <td>0.371794</td>\n",
       "      <td>-0.114585</td>\n",
       "    </tr>\n",
       "    <tr>\n",
       "      <th>fuel_E</th>\n",
       "      <td>0.037536</td>\n",
       "      <td>-0.121142</td>\n",
       "      <td>0.010487</td>\n",
       "      <td>0.097926</td>\n",
       "      <td>-0.014189</td>\n",
       "      <td>0.074364</td>\n",
       "      <td>-0.006254</td>\n",
       "      <td>-0.029306</td>\n",
       "      <td>0.046806</td>\n",
       "      <td>0.006761</td>\n",
       "      <td>0.030778</td>\n",
       "      <td>1.000000</td>\n",
       "      <td>0.012517</td>\n",
       "      <td>-0.009291</td>\n",
       "      <td>-0.037817</td>\n",
       "      <td>0.098171</td>\n",
       "    </tr>\n",
       "    <tr>\n",
       "      <th>paint_color_E</th>\n",
       "      <td>-0.079606</td>\n",
       "      <td>0.005679</td>\n",
       "      <td>-0.067894</td>\n",
       "      <td>-0.018423</td>\n",
       "      <td>0.002300</td>\n",
       "      <td>-0.038928</td>\n",
       "      <td>0.040766</td>\n",
       "      <td>0.056297</td>\n",
       "      <td>-0.069738</td>\n",
       "      <td>0.024442</td>\n",
       "      <td>0.076612</td>\n",
       "      <td>0.012517</td>\n",
       "      <td>1.000000</td>\n",
       "      <td>-0.013163</td>\n",
       "      <td>0.011329</td>\n",
       "      <td>-0.099480</td>\n",
       "    </tr>\n",
       "    <tr>\n",
       "      <th>model_key_E</th>\n",
       "      <td>-0.076101</td>\n",
       "      <td>0.702638</td>\n",
       "      <td>0.386498</td>\n",
       "      <td>0.241293</td>\n",
       "      <td>0.278881</td>\n",
       "      <td>0.429634</td>\n",
       "      <td>0.331558</td>\n",
       "      <td>0.153602</td>\n",
       "      <td>0.043669</td>\n",
       "      <td>0.439476</td>\n",
       "      <td>0.653706</td>\n",
       "      <td>-0.009291</td>\n",
       "      <td>-0.013163</td>\n",
       "      <td>1.000000</td>\n",
       "      <td>0.394384</td>\n",
       "      <td>-0.048898</td>\n",
       "    </tr>\n",
       "    <tr>\n",
       "      <th>car_type_E</th>\n",
       "      <td>-0.137097</td>\n",
       "      <td>0.288118</td>\n",
       "      <td>0.139333</td>\n",
       "      <td>-0.012416</td>\n",
       "      <td>0.099473</td>\n",
       "      <td>0.400251</td>\n",
       "      <td>0.069769</td>\n",
       "      <td>0.050859</td>\n",
       "      <td>-0.094515</td>\n",
       "      <td>0.164262</td>\n",
       "      <td>0.371794</td>\n",
       "      <td>-0.037817</td>\n",
       "      <td>0.011329</td>\n",
       "      <td>0.394384</td>\n",
       "      <td>1.000000</td>\n",
       "      <td>-0.240086</td>\n",
       "    </tr>\n",
       "    <tr>\n",
       "      <th>model_key_mileage_rel</th>\n",
       "      <td>0.306312</td>\n",
       "      <td>0.135894</td>\n",
       "      <td>0.125743</td>\n",
       "      <td>0.140018</td>\n",
       "      <td>0.059125</td>\n",
       "      <td>0.046160</td>\n",
       "      <td>0.119358</td>\n",
       "      <td>-0.009134</td>\n",
       "      <td>0.067412</td>\n",
       "      <td>0.159772</td>\n",
       "      <td>-0.114585</td>\n",
       "      <td>0.098171</td>\n",
       "      <td>-0.099480</td>\n",
       "      <td>-0.048898</td>\n",
       "      <td>-0.240086</td>\n",
       "      <td>1.000000</td>\n",
       "    </tr>\n",
       "  </tbody>\n",
       "</table>\n",
       "</div>"
      ],
      "text/plain": [
       "                        mileage  engine_power  feature_1  feature_2  \\\n",
       "mileage                1.000000     -0.049803   0.067239   0.010689   \n",
       "engine_power          -0.049803      1.000000   0.325628   0.202418   \n",
       "feature_1              0.067239      0.325628   1.000000   0.306190   \n",
       "feature_2              0.010689      0.202418   0.306190   1.000000   \n",
       "feature_3              0.003253      0.316258   0.255193   0.150857   \n",
       "feature_4             -0.052397      0.447666   0.229739   0.149692   \n",
       "feature_5              0.045190      0.340891   0.278607   0.285780   \n",
       "feature_6             -0.031076      0.232960   0.134540   0.136306   \n",
       "feature_7              0.153963      0.007044   0.244483   0.370222   \n",
       "feature_8             -0.039049      0.490624   0.225375   0.223595   \n",
       "price                 -0.407236      0.645156   0.269007   0.249515   \n",
       "fuel_E                 0.037536     -0.121142   0.010487   0.097926   \n",
       "paint_color_E         -0.079606      0.005679  -0.067894  -0.018423   \n",
       "model_key_E           -0.076101      0.702638   0.386498   0.241293   \n",
       "car_type_E            -0.137097      0.288118   0.139333  -0.012416   \n",
       "model_key_mileage_rel  0.306312      0.135894   0.125743   0.140018   \n",
       "\n",
       "                       feature_3  feature_4  feature_5  feature_6  feature_7  \\\n",
       "mileage                 0.003253  -0.052397   0.045190  -0.031076   0.153963   \n",
       "engine_power            0.316258   0.447666   0.340891   0.232960   0.007044   \n",
       "feature_1               0.255193   0.229739   0.278607   0.134540   0.244483   \n",
       "feature_2               0.150857   0.149692   0.285780   0.136306   0.370222   \n",
       "feature_3               1.000000   0.200288   0.199066   0.144131   0.061842   \n",
       "feature_4               0.200288   1.000000   0.249705   0.154052   0.125865   \n",
       "feature_5               0.199066   0.249705   1.000000   0.256527   0.202967   \n",
       "feature_6               0.144131   0.154052   0.256527   1.000000   0.129094   \n",
       "feature_7               0.061842   0.125865   0.202967   0.129094   1.000000   \n",
       "feature_8               0.202963   0.276991   0.333391   0.121357  -0.065092   \n",
       "price                   0.257443   0.418372   0.269097   0.217233  -0.000115   \n",
       "fuel_E                 -0.014189   0.074364  -0.006254  -0.029306   0.046806   \n",
       "paint_color_E           0.002300  -0.038928   0.040766   0.056297  -0.069738   \n",
       "model_key_E             0.278881   0.429634   0.331558   0.153602   0.043669   \n",
       "car_type_E              0.099473   0.400251   0.069769   0.050859  -0.094515   \n",
       "model_key_mileage_rel   0.059125   0.046160   0.119358  -0.009134   0.067412   \n",
       "\n",
       "                       feature_8     price    fuel_E  paint_color_E  \\\n",
       "mileage                -0.039049 -0.407236  0.037536      -0.079606   \n",
       "engine_power            0.490624  0.645156 -0.121142       0.005679   \n",
       "feature_1               0.225375  0.269007  0.010487      -0.067894   \n",
       "feature_2               0.223595  0.249515  0.097926      -0.018423   \n",
       "feature_3               0.202963  0.257443 -0.014189       0.002300   \n",
       "feature_4               0.276991  0.418372  0.074364      -0.038928   \n",
       "feature_5               0.333391  0.269097 -0.006254       0.040766   \n",
       "feature_6               0.121357  0.217233 -0.029306       0.056297   \n",
       "feature_7              -0.065092 -0.000115  0.046806      -0.069738   \n",
       "feature_8               1.000000  0.445395  0.006761       0.024442   \n",
       "price                   0.445395  1.000000  0.030778       0.076612   \n",
       "fuel_E                  0.006761  0.030778  1.000000       0.012517   \n",
       "paint_color_E           0.024442  0.076612  0.012517       1.000000   \n",
       "model_key_E             0.439476  0.653706 -0.009291      -0.013163   \n",
       "car_type_E              0.164262  0.371794 -0.037817       0.011329   \n",
       "model_key_mileage_rel   0.159772 -0.114585  0.098171      -0.099480   \n",
       "\n",
       "                       model_key_E  car_type_E  model_key_mileage_rel  \n",
       "mileage                  -0.076101   -0.137097               0.306312  \n",
       "engine_power              0.702638    0.288118               0.135894  \n",
       "feature_1                 0.386498    0.139333               0.125743  \n",
       "feature_2                 0.241293   -0.012416               0.140018  \n",
       "feature_3                 0.278881    0.099473               0.059125  \n",
       "feature_4                 0.429634    0.400251               0.046160  \n",
       "feature_5                 0.331558    0.069769               0.119358  \n",
       "feature_6                 0.153602    0.050859              -0.009134  \n",
       "feature_7                 0.043669   -0.094515               0.067412  \n",
       "feature_8                 0.439476    0.164262               0.159772  \n",
       "price                     0.653706    0.371794              -0.114585  \n",
       "fuel_E                   -0.009291   -0.037817               0.098171  \n",
       "paint_color_E            -0.013163    0.011329              -0.099480  \n",
       "model_key_E               1.000000    0.394384              -0.048898  \n",
       "car_type_E                0.394384    1.000000              -0.240086  \n",
       "model_key_mileage_rel    -0.048898   -0.240086               1.000000  "
      ]
     },
     "execution_count": 47,
     "metadata": {},
     "output_type": "execute_result"
    }
   ],
   "source": [
    "bmw.corr()"
   ]
  },
  {
   "cell_type": "code",
   "execution_count": 48,
   "id": "c1c37a35",
   "metadata": {},
   "outputs": [
    {
     "data": {
      "text/plain": [
       "<AxesSubplot:>"
      ]
     },
     "execution_count": 48,
     "metadata": {},
     "output_type": "execute_result"
    },
    {
     "data": {
      "image/png": "[encoded data removed]",
      "text/plain": [
       "<Figure size 720x576 with 2 Axes>"
      ]
     },
     "metadata": {
      "needs_background": "light"
     },
     "output_type": "display_data"
    }
   ],
   "source": [
    "plt.figure(figsize=(10,8))\n",
    "sns.heatmap(bmw.corr(),annot=True)"
   ]
  },
  {
   "cell_type": "markdown",
   "id": "a70a8db6",
   "metadata": {},
   "source": [
    "- Observation:\n",
    "    - But  Mileage and Price has some  negatively correlation (-0.41)\n",
    "    - Engine Power and Price has positive correlation (0.64)\n",
    "    - Model-key is highly correlated with price(0.7)\n",
    "    - engine-power and model key are highly correlated.but considering both of them best features  keeping both of them"
   ]
  },
  {
   "cell_type": "code",
   "execution_count": 49,
   "id": "7093faf7",
   "metadata": {},
   "outputs": [
    {
     "data": {
      "image/png": "[encoded data removed]",
      "text/plain": [
       "<Figure size 1440x1080 with 4 Axes>"
      ]
     },
     "metadata": {
      "needs_background": "light"
     },
     "output_type": "display_data"
    }
   ],
   "source": [
    "fig,ax=plt.subplots(2,2,figsize=(20,15))\n",
    "sns.distplot(bmw['engine_power'],ax=ax[0,0])\n",
    "sns.distplot(bmw['mileage'],ax=ax[0,1],color='g')\n",
    "sns.scatterplot(bmw['engine_power'],bmw['price'],ax=ax[1,0])\n",
    "sns.scatterplot(bmw['mileage'],bmw['price'],ax=ax[1,1],color='g')\n",
    "plt.show()"
   ]
  },
  {
   "cell_type": "markdown",
   "id": "50c47dcc",
   "metadata": {},
   "source": [
    "- Observation:\n",
    "    \n",
    "   - when we Observe Engine Power and Price scatter plot, when engine power increase price of the increases\n",
    "   - when we Observe mileage and Price scatter plot,when mileage of the car (distance travelled by car) increase price of the decrease\n",
    "   - But due to some outliers presence ,there is no strong relation ship to conclude price depends on engine power ,mileage  "
   ]
  },
  {
   "cell_type": "code",
   "execution_count": 50,
   "id": "10fad7a2",
   "metadata": {},
   "outputs": [
    {
     "data": {
      "text/html": [
       "<div>\n",
       "<style scoped>\n",
       "    .dataframe tbody tr th:only-of-type {\n",
       "        vertical-align: middle;\n",
       "    }\n",
       "\n",
       "    .dataframe tbody tr th {\n",
       "        vertical-align: top;\n",
       "    }\n",
       "\n",
       "    .dataframe thead th {\n",
       "        text-align: right;\n",
       "    }\n",
       "</style>\n",
       "<table border=\"1\" class=\"dataframe\">\n",
       "  <thead>\n",
       "    <tr style=\"text-align: right;\">\n",
       "      <th></th>\n",
       "      <th>maker_key</th>\n",
       "      <th>model_key</th>\n",
       "      <th>mileage</th>\n",
       "      <th>engine_power</th>\n",
       "      <th>registration_date</th>\n",
       "      <th>fuel</th>\n",
       "      <th>paint_color</th>\n",
       "      <th>car_type</th>\n",
       "      <th>feature_1</th>\n",
       "      <th>feature_2</th>\n",
       "      <th>...</th>\n",
       "      <th>feature_6</th>\n",
       "      <th>feature_7</th>\n",
       "      <th>feature_8</th>\n",
       "      <th>price</th>\n",
       "      <th>sold_at</th>\n",
       "      <th>fuel_E</th>\n",
       "      <th>paint_color_E</th>\n",
       "      <th>model_key_E</th>\n",
       "      <th>car_type_E</th>\n",
       "      <th>model_key_mileage_rel</th>\n",
       "    </tr>\n",
       "  </thead>\n",
       "  <tbody>\n",
       "    <tr>\n",
       "      <th>2390</th>\n",
       "      <td>BMW</td>\n",
       "      <td>318</td>\n",
       "      <td>170529</td>\n",
       "      <td>66</td>\n",
       "      <td>01-05-2000</td>\n",
       "      <td>diesel</td>\n",
       "      <td>silver</td>\n",
       "      <td>hatchback</td>\n",
       "      <td>0</td>\n",
       "      <td>0</td>\n",
       "      <td>...</td>\n",
       "      <td>0</td>\n",
       "      <td>0</td>\n",
       "      <td>0</td>\n",
       "      <td>1000</td>\n",
       "      <td>01-08-2018</td>\n",
       "      <td>2</td>\n",
       "      <td>2</td>\n",
       "      <td>1</td>\n",
       "      <td>3</td>\n",
       "      <td>3</td>\n",
       "    </tr>\n",
       "    <tr>\n",
       "      <th>2771</th>\n",
       "      <td>BMW</td>\n",
       "      <td>316</td>\n",
       "      <td>146951</td>\n",
       "      <td>66</td>\n",
       "      <td>01-03-1990</td>\n",
       "      <td>petrol</td>\n",
       "      <td>white</td>\n",
       "      <td>sedan</td>\n",
       "      <td>0</td>\n",
       "      <td>0</td>\n",
       "      <td>...</td>\n",
       "      <td>0</td>\n",
       "      <td>0</td>\n",
       "      <td>0</td>\n",
       "      <td>1300</td>\n",
       "      <td>01-04-2018</td>\n",
       "      <td>1</td>\n",
       "      <td>4</td>\n",
       "      <td>1</td>\n",
       "      <td>5</td>\n",
       "      <td>3</td>\n",
       "    </tr>\n",
       "  </tbody>\n",
       "</table>\n",
       "<p>2 rows × 23 columns</p>\n",
       "</div>"
      ],
      "text/plain": [
       "     maker_key model_key  mileage  engine_power registration_date    fuel  \\\n",
       "2390       BMW       318   170529            66        01-05-2000  diesel   \n",
       "2771       BMW       316   146951            66        01-03-1990  petrol   \n",
       "\n",
       "     paint_color   car_type  feature_1  feature_2  ...  feature_6  feature_7  \\\n",
       "2390      silver  hatchback          0          0  ...          0          0   \n",
       "2771       white      sedan          0          0  ...          0          0   \n",
       "\n",
       "      feature_8  price     sold_at  fuel_E  paint_color_E model_key_E  \\\n",
       "2390          0   1000  01-08-2018       2              2           1   \n",
       "2771          0   1300  01-04-2018       1              4           1   \n",
       "\n",
       "      car_type_E  model_key_mileage_rel  \n",
       "2390           3                      3  \n",
       "2771           5                      3  \n",
       "\n",
       "[2 rows x 23 columns]"
      ]
     },
     "execution_count": 50,
     "metadata": {},
     "output_type": "execute_result"
    }
   ],
   "source": [
    "bmw[bmw.engine_power==bmw.engine_power.min()]"
   ]
  },
  {
   "cell_type": "code",
   "execution_count": 51,
   "id": "084c4921",
   "metadata": {},
   "outputs": [
    {
     "data": {
      "text/html": [
       "<div>\n",
       "<style scoped>\n",
       "    .dataframe tbody tr th:only-of-type {\n",
       "        vertical-align: middle;\n",
       "    }\n",
       "\n",
       "    .dataframe tbody tr th {\n",
       "        vertical-align: top;\n",
       "    }\n",
       "\n",
       "    .dataframe thead th {\n",
       "        text-align: right;\n",
       "    }\n",
       "</style>\n",
       "<table border=\"1\" class=\"dataframe\">\n",
       "  <thead>\n",
       "    <tr style=\"text-align: right;\">\n",
       "      <th></th>\n",
       "      <th>maker_key</th>\n",
       "      <th>model_key</th>\n",
       "      <th>mileage</th>\n",
       "      <th>engine_power</th>\n",
       "      <th>registration_date</th>\n",
       "      <th>fuel</th>\n",
       "      <th>paint_color</th>\n",
       "      <th>car_type</th>\n",
       "      <th>feature_1</th>\n",
       "      <th>feature_2</th>\n",
       "      <th>...</th>\n",
       "      <th>feature_6</th>\n",
       "      <th>feature_7</th>\n",
       "      <th>feature_8</th>\n",
       "      <th>price</th>\n",
       "      <th>sold_at</th>\n",
       "      <th>fuel_E</th>\n",
       "      <th>paint_color_E</th>\n",
       "      <th>model_key_E</th>\n",
       "      <th>car_type_E</th>\n",
       "      <th>model_key_mileage_rel</th>\n",
       "    </tr>\n",
       "  </thead>\n",
       "  <tbody>\n",
       "    <tr>\n",
       "      <th>4146</th>\n",
       "      <td>BMW</td>\n",
       "      <td>X6 M</td>\n",
       "      <td>2970</td>\n",
       "      <td>423</td>\n",
       "      <td>01-04-2016</td>\n",
       "      <td>petrol</td>\n",
       "      <td>red</td>\n",
       "      <td>suv</td>\n",
       "      <td>1</td>\n",
       "      <td>1</td>\n",
       "      <td>...</td>\n",
       "      <td>0</td>\n",
       "      <td>1</td>\n",
       "      <td>1</td>\n",
       "      <td>82400</td>\n",
       "      <td>01-04-2018</td>\n",
       "      <td>1</td>\n",
       "      <td>3</td>\n",
       "      <td>4</td>\n",
       "      <td>8</td>\n",
       "      <td>1</td>\n",
       "    </tr>\n",
       "  </tbody>\n",
       "</table>\n",
       "<p>1 rows × 23 columns</p>\n",
       "</div>"
      ],
      "text/plain": [
       "     maker_key model_key  mileage  engine_power registration_date    fuel  \\\n",
       "4146       BMW      X6 M     2970           423        01-04-2016  petrol   \n",
       "\n",
       "     paint_color car_type  feature_1  feature_2  ...  feature_6  feature_7  \\\n",
       "4146         red      suv          1          1  ...          0          1   \n",
       "\n",
       "      feature_8  price     sold_at  fuel_E  paint_color_E model_key_E  \\\n",
       "4146          1  82400  01-04-2018       1              3           4   \n",
       "\n",
       "      car_type_E  model_key_mileage_rel  \n",
       "4146           8                      1  \n",
       "\n",
       "[1 rows x 23 columns]"
      ]
     },
     "execution_count": 51,
     "metadata": {},
     "output_type": "execute_result"
    }
   ],
   "source": [
    "bmw[bmw.engine_power==bmw.engine_power.max()]"
   ]
  },
  {
   "cell_type": "markdown",
   "id": "cdfbb0a1",
   "metadata": {},
   "source": [
    " To analysis Engine power and price convert the engine power of data to certain values for better visualization"
   ]
  },
  {
   "cell_type": "code",
   "execution_count": 52,
   "id": "ce3a12a2",
   "metadata": {},
   "outputs": [
    {
     "data": {
      "text/html": [
       "<div>\n",
       "<style scoped>\n",
       "    .dataframe tbody tr th:only-of-type {\n",
       "        vertical-align: middle;\n",
       "    }\n",
       "\n",
       "    .dataframe tbody tr th {\n",
       "        vertical-align: top;\n",
       "    }\n",
       "\n",
       "    .dataframe thead th {\n",
       "        text-align: right;\n",
       "    }\n",
       "</style>\n",
       "<table border=\"1\" class=\"dataframe\">\n",
       "  <thead>\n",
       "    <tr style=\"text-align: right;\">\n",
       "      <th></th>\n",
       "      <th>Ep_bucket</th>\n",
       "      <th>price</th>\n",
       "    </tr>\n",
       "  </thead>\n",
       "  <tbody>\n",
       "    <tr>\n",
       "      <th>0</th>\n",
       "      <td>[100-200]</td>\n",
       "      <td>15839.498189</td>\n",
       "    </tr>\n",
       "    <tr>\n",
       "      <th>1</th>\n",
       "      <td>[100]</td>\n",
       "      <td>9613.314448</td>\n",
       "    </tr>\n",
       "    <tr>\n",
       "      <th>2</th>\n",
       "      <td>[200-300]</td>\n",
       "      <td>31018.145161</td>\n",
       "    </tr>\n",
       "    <tr>\n",
       "      <th>3</th>\n",
       "      <td>[300-400]</td>\n",
       "      <td>45775.000000</td>\n",
       "    </tr>\n",
       "    <tr>\n",
       "      <th>4</th>\n",
       "      <td>[400]</td>\n",
       "      <td>62000.000000</td>\n",
       "    </tr>\n",
       "  </tbody>\n",
       "</table>\n",
       "</div>"
      ],
      "text/plain": [
       "   Ep_bucket         price\n",
       "0  [100-200]  15839.498189\n",
       "1      [100]   9613.314448\n",
       "2  [200-300]  31018.145161\n",
       "3  [300-400]  45775.000000\n",
       "4      [400]  62000.000000"
      ]
     },
     "execution_count": 52,
     "metadata": {},
     "output_type": "execute_result"
    }
   ],
   "source": [
    "### bucketing price \n",
    "bmw['Ep_bucket']=bmw.engine_power.apply(lambda x: '[100]' if x < 100 else ('[100-200]'  if x < 200 else ('[200-300]' if x < 300 else ('[300-400]' if x < 400 else '[400]') )))\n",
    "x = bmw.groupby('Ep_bucket')['price'].mean().reset_index()\n",
    "x"
   ]
  },
  {
   "cell_type": "code",
   "execution_count": 53,
   "id": "472c724a",
   "metadata": {},
   "outputs": [
    {
     "data": {
      "image/png": "[encoded data removed]",
      "text/plain": [
       "<Figure size 432x288 with 1 Axes>"
      ]
     },
     "metadata": {
      "needs_background": "light"
     },
     "output_type": "display_data"
    },
    {
     "data": {
      "image/png": "[encoded data removed]",
      "text/plain": [
       "<Figure size 432x288 with 1 Axes>"
      ]
     },
     "metadata": {
      "needs_background": "light"
     },
     "output_type": "display_data"
    }
   ],
   "source": [
    "sns.barplot(x=x.Ep_bucket,y=x.price).set_ylabel('Avg. price')\n",
    "plt.show()\n",
    "x=bmw.groupby('Ep_bucket')['price'].count().reset_index()\n",
    "sns.barplot(x=x.Ep_bucket,y=x.price).set_ylabel('Count')\n",
    "plt.show()"
   ]
  },
  {
   "cell_type": "code",
   "execution_count": 54,
   "id": "5658c437",
   "metadata": {},
   "outputs": [
    {
     "data": {
      "text/html": [
       "<div>\n",
       "<style scoped>\n",
       "    .dataframe tbody tr th:only-of-type {\n",
       "        vertical-align: middle;\n",
       "    }\n",
       "\n",
       "    .dataframe tbody tr th {\n",
       "        vertical-align: top;\n",
       "    }\n",
       "\n",
       "    .dataframe thead th {\n",
       "        text-align: right;\n",
       "    }\n",
       "</style>\n",
       "<table border=\"1\" class=\"dataframe\">\n",
       "  <thead>\n",
       "    <tr style=\"text-align: right;\">\n",
       "      <th></th>\n",
       "      <th>count</th>\n",
       "      <th>mean</th>\n",
       "      <th>std</th>\n",
       "      <th>min</th>\n",
       "      <th>25%</th>\n",
       "      <th>50%</th>\n",
       "      <th>75%</th>\n",
       "      <th>max</th>\n",
       "    </tr>\n",
       "    <tr>\n",
       "      <th>Ep_bucket</th>\n",
       "      <th></th>\n",
       "      <th></th>\n",
       "      <th></th>\n",
       "      <th></th>\n",
       "      <th></th>\n",
       "      <th></th>\n",
       "      <th></th>\n",
       "      <th></th>\n",
       "    </tr>\n",
       "  </thead>\n",
       "  <tbody>\n",
       "    <tr>\n",
       "      <th>[100-200]</th>\n",
       "      <td>3866.0</td>\n",
       "      <td>15839.498189</td>\n",
       "      <td>8069.718822</td>\n",
       "      <td>100.0</td>\n",
       "      <td>11800.0</td>\n",
       "      <td>14800.0</td>\n",
       "      <td>18700.0</td>\n",
       "      <td>178500.0</td>\n",
       "    </tr>\n",
       "    <tr>\n",
       "      <th>[100]</th>\n",
       "      <td>706.0</td>\n",
       "      <td>9613.314448</td>\n",
       "      <td>3515.468320</td>\n",
       "      <td>100.0</td>\n",
       "      <td>8300.0</td>\n",
       "      <td>10000.0</td>\n",
       "      <td>11400.0</td>\n",
       "      <td>21700.0</td>\n",
       "    </tr>\n",
       "    <tr>\n",
       "      <th>[200-300]</th>\n",
       "      <td>248.0</td>\n",
       "      <td>31018.145161</td>\n",
       "      <td>12831.358404</td>\n",
       "      <td>4500.0</td>\n",
       "      <td>21850.0</td>\n",
       "      <td>29450.0</td>\n",
       "      <td>38975.0</td>\n",
       "      <td>73100.0</td>\n",
       "    </tr>\n",
       "    <tr>\n",
       "      <th>[300-400]</th>\n",
       "      <td>8.0</td>\n",
       "      <td>45775.000000</td>\n",
       "      <td>14247.280442</td>\n",
       "      <td>28000.0</td>\n",
       "      <td>33925.0</td>\n",
       "      <td>49100.0</td>\n",
       "      <td>52700.0</td>\n",
       "      <td>69700.0</td>\n",
       "    </tr>\n",
       "    <tr>\n",
       "      <th>[400]</th>\n",
       "      <td>2.0</td>\n",
       "      <td>62000.000000</td>\n",
       "      <td>28849.956672</td>\n",
       "      <td>41600.0</td>\n",
       "      <td>51800.0</td>\n",
       "      <td>62000.0</td>\n",
       "      <td>72200.0</td>\n",
       "      <td>82400.0</td>\n",
       "    </tr>\n",
       "  </tbody>\n",
       "</table>\n",
       "</div>"
      ],
      "text/plain": [
       "            count          mean           std      min      25%      50%  \\\n",
       "Ep_bucket                                                                  \n",
       "[100-200]  3866.0  15839.498189   8069.718822    100.0  11800.0  14800.0   \n",
       "[100]       706.0   9613.314448   3515.468320    100.0   8300.0  10000.0   \n",
       "[200-300]   248.0  31018.145161  12831.358404   4500.0  21850.0  29450.0   \n",
       "[300-400]     8.0  45775.000000  14247.280442  28000.0  33925.0  49100.0   \n",
       "[400]         2.0  62000.000000  28849.956672  41600.0  51800.0  62000.0   \n",
       "\n",
       "               75%       max  \n",
       "Ep_bucket                     \n",
       "[100-200]  18700.0  178500.0  \n",
       "[100]      11400.0   21700.0  \n",
       "[200-300]  38975.0   73100.0  \n",
       "[300-400]  52700.0   69700.0  \n",
       "[400]      72200.0   82400.0  "
      ]
     },
     "execution_count": 54,
     "metadata": {},
     "output_type": "execute_result"
    }
   ],
   "source": [
    "bmw.groupby('Ep_bucket')['price'].describe()"
   ]
  },
  {
   "cell_type": "markdown",
   "id": "6fb664b1",
   "metadata": {},
   "source": [
    "- Observation:\n",
    "    - There are around 3800 cars in this which has Engine power between 100-200  and avg.price is 15870\n",
    "    -  2 cars has 400 engine power and avg. price is 62000"
   ]
  },
  {
   "cell_type": "markdown",
   "id": "159c2d96",
   "metadata": {},
   "source": [
    "### Target Analysis"
   ]
  },
  {
   "cell_type": "code",
   "execution_count": 55,
   "id": "b90fa6bb",
   "metadata": {},
   "outputs": [
    {
     "data": {
      "text/plain": [
       "<AxesSubplot:xlabel='price', ylabel='Density'>"
      ]
     },
     "execution_count": 55,
     "metadata": {},
     "output_type": "execute_result"
    },
    {
     "data": {
      "image/png": "[encoded data removed]",
      "text/plain": [
       "<Figure size 1080x288 with 3 Axes>"
      ]
     },
     "metadata": {
      "needs_background": "light"
     },
     "output_type": "display_data"
    }
   ],
   "source": [
    "fig,ax=plt.subplots(1,3,figsize=(15,4))\n",
    "sns.distplot(bmw.price,color='c',ax=ax[0])\n",
    "sns.distplot(np.log1p(bmw.price),color='g',ax=ax[1])\n",
    "sns.distplot(np.sqrt(bmw.price),color='b',ax=ax[2])"
   ]
  },
  {
   "cell_type": "markdown",
   "id": "43c0df7d",
   "metadata": {},
   "source": [
    "Target has some outliers, most of the cars price in between 0-50000"
   ]
  },
  {
   "cell_type": "markdown",
   "id": "a68454a9",
   "metadata": {},
   "source": [
    "### Date related feature analysis"
   ]
  },
  {
   "cell_type": "code",
   "execution_count": 56,
   "id": "a95c1b02",
   "metadata": {},
   "outputs": [
    {
     "name": "stdout",
     "output_type": "stream",
     "text": [
      "<class 'pandas.core.frame.DataFrame'>\n",
      "Int64Index: 4830 entries, 0 to 4842\n",
      "Data columns (total 24 columns):\n",
      " #   Column                 Non-Null Count  Dtype \n",
      "---  ------                 --------------  ----- \n",
      " 0   maker_key              4830 non-null   object\n",
      " 1   model_key              4830 non-null   object\n",
      " 2   mileage                4830 non-null   int64 \n",
      " 3   engine_power           4830 non-null   int64 \n",
      " 4   registration_date      4830 non-null   object\n",
      " 5   fuel                   4830 non-null   object\n",
      " 6   paint_color            4830 non-null   object\n",
      " 7   car_type               4830 non-null   object\n",
      " 8   feature_1              4830 non-null   int64 \n",
      " 9   feature_2              4830 non-null   int64 \n",
      " 10  feature_3              4830 non-null   int64 \n",
      " 11  feature_4              4830 non-null   int64 \n",
      " 12  feature_5              4830 non-null   int64 \n",
      " 13  feature_6              4830 non-null   int64 \n",
      " 14  feature_7              4830 non-null   int64 \n",
      " 15  feature_8              4830 non-null   int64 \n",
      " 16  price                  4830 non-null   int64 \n",
      " 17  sold_at                4830 non-null   object\n",
      " 18  fuel_E                 4830 non-null   int64 \n",
      " 19  paint_color_E          4830 non-null   int64 \n",
      " 20  model_key_E            4830 non-null   int64 \n",
      " 21  car_type_E             4830 non-null   int64 \n",
      " 22  model_key_mileage_rel  4830 non-null   int64 \n",
      " 23  Ep_bucket              4830 non-null   object\n",
      "dtypes: int64(16), object(8)\n",
      "memory usage: 943.4+ KB\n"
     ]
    }
   ],
   "source": [
    "bmw.info()"
   ]
  },
  {
   "cell_type": "markdown",
   "id": "25b6fced",
   "metadata": {},
   "source": [
    "- convert registration_date and sold_at  in to date time format\n",
    "- add new feature age to calculate gap between registration and sold date to analyse further"
   ]
  },
  {
   "cell_type": "code",
   "execution_count": 57,
   "id": "92fab6c1",
   "metadata": {},
   "outputs": [],
   "source": [
    "bmw.registration_date=pd.to_datetime(bmw.registration_date)\n",
    "bmw.sold_at=pd.to_datetime(bmw.sold_at)\n",
    "bmw['age']=bmw.sold_at.dt.year-bmw.registration_date.dt.year\n",
    "bmw['registration_year']=bmw.registration_date.dt.year\n",
    "bmw['sold_year']=bmw.sold_at.dt.year"
   ]
  },
  {
   "cell_type": "code",
   "execution_count": 58,
   "id": "bd4391cd",
   "metadata": {},
   "outputs": [
    {
     "data": {
      "text/html": [
       "<div>\n",
       "<style scoped>\n",
       "    .dataframe tbody tr th:only-of-type {\n",
       "        vertical-align: middle;\n",
       "    }\n",
       "\n",
       "    .dataframe tbody tr th {\n",
       "        vertical-align: top;\n",
       "    }\n",
       "\n",
       "    .dataframe thead th {\n",
       "        text-align: right;\n",
       "    }\n",
       "</style>\n",
       "<table border=\"1\" class=\"dataframe\">\n",
       "  <thead>\n",
       "    <tr style=\"text-align: right;\">\n",
       "      <th></th>\n",
       "      <th>maker_key</th>\n",
       "      <th>model_key</th>\n",
       "      <th>mileage</th>\n",
       "      <th>engine_power</th>\n",
       "      <th>registration_date</th>\n",
       "      <th>fuel</th>\n",
       "      <th>paint_color</th>\n",
       "      <th>car_type</th>\n",
       "      <th>feature_1</th>\n",
       "      <th>feature_2</th>\n",
       "      <th>...</th>\n",
       "      <th>sold_at</th>\n",
       "      <th>fuel_E</th>\n",
       "      <th>paint_color_E</th>\n",
       "      <th>model_key_E</th>\n",
       "      <th>car_type_E</th>\n",
       "      <th>model_key_mileage_rel</th>\n",
       "      <th>Ep_bucket</th>\n",
       "      <th>age</th>\n",
       "      <th>registration_year</th>\n",
       "      <th>sold_year</th>\n",
       "    </tr>\n",
       "  </thead>\n",
       "  <tbody>\n",
       "    <tr>\n",
       "      <th>0</th>\n",
       "      <td>BMW</td>\n",
       "      <td>118</td>\n",
       "      <td>140411</td>\n",
       "      <td>100</td>\n",
       "      <td>2012-01-02</td>\n",
       "      <td>diesel</td>\n",
       "      <td>black</td>\n",
       "      <td>convertible</td>\n",
       "      <td>1</td>\n",
       "      <td>1</td>\n",
       "      <td>...</td>\n",
       "      <td>2018-01-01</td>\n",
       "      <td>2</td>\n",
       "      <td>3</td>\n",
       "      <td>1</td>\n",
       "      <td>8</td>\n",
       "      <td>3</td>\n",
       "      <td>[100-200]</td>\n",
       "      <td>6</td>\n",
       "      <td>2012</td>\n",
       "      <td>2018</td>\n",
       "    </tr>\n",
       "    <tr>\n",
       "      <th>1</th>\n",
       "      <td>BMW</td>\n",
       "      <td>M4</td>\n",
       "      <td>13929</td>\n",
       "      <td>317</td>\n",
       "      <td>2016-01-04</td>\n",
       "      <td>petrol</td>\n",
       "      <td>grey</td>\n",
       "      <td>convertible</td>\n",
       "      <td>1</td>\n",
       "      <td>1</td>\n",
       "      <td>...</td>\n",
       "      <td>2018-01-02</td>\n",
       "      <td>1</td>\n",
       "      <td>3</td>\n",
       "      <td>5</td>\n",
       "      <td>8</td>\n",
       "      <td>1</td>\n",
       "      <td>[300-400]</td>\n",
       "      <td>2</td>\n",
       "      <td>2016</td>\n",
       "      <td>2018</td>\n",
       "    </tr>\n",
       "    <tr>\n",
       "      <th>2</th>\n",
       "      <td>BMW</td>\n",
       "      <td>320</td>\n",
       "      <td>183297</td>\n",
       "      <td>120</td>\n",
       "      <td>2012-01-04</td>\n",
       "      <td>diesel</td>\n",
       "      <td>white</td>\n",
       "      <td>convertible</td>\n",
       "      <td>0</td>\n",
       "      <td>0</td>\n",
       "      <td>...</td>\n",
       "      <td>2018-01-02</td>\n",
       "      <td>2</td>\n",
       "      <td>4</td>\n",
       "      <td>1</td>\n",
       "      <td>8</td>\n",
       "      <td>3</td>\n",
       "      <td>[100-200]</td>\n",
       "      <td>6</td>\n",
       "      <td>2012</td>\n",
       "      <td>2018</td>\n",
       "    </tr>\n",
       "    <tr>\n",
       "      <th>3</th>\n",
       "      <td>BMW</td>\n",
       "      <td>420</td>\n",
       "      <td>128035</td>\n",
       "      <td>135</td>\n",
       "      <td>2014-01-07</td>\n",
       "      <td>diesel</td>\n",
       "      <td>red</td>\n",
       "      <td>convertible</td>\n",
       "      <td>1</td>\n",
       "      <td>1</td>\n",
       "      <td>...</td>\n",
       "      <td>2018-01-02</td>\n",
       "      <td>2</td>\n",
       "      <td>3</td>\n",
       "      <td>3</td>\n",
       "      <td>8</td>\n",
       "      <td>1</td>\n",
       "      <td>[100-200]</td>\n",
       "      <td>4</td>\n",
       "      <td>2014</td>\n",
       "      <td>2018</td>\n",
       "    </tr>\n",
       "    <tr>\n",
       "      <th>4</th>\n",
       "      <td>BMW</td>\n",
       "      <td>425</td>\n",
       "      <td>97097</td>\n",
       "      <td>160</td>\n",
       "      <td>2014-01-12</td>\n",
       "      <td>diesel</td>\n",
       "      <td>silver</td>\n",
       "      <td>convertible</td>\n",
       "      <td>1</td>\n",
       "      <td>1</td>\n",
       "      <td>...</td>\n",
       "      <td>2018-01-04</td>\n",
       "      <td>2</td>\n",
       "      <td>2</td>\n",
       "      <td>3</td>\n",
       "      <td>8</td>\n",
       "      <td>1</td>\n",
       "      <td>[100-200]</td>\n",
       "      <td>4</td>\n",
       "      <td>2014</td>\n",
       "      <td>2018</td>\n",
       "    </tr>\n",
       "  </tbody>\n",
       "</table>\n",
       "<p>5 rows × 27 columns</p>\n",
       "</div>"
      ],
      "text/plain": [
       "  maker_key model_key  mileage  engine_power registration_date    fuel  \\\n",
       "0       BMW       118   140411           100        2012-01-02  diesel   \n",
       "1       BMW        M4    13929           317        2016-01-04  petrol   \n",
       "2       BMW       320   183297           120        2012-01-04  diesel   \n",
       "3       BMW       420   128035           135        2014-01-07  diesel   \n",
       "4       BMW       425    97097           160        2014-01-12  diesel   \n",
       "\n",
       "  paint_color     car_type  feature_1  feature_2  ...    sold_at  fuel_E  \\\n",
       "0       black  convertible          1          1  ... 2018-01-01       2   \n",
       "1        grey  convertible          1          1  ... 2018-01-02       1   \n",
       "2       white  convertible          0          0  ... 2018-01-02       2   \n",
       "3         red  convertible          1          1  ... 2018-01-02       2   \n",
       "4      silver  convertible          1          1  ... 2018-01-04       2   \n",
       "\n",
       "   paint_color_E  model_key_E  car_type_E  model_key_mileage_rel  Ep_bucket  \\\n",
       "0              3            1           8                      3  [100-200]   \n",
       "1              3            5           8                      1  [300-400]   \n",
       "2              4            1           8                      3  [100-200]   \n",
       "3              3            3           8                      1  [100-200]   \n",
       "4              2            3           8                      1  [100-200]   \n",
       "\n",
       "  age  registration_year  sold_year  \n",
       "0   6               2012       2018  \n",
       "1   2               2016       2018  \n",
       "2   6               2012       2018  \n",
       "3   4               2014       2018  \n",
       "4   4               2014       2018  \n",
       "\n",
       "[5 rows x 27 columns]"
      ]
     },
     "execution_count": 58,
     "metadata": {},
     "output_type": "execute_result"
    }
   ],
   "source": [
    "bmw.head()"
   ]
  },
  {
   "cell_type": "code",
   "execution_count": 59,
   "id": "893538d4",
   "metadata": {},
   "outputs": [
    {
     "data": {
      "text/plain": [
       "<AxesSubplot:xlabel='registration_year', ylabel='price'>"
      ]
     },
     "execution_count": 59,
     "metadata": {},
     "output_type": "execute_result"
    },
    {
     "data": {
      "image/png": "[encoded data removed]",
      "text/plain": [
       "<Figure size 1440x576 with 1 Axes>"
      ]
     },
     "metadata": {
      "needs_background": "light"
     },
     "output_type": "display_data"
    }
   ],
   "source": [
    "plt.figure(figsize=(20,8))\n",
    "sns.barplot(x='registration_year',y='price',data=bmw)"
   ]
  },
  {
   "cell_type": "markdown",
   "id": "5c5a26ac",
   "metadata": {},
   "source": [
    "- Observation:\n",
    "   - As expected Newer cars are higher in price ,some price hike in 1996 "
   ]
  },
  {
   "cell_type": "code",
   "execution_count": 60,
   "id": "a364fdc4",
   "metadata": {},
   "outputs": [
    {
     "data": {
      "image/png": "[encoded data removed]",
      "text/plain": [
       "<Figure size 432x288 with 1 Axes>"
      ]
     },
     "metadata": {
      "needs_background": "light"
     },
     "output_type": "display_data"
    }
   ],
   "source": [
    "x = bmw.groupby('age')['price'].mean().reset_index()\n",
    "sns.lineplot(x.age, x.price ,color = 'green').set_xlabel('Age of the car')\n",
    "plt.show()"
   ]
  },
  {
   "cell_type": "markdown",
   "id": "cc9b0fb6",
   "metadata": {},
   "source": [
    "-Observation:\n",
    "    Here Age of the car increases price will decreases ,but some price hike is there for 22-24 age cars"
   ]
  },
  {
   "cell_type": "markdown",
   "id": "2004ad33",
   "metadata": {},
   "source": [
    "# Modelling"
   ]
  },
  {
   "cell_type": "code",
   "execution_count": 61,
   "id": "fc4b3e7a",
   "metadata": {},
   "outputs": [],
   "source": [
    "# import packages\n",
    "from sklearn.model_selection import train_test_split, GridSearchCV, cross_val_score, KFold\n",
    "from sklearn.preprocessing import StandardScaler, Normalizer\n",
    "from sklearn.ensemble import RandomForestRegressor\n",
    "from sklearn.svm import SVR\n",
    "from sklearn.linear_model import LinearRegression, Ridge\n",
    "from sklearn.metrics import r2_score, mean_squared_log_error"
   ]
  },
  {
   "cell_type": "code",
   "execution_count": 62,
   "id": "f9ebb961",
   "metadata": {},
   "outputs": [
    {
     "data": {
      "text/plain": [
       "Index(['maker_key', 'model_key', 'mileage', 'engine_power',\n",
       "       'registration_date', 'fuel', 'paint_color', 'car_type', 'feature_1',\n",
       "       'feature_2', 'feature_3', 'feature_4', 'feature_5', 'feature_6',\n",
       "       'feature_7', 'feature_8', 'price', 'sold_at', 'fuel_E', 'paint_color_E',\n",
       "       'model_key_E', 'car_type_E', 'model_key_mileage_rel', 'Ep_bucket',\n",
       "       'age', 'registration_year', 'sold_year'],\n",
       "      dtype='object')"
      ]
     },
     "execution_count": 62,
     "metadata": {},
     "output_type": "execute_result"
    }
   ],
   "source": [
    "bmw.columns"
   ]
  },
  {
   "cell_type": "code",
   "execution_count": 63,
   "id": "03b34991",
   "metadata": {},
   "outputs": [],
   "source": [
    "features = ['mileage', 'engine_power', 'feature_1',\n",
    "       'feature_2', 'feature_3', 'feature_4', 'feature_5', 'feature_6',\n",
    "       'feature_7', 'feature_8', 'fuel_E', 'paint_color_E',\n",
    "       'model_key_E', 'car_type_E', 'model_key_mileage_rel','age']\n",
    "target = 'price'"
   ]
  },
  {
   "cell_type": "code",
   "execution_count": 64,
   "id": "638345e1",
   "metadata": {},
   "outputs": [],
   "source": [
    "## splitting data into training and validation sets\n",
    "X_train, X_test, y_train, y_test = train_test_split(bmw[features], bmw[target], test_size = 0.2, random_state = 42 )"
   ]
  },
  {
   "cell_type": "code",
   "execution_count": 65,
   "id": "d9a3d1d0",
   "metadata": {},
   "outputs": [
    {
     "name": "stdout",
     "output_type": "stream",
     "text": [
      "Train R^2 score 0.9636345177213038\n",
      "Test R^2 score 0.8856455303990828\n",
      "Train mean_squared_log_error 0.048312811808278594\n",
      "Test mean_squared_log_error 0.061943326700342624\n"
     ]
    }
   ],
   "source": [
    "### Model with default parameters; features scaling has not happened\n",
    "RFModel = RandomForestRegressor().fit(X_train,y_train) # training\n",
    "\n",
    "print('Train R^2 score {}'.format(r2_score(y_train, RFModel.predict(X_train))))\n",
    "print('Test R^2 score {}'.format(r2_score(y_test, RFModel.predict(X_test))))\n",
    "\n",
    "print('Train mean_squared_log_error {}'.format(mean_squared_log_error(y_train, RFModel.predict(X_train))))\n",
    "print('Test mean_squared_log_error {}'.format(mean_squared_log_error(y_test, RFModel.predict(X_test))))"
   ]
  },
  {
   "cell_type": "code",
   "execution_count": 66,
   "id": "eaa130e8",
   "metadata": {},
   "outputs": [],
   "source": [
    "## scaling features\n",
    "scaler = StandardScaler().fit(X_train,y_train)\n",
    "X_train = scaler.transform(X_train)\n",
    "X_test = scaler.transform(X_test)"
   ]
  },
  {
   "cell_type": "code",
   "execution_count": 67,
   "id": "919b12bf",
   "metadata": {},
   "outputs": [
    {
     "name": "stdout",
     "output_type": "stream",
     "text": [
      "Model => LinearRegression()\n",
      "Avg. R^2_score: 0.7148910161071655, std:0.12752881029130292, scores:[0.79996706 0.46121672 0.78282204 0.7603339  0.77011535]\n",
      "Model => Ridge()\n",
      "Avg. R^2_score: 0.7148944825441292, std:0.12752564981236314, scores:[0.79996619 0.46122496 0.78280207 0.76034925 0.77012995]\n",
      "Model => RandomForestRegressor()\n",
      "Avg. R^2_score: 0.7862638468377526, std:0.13595440760112537, scores:[0.8991026  0.52449427 0.86349222 0.85835917 0.78587098]\n",
      "Model => SVR()\n",
      "Avg. R^2_score: -0.013871089112928604, std:0.01634181881099169, scores:[-0.00637941 -0.01592354 -0.03250427  0.01322834 -0.02777658]\n"
     ]
    }
   ],
   "source": [
    "## Get r-suqare score with each models\n",
    "for model in [LinearRegression(), Ridge(), RandomForestRegressor(),SVR()]:\n",
    "    scores = cross_val_score(model, X_train, y_train, cv= 5, scoring='r2',n_jobs=-1)\n",
    "    print('Model =>',str(model))\n",
    "    print('Avg. R^2_score: {}, std:{}, scores:{}'.format(np.mean(scores),np.std(scores), scores))"
   ]
  },
  {
   "cell_type": "markdown",
   "id": "0b5a11f3",
   "metadata": {},
   "source": [
    "based on the CV scores and it’s observed that randomforest regression best fits the data compared to all the other methods."
   ]
  },
  {
   "cell_type": "markdown",
   "id": "822bf34e",
   "metadata": {},
   "source": [
    "#### Hyperparameter tuning"
   ]
  },
  {
   "cell_type": "code",
   "execution_count": 98,
   "id": "d4cdddac",
   "metadata": {},
   "outputs": [],
   "source": [
    "from sklearn.model_selection import RandomizedSearchCV\n",
    "# Number of trees in random forest\n",
    "n_estimators = [int(x) for x in np.linspace(start = 103, stop = 400, num = 10)]\n",
    "# Number of features to consider at every split\n",
    "max_features = ['auto', 'sqrt']\n",
    "# Maximum number of levels in tree\n",
    "max_depth = [int(x) for x in np.linspace(10, 110, num = 11)]\n",
    "max_depth.append(None)\n",
    "# Minimum number of samples required to split a node\n",
    "min_samples_split = [2, 5, 10]\n",
    "# Minimum number of samples required at each leaf node\n",
    "min_samples_leaf = [1, 2, 4]\n",
    "# Method of selecting samples for training each tree\n",
    "bootstrap = [True, False]\n",
    "# Create the random grid\n",
    "random_grid = {'n_estimators': n_estimators,\n",
    "               'max_features': max_features,\n",
    "               'max_depth': max_depth,\n",
    "               'min_samples_split': min_samples_split,\n",
    "               'min_samples_leaf': min_samples_leaf,\n",
    "               'bootstrap': bootstrap}"
   ]
  },
  {
   "cell_type": "code",
   "execution_count": 99,
   "id": "b532de7b",
   "metadata": {},
   "outputs": [
    {
     "name": "stdout",
     "output_type": "stream",
     "text": [
      "Fitting 3 folds for each of 100 candidates, totalling 300 fits\n"
     ]
    },
    {
     "data": {
      "text/plain": [
       "RandomizedSearchCV(cv=3, estimator=RandomForestRegressor(), n_iter=100,\n",
       "                   n_jobs=-1,\n",
       "                   param_distributions={'bootstrap': [True, False],\n",
       "                                        'max_depth': [10, 20, 30, 40, 50, 60,\n",
       "                                                      70, 80, 90, 100, 110,\n",
       "                                                      None],\n",
       "                                        'max_features': ['auto', 'sqrt'],\n",
       "                                        'min_samples_leaf': [1, 2, 4],\n",
       "                                        'min_samples_split': [2, 5, 10],\n",
       "                                        'n_estimators': [103, 136, 169, 202,\n",
       "                                                         235, 268, 301, 334,\n",
       "                                                         367, 400]},\n",
       "                   random_state=42, verbose=2)"
      ]
     },
     "execution_count": 99,
     "metadata": {},
     "output_type": "execute_result"
    }
   ],
   "source": [
    "rf = RandomForestRegressor()\n",
    "rf_random = RandomizedSearchCV(estimator = rf, param_distributions = random_grid, n_iter = 100, cv = 3, verbose=2, random_state=42, n_jobs = -1)\n",
    "# Fit the random search model\n",
    "rf_random.fit(X_train, y_train)"
   ]
  },
  {
   "cell_type": "code",
   "execution_count": 100,
   "id": "4defc508",
   "metadata": {},
   "outputs": [
    {
     "data": {
      "text/plain": [
       "{'n_estimators': 169,\n",
       " 'min_samples_split': 2,\n",
       " 'min_samples_leaf': 2,\n",
       " 'max_features': 'sqrt',\n",
       " 'max_depth': 110,\n",
       " 'bootstrap': False}"
      ]
     },
     "execution_count": 100,
     "metadata": {},
     "output_type": "execute_result"
    }
   ],
   "source": [
    "rf_random.best_params_\n"
   ]
  },
  {
   "cell_type": "code",
   "execution_count": 162,
   "id": "03c308d9",
   "metadata": {},
   "outputs": [
    {
     "data": {
      "text/plain": [
       "RandomForestRegressor(bootstrap=False, max_depth=110, max_features='sqrt',\n",
       "                      min_samples_leaf=2, n_estimators=169)"
      ]
     },
     "execution_count": 162,
     "metadata": {},
     "output_type": "execute_result"
    }
   ],
   "source": [
    "reg=RandomForestRegressor(n_estimators=169, min_samples_split= 2, min_samples_leaf= 2, max_features= 'sqrt',max_depth= 110, bootstrap= False)\n",
    "reg.fit(X_train, y_train)"
   ]
  },
  {
   "cell_type": "code",
   "execution_count": 163,
   "id": "cacfaa48",
   "metadata": {},
   "outputs": [
    {
     "name": "stdout",
     "output_type": "stream",
     "text": [
      "Train R^2 score 0.9313270109031121\n",
      "Test R^2 score 0.9000957598565829\n",
      "Train mean_squared_log_error 0.07453783884972115\n",
      "Test mean_squared_log_error 0.06909544233129765\n"
     ]
    }
   ],
   "source": [
    "print('Train R^2 score {}'.format(r2_score(y_train, reg.predict(X_train))))\n",
    "print('Test R^2 score {}'.format(r2_score(y_test, reg.predict(X_test))))\n",
    "\n",
    "print('Train mean_squared_log_error {}'.format(mean_squared_log_error(y_train, reg.predict(X_train))))\n",
    "print('Test mean_squared_log_error {}'.format(mean_squared_log_error(y_test, reg.predict(X_test))))"
   ]
  },
  {
   "cell_type": "markdown",
   "id": "8b2dd130",
   "metadata": {},
   "source": [
    "# Summary:"
   ]
  },
  {
   "cell_type": "markdown",
   "id": "ab939ac2",
   "metadata": {},
   "source": [
    "- we have very less data for  hybrid petrol and electric fuel type cars.price of hybrid petrol cars are high,dropped for better predictions.\n",
    "- Price of Orange color cars are high\n",
    "- Here no feature has strong correlation with price i.e.(above 0.7).But Mileage and Price has some negatively correlation   (-0.41).Engine Power and Price has positive correlation (0.64).But due to outliers presence ,There is no strong evidence that     price will depend on mileage and engine power\n",
    "- Trained and evaluated data using Random Forest model to predict used cars prediction, fine-tuned the model using cross-   validation and hyper parameter optimization techniques for better predictions.\n",
    "-  Achieved R-square score 90% which indicates that model has strong features to predict resale value of used cars\n"
   ]
  },
  {
   "cell_type": "code",
   "execution_count": null,
   "id": "9743f772",
   "metadata": {},
   "outputs": [],
   "source": []
  }
 ],
 "metadata": {
  "kernelspec": {
   "display_name": "Python 3 (ipykernel)",
   "language": "python",
   "name": "python3"
  },
  "language_info": {
   "codemirror_mode": {
    "name": "ipython",
    "version": 3
   },
   "file_extension": ".py",
   "mimetype": "text/x-python",
   "name": "python",
   "nbconvert_exporter": "python",
   "pygments_lexer": "ipython3",
   "version": "3.9.12"
  }
 },
 "nbformat": 4,
 "nbformat_minor": 5
}
