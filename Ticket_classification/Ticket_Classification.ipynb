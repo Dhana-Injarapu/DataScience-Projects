{
 "cells": [
  {
   "cell_type": "code",
   "execution_count": 1,
   "id": "7282f782",
   "metadata": {},
   "outputs": [],
   "source": [
    "import json\n",
    "import pandas as pd\n",
    "import matplotlib.pyplot as plt\n",
    "import warnings\n",
    "warnings.filterwarnings('ignore')\n",
    "path=r\"C:\\Users\\dhana\\Downloads\\Dhana_Data_Science\\Projects\\NLP\\complaints-2021-05-14_08_16 .json\"\n",
    "file =open(path)\n",
    "data=json.load(file)\n",
    "df=pd.json_normalize(data)"
   ]
  },
  {
   "cell_type": "code",
   "execution_count": 2,
   "id": "166bd810",
   "metadata": {},
   "outputs": [
    {
     "data": {
      "text/html": [
       "<div>\n",
       "<style scoped>\n",
       "    .dataframe tbody tr th:only-of-type {\n",
       "        vertical-align: middle;\n",
       "    }\n",
       "\n",
       "    .dataframe tbody tr th {\n",
       "        vertical-align: top;\n",
       "    }\n",
       "\n",
       "    .dataframe thead th {\n",
       "        text-align: right;\n",
       "    }\n",
       "</style>\n",
       "<table border=\"1\" class=\"dataframe\">\n",
       "  <thead>\n",
       "    <tr style=\"text-align: right;\">\n",
       "      <th></th>\n",
       "      <th>_index</th>\n",
       "      <th>_type</th>\n",
       "      <th>_id</th>\n",
       "      <th>_score</th>\n",
       "      <th>_source.tags</th>\n",
       "      <th>_source.zip_code</th>\n",
       "      <th>_source.complaint_id</th>\n",
       "      <th>_source.issue</th>\n",
       "      <th>_source.date_received</th>\n",
       "      <th>_source.state</th>\n",
       "      <th>...</th>\n",
       "      <th>_source.company_response</th>\n",
       "      <th>_source.company</th>\n",
       "      <th>_source.submitted_via</th>\n",
       "      <th>_source.date_sent_to_company</th>\n",
       "      <th>_source.company_public_response</th>\n",
       "      <th>_source.sub_product</th>\n",
       "      <th>_source.timely</th>\n",
       "      <th>_source.complaint_what_happened</th>\n",
       "      <th>_source.sub_issue</th>\n",
       "      <th>_source.consumer_consent_provided</th>\n",
       "    </tr>\n",
       "  </thead>\n",
       "  <tbody>\n",
       "    <tr>\n",
       "      <th>0</th>\n",
       "      <td>complaint-public-v2</td>\n",
       "      <td>complaint</td>\n",
       "      <td>3211475</td>\n",
       "      <td>0.0</td>\n",
       "      <td>None</td>\n",
       "      <td>90301</td>\n",
       "      <td>3211475</td>\n",
       "      <td>Attempts to collect debt not owed</td>\n",
       "      <td>2019-04-13T12:00:00-05:00</td>\n",
       "      <td>CA</td>\n",
       "      <td>...</td>\n",
       "      <td>Closed with explanation</td>\n",
       "      <td>JPMORGAN CHASE &amp; CO.</td>\n",
       "      <td>Web</td>\n",
       "      <td>2019-04-13T12:00:00-05:00</td>\n",
       "      <td>None</td>\n",
       "      <td>Credit card debt</td>\n",
       "      <td>Yes</td>\n",
       "      <td></td>\n",
       "      <td>Debt is not yours</td>\n",
       "      <td>Consent not provided</td>\n",
       "    </tr>\n",
       "    <tr>\n",
       "      <th>1</th>\n",
       "      <td>complaint-public-v2</td>\n",
       "      <td>complaint</td>\n",
       "      <td>3229299</td>\n",
       "      <td>0.0</td>\n",
       "      <td>Servicemember</td>\n",
       "      <td>319XX</td>\n",
       "      <td>3229299</td>\n",
       "      <td>Written notification about debt</td>\n",
       "      <td>2019-05-01T12:00:00-05:00</td>\n",
       "      <td>GA</td>\n",
       "      <td>...</td>\n",
       "      <td>Closed with explanation</td>\n",
       "      <td>JPMORGAN CHASE &amp; CO.</td>\n",
       "      <td>Web</td>\n",
       "      <td>2019-05-01T12:00:00-05:00</td>\n",
       "      <td>None</td>\n",
       "      <td>Credit card debt</td>\n",
       "      <td>Yes</td>\n",
       "      <td>Good morning my name is XXXX XXXX and I apprec...</td>\n",
       "      <td>Didn't receive enough information to verify debt</td>\n",
       "      <td>Consent provided</td>\n",
       "    </tr>\n",
       "    <tr>\n",
       "      <th>2</th>\n",
       "      <td>complaint-public-v2</td>\n",
       "      <td>complaint</td>\n",
       "      <td>3199379</td>\n",
       "      <td>0.0</td>\n",
       "      <td>None</td>\n",
       "      <td>77069</td>\n",
       "      <td>3199379</td>\n",
       "      <td>Other features, terms, or problems</td>\n",
       "      <td>2019-04-02T12:00:00-05:00</td>\n",
       "      <td>TX</td>\n",
       "      <td>...</td>\n",
       "      <td>Closed with explanation</td>\n",
       "      <td>JPMORGAN CHASE &amp; CO.</td>\n",
       "      <td>Web</td>\n",
       "      <td>2019-04-02T12:00:00-05:00</td>\n",
       "      <td>None</td>\n",
       "      <td>General-purpose credit card or charge card</td>\n",
       "      <td>Yes</td>\n",
       "      <td>I upgraded my XXXX XXXX card in XX/XX/2018 and...</td>\n",
       "      <td>Problem with rewards from credit card</td>\n",
       "      <td>Consent provided</td>\n",
       "    </tr>\n",
       "    <tr>\n",
       "      <th>3</th>\n",
       "      <td>complaint-public-v2</td>\n",
       "      <td>complaint</td>\n",
       "      <td>2673060</td>\n",
       "      <td>0.0</td>\n",
       "      <td>None</td>\n",
       "      <td>48066</td>\n",
       "      <td>2673060</td>\n",
       "      <td>Trouble during payment process</td>\n",
       "      <td>2017-09-13T12:00:00-05:00</td>\n",
       "      <td>MI</td>\n",
       "      <td>...</td>\n",
       "      <td>Closed with explanation</td>\n",
       "      <td>JPMORGAN CHASE &amp; CO.</td>\n",
       "      <td>Web</td>\n",
       "      <td>2017-09-14T12:00:00-05:00</td>\n",
       "      <td>None</td>\n",
       "      <td>Conventional home mortgage</td>\n",
       "      <td>Yes</td>\n",
       "      <td></td>\n",
       "      <td>None</td>\n",
       "      <td>Consent not provided</td>\n",
       "    </tr>\n",
       "    <tr>\n",
       "      <th>4</th>\n",
       "      <td>complaint-public-v2</td>\n",
       "      <td>complaint</td>\n",
       "      <td>3203545</td>\n",
       "      <td>0.0</td>\n",
       "      <td>None</td>\n",
       "      <td>10473</td>\n",
       "      <td>3203545</td>\n",
       "      <td>Fees or interest</td>\n",
       "      <td>2019-04-05T12:00:00-05:00</td>\n",
       "      <td>NY</td>\n",
       "      <td>...</td>\n",
       "      <td>Closed with explanation</td>\n",
       "      <td>JPMORGAN CHASE &amp; CO.</td>\n",
       "      <td>Referral</td>\n",
       "      <td>2019-04-05T12:00:00-05:00</td>\n",
       "      <td>None</td>\n",
       "      <td>General-purpose credit card or charge card</td>\n",
       "      <td>Yes</td>\n",
       "      <td></td>\n",
       "      <td>Charged too much interest</td>\n",
       "      <td>N/A</td>\n",
       "    </tr>\n",
       "  </tbody>\n",
       "</table>\n",
       "<p>5 rows × 22 columns</p>\n",
       "</div>"
      ],
      "text/plain": [
       "                _index      _type      _id  _score   _source.tags  \\\n",
       "0  complaint-public-v2  complaint  3211475     0.0           None   \n",
       "1  complaint-public-v2  complaint  3229299     0.0  Servicemember   \n",
       "2  complaint-public-v2  complaint  3199379     0.0           None   \n",
       "3  complaint-public-v2  complaint  2673060     0.0           None   \n",
       "4  complaint-public-v2  complaint  3203545     0.0           None   \n",
       "\n",
       "  _source.zip_code _source.complaint_id                       _source.issue  \\\n",
       "0            90301              3211475   Attempts to collect debt not owed   \n",
       "1            319XX              3229299     Written notification about debt   \n",
       "2            77069              3199379  Other features, terms, or problems   \n",
       "3            48066              2673060      Trouble during payment process   \n",
       "4            10473              3203545                    Fees or interest   \n",
       "\n",
       "       _source.date_received _source.state  ... _source.company_response  \\\n",
       "0  2019-04-13T12:00:00-05:00            CA  ...  Closed with explanation   \n",
       "1  2019-05-01T12:00:00-05:00            GA  ...  Closed with explanation   \n",
       "2  2019-04-02T12:00:00-05:00            TX  ...  Closed with explanation   \n",
       "3  2017-09-13T12:00:00-05:00            MI  ...  Closed with explanation   \n",
       "4  2019-04-05T12:00:00-05:00            NY  ...  Closed with explanation   \n",
       "\n",
       "        _source.company _source.submitted_via _source.date_sent_to_company  \\\n",
       "0  JPMORGAN CHASE & CO.                   Web    2019-04-13T12:00:00-05:00   \n",
       "1  JPMORGAN CHASE & CO.                   Web    2019-05-01T12:00:00-05:00   \n",
       "2  JPMORGAN CHASE & CO.                   Web    2019-04-02T12:00:00-05:00   \n",
       "3  JPMORGAN CHASE & CO.                   Web    2017-09-14T12:00:00-05:00   \n",
       "4  JPMORGAN CHASE & CO.              Referral    2019-04-05T12:00:00-05:00   \n",
       "\n",
       "  _source.company_public_response                         _source.sub_product  \\\n",
       "0                            None                            Credit card debt   \n",
       "1                            None                            Credit card debt   \n",
       "2                            None  General-purpose credit card or charge card   \n",
       "3                            None                  Conventional home mortgage   \n",
       "4                            None  General-purpose credit card or charge card   \n",
       "\n",
       "  _source.timely                    _source.complaint_what_happened  \\\n",
       "0            Yes                                                      \n",
       "1            Yes  Good morning my name is XXXX XXXX and I apprec...   \n",
       "2            Yes  I upgraded my XXXX XXXX card in XX/XX/2018 and...   \n",
       "3            Yes                                                      \n",
       "4            Yes                                                      \n",
       "\n",
       "                                  _source.sub_issue  \\\n",
       "0                                 Debt is not yours   \n",
       "1  Didn't receive enough information to verify debt   \n",
       "2             Problem with rewards from credit card   \n",
       "3                                              None   \n",
       "4                         Charged too much interest   \n",
       "\n",
       "  _source.consumer_consent_provided  \n",
       "0              Consent not provided  \n",
       "1                  Consent provided  \n",
       "2                  Consent provided  \n",
       "3              Consent not provided  \n",
       "4                               N/A  \n",
       "\n",
       "[5 rows x 22 columns]"
      ]
     },
     "execution_count": 2,
     "metadata": {},
     "output_type": "execute_result"
    }
   ],
   "source": [
    "df.head()"
   ]
  },
  {
   "cell_type": "code",
   "execution_count": 3,
   "id": "483cf51b",
   "metadata": {},
   "outputs": [
    {
     "data": {
      "text/plain": [
       "Index(['_index', '_type', '_id', '_score', '_source.tags', '_source.zip_code',\n",
       "       '_source.complaint_id', '_source.issue', '_source.date_received',\n",
       "       '_source.state', '_source.consumer_disputed', '_source.product',\n",
       "       '_source.company_response', '_source.company', '_source.submitted_via',\n",
       "       '_source.date_sent_to_company', '_source.company_public_response',\n",
       "       '_source.sub_product', '_source.timely',\n",
       "       '_source.complaint_what_happened', '_source.sub_issue',\n",
       "       '_source.consumer_consent_provided'],\n",
       "      dtype='object')"
      ]
     },
     "execution_count": 3,
     "metadata": {},
     "output_type": "execute_result"
    }
   ],
   "source": [
    "df.columns"
   ]
  },
  {
   "cell_type": "code",
   "execution_count": 4,
   "id": "afee50a1",
   "metadata": {},
   "outputs": [
    {
     "data": {
      "text/plain": [
       "0                                                         \n",
       "1        Good morning my name is XXXX XXXX and I apprec...\n",
       "2        I upgraded my XXXX XXXX card in XX/XX/2018 and...\n",
       "3                                                         \n",
       "4                                                         \n",
       "                               ...                        \n",
       "78308                                                     \n",
       "78309    On Wednesday, XX/XX/XXXX I called Chas, my XXX...\n",
       "78310    I am not familiar with XXXX pay and did not un...\n",
       "78311    I have had flawless credit for 30 yrs. I've ha...\n",
       "78312    Roughly 10+ years ago I closed out my accounts...\n",
       "Name: _source.complaint_what_happened, Length: 78313, dtype: object"
      ]
     },
     "execution_count": 4,
     "metadata": {},
     "output_type": "execute_result"
    }
   ],
   "source": [
    "df['_source.complaint_what_happened']"
   ]
  },
  {
   "cell_type": "code",
   "execution_count": 5,
   "id": "e2674388",
   "metadata": {},
   "outputs": [
    {
     "data": {
      "text/plain": [
       "''"
      ]
     },
     "execution_count": 5,
     "metadata": {},
     "output_type": "execute_result"
    }
   ],
   "source": [
    "df['_source.complaint_what_happened'][4]"
   ]
  },
  {
   "cell_type": "code",
   "execution_count": 6,
   "id": "d45cb280",
   "metadata": {},
   "outputs": [
    {
     "data": {
      "text/plain": [
       "0"
      ]
     },
     "execution_count": 6,
     "metadata": {},
     "output_type": "execute_result"
    }
   ],
   "source": [
    "df['_source.complaint_what_happened'].isnull().sum()"
   ]
  },
  {
   "cell_type": "code",
   "execution_count": 7,
   "id": "ab39c849",
   "metadata": {},
   "outputs": [],
   "source": [
    "import numpy as np\n",
    "df['_source.complaint_what_happened']=df['_source.complaint_what_happened'].replace('',np.nan)"
   ]
  },
  {
   "cell_type": "code",
   "execution_count": 8,
   "id": "a784beb4",
   "metadata": {},
   "outputs": [
    {
     "data": {
      "text/plain": [
       "73.09258999144458"
      ]
     },
     "execution_count": 8,
     "metadata": {},
     "output_type": "execute_result"
    }
   ],
   "source": [
    "(df['_source.complaint_what_happened'].isnull().sum()/df.shape[0])*100"
   ]
  },
  {
   "cell_type": "code",
   "execution_count": 9,
   "id": "5fc446a2",
   "metadata": {},
   "outputs": [
    {
     "data": {
      "text/plain": [
       "57241"
      ]
     },
     "execution_count": 9,
     "metadata": {},
     "output_type": "execute_result"
    }
   ],
   "source": [
    "df['_source.complaint_what_happened'].isnull().sum()"
   ]
  },
  {
   "cell_type": "code",
   "execution_count": 10,
   "id": "473fdfd9",
   "metadata": {},
   "outputs": [],
   "source": [
    "df=df[~df['_source.complaint_what_happened'].isnull()]"
   ]
  },
  {
   "cell_type": "code",
   "execution_count": 11,
   "id": "80df2523",
   "metadata": {
    "scrolled": true
   },
   "outputs": [
    {
     "data": {
      "text/plain": [
       "0"
      ]
     },
     "execution_count": 11,
     "metadata": {},
     "output_type": "execute_result"
    }
   ],
   "source": [
    "df['_source.complaint_what_happened'].isnull().sum()"
   ]
  },
  {
   "cell_type": "markdown",
   "id": "c9b5b029",
   "metadata": {},
   "source": [
    "### Text Preprocessing"
   ]
  },
  {
   "cell_type": "code",
   "execution_count": 12,
   "id": "43cfca91",
   "metadata": {},
   "outputs": [],
   "source": [
    "import re\n",
    "def preprocess(raw_text):\n",
    "    #convert text to lower case\n",
    "    cleaned_txt=raw_text.lower()\n",
    "    # remove punctuations\n",
    "    \n",
    "    cleaned_txt=(re.sub(r'[^\\w\\s]',' ',cleaned_txt))\n",
    "    \n",
    "     # remove digits \n",
    "    cleaned_txt=re.sub(r'\\d+','',cleaned_txt)\n",
    "    \n",
    "    # remove more spaces\n",
    "    cleaned_txt=re.sub(r'\\s+',' ',cleaned_txt).strip()\n",
    "    \n",
    "  \n",
    "    return cleaned_txt             "
   ]
  },
  {
   "cell_type": "code",
   "execution_count": 13,
   "id": "2a1e3aa5",
   "metadata": {},
   "outputs": [],
   "source": [
    "df['complaint_what_happened']=df['_source.complaint_what_happened'].apply(preprocess)"
   ]
  },
  {
   "cell_type": "code",
   "execution_count": 14,
   "id": "433855bb",
   "metadata": {},
   "outputs": [
    {
     "data": {
      "text/plain": [
       "'good morning my name is xxxx xxxx and i appreciate it if you could help me put a stop to chase bank cardmember services in i wrote to chase asking for debt verification and what they sent me a statement which is not acceptable i am asking the bank to validate the debt instead i been receiving mail every month from them attempting to collect a debt i have a right to know this information as a consumer chase account xxxx xxxx xxxx xxxx thanks in advance for your help'"
      ]
     },
     "execution_count": 14,
     "metadata": {},
     "output_type": "execute_result"
    }
   ],
   "source": [
    "df['complaint_what_happened'][:5][1]"
   ]
  },
  {
   "cell_type": "code",
   "execution_count": 15,
   "id": "3f1fc323",
   "metadata": {},
   "outputs": [],
   "source": [
    "import spacy\n",
    "nlp=spacy.load('en_core_web_sm')\n",
    "def pos_tag(sentence):\n",
    "    doc=nlp(sentence)\n",
    "    lemma=[]\n",
    "    removed_pos=[]\n",
    "    for token in doc:\n",
    "        lemma.append(token.lemma_)\n",
    "        if token.tag_=='NN':\n",
    "            removed_pos.append(token.lemma_)\n",
    "    lemma=\" \".join(lemma)      \n",
    "    removed_pos=\" \".join(removed_pos)\n",
    "    return pd.Series([lemma,removed_pos])      "
   ]
  },
  {
   "cell_type": "code",
   "execution_count": 16,
   "id": "675d4c33",
   "metadata": {},
   "outputs": [],
   "source": [
    "lemma_pos_df1=df['complaint_what_happened'].apply(lambda x:pos_tag(x))"
   ]
  },
  {
   "cell_type": "code",
   "execution_count": 17,
   "id": "cfd0c218",
   "metadata": {},
   "outputs": [],
   "source": [
    "lemma_pos_df1.columns=['lemmatized','removed_pos']"
   ]
  },
  {
   "cell_type": "code",
   "execution_count": 18,
   "id": "826a3a00",
   "metadata": {},
   "outputs": [
    {
     "data": {
      "text/html": [
       "<div>\n",
       "<style scoped>\n",
       "    .dataframe tbody tr th:only-of-type {\n",
       "        vertical-align: middle;\n",
       "    }\n",
       "\n",
       "    .dataframe tbody tr th {\n",
       "        vertical-align: top;\n",
       "    }\n",
       "\n",
       "    .dataframe thead th {\n",
       "        text-align: right;\n",
       "    }\n",
       "</style>\n",
       "<table border=\"1\" class=\"dataframe\">\n",
       "  <thead>\n",
       "    <tr style=\"text-align: right;\">\n",
       "      <th></th>\n",
       "      <th>lemmatized</th>\n",
       "      <th>removed_pos</th>\n",
       "    </tr>\n",
       "  </thead>\n",
       "  <tbody>\n",
       "    <tr>\n",
       "      <th>1</th>\n",
       "      <td>good morning my name be xxxx xxxx and I apprec...</td>\n",
       "      <td>morning name stop debt verification statement ...</td>\n",
       "    </tr>\n",
       "    <tr>\n",
       "      <th>2</th>\n",
       "      <td>I upgrade my xxxx xxxx card in xx xx and be te...</td>\n",
       "      <td>agent anniversary date agent information order...</td>\n",
       "    </tr>\n",
       "    <tr>\n",
       "      <th>10</th>\n",
       "      <td>chase card be report on xx xx however fraudule...</td>\n",
       "      <td>chase card application identity consent credit...</td>\n",
       "    </tr>\n",
       "    <tr>\n",
       "      <th>11</th>\n",
       "      <td>on xx xx while try to book a xxxx xxxx ticket ...</td>\n",
       "      <td>ticket offer ticket card information offer min...</td>\n",
       "    </tr>\n",
       "    <tr>\n",
       "      <th>14</th>\n",
       "      <td>my grand son give I check for I deposit it int...</td>\n",
       "      <td>son check chase account fund chase bank accoun...</td>\n",
       "    </tr>\n",
       "  </tbody>\n",
       "</table>\n",
       "</div>"
      ],
      "text/plain": [
       "                                           lemmatized  \\\n",
       "1   good morning my name be xxxx xxxx and I apprec...   \n",
       "2   I upgrade my xxxx xxxx card in xx xx and be te...   \n",
       "10  chase card be report on xx xx however fraudule...   \n",
       "11  on xx xx while try to book a xxxx xxxx ticket ...   \n",
       "14  my grand son give I check for I deposit it int...   \n",
       "\n",
       "                                          removed_pos  \n",
       "1   morning name stop debt verification statement ...  \n",
       "2   agent anniversary date agent information order...  \n",
       "10  chase card application identity consent credit...  \n",
       "11  ticket offer ticket card information offer min...  \n",
       "14  son check chase account fund chase bank accoun...  "
      ]
     },
     "execution_count": 18,
     "metadata": {},
     "output_type": "execute_result"
    }
   ],
   "source": [
    "lemma_pos_df1.head()"
   ]
  },
  {
   "cell_type": "code",
   "execution_count": 19,
   "id": "d79fbacf",
   "metadata": {},
   "outputs": [],
   "source": [
    "df_clean=pd.concat([df,lemma_pos_df1],axis=1)"
   ]
  },
  {
   "cell_type": "code",
   "execution_count": 20,
   "id": "b25f9fe2",
   "metadata": {},
   "outputs": [],
   "source": [
    "df_clean=df_clean[['complaint_what_happened','lemmatized','removed_pos']]"
   ]
  },
  {
   "cell_type": "code",
   "execution_count": 56,
   "id": "bfd568b8",
   "metadata": {},
   "outputs": [
    {
     "data": {
      "text/html": [
       "<div>\n",
       "<style scoped>\n",
       "    .dataframe tbody tr th:only-of-type {\n",
       "        vertical-align: middle;\n",
       "    }\n",
       "\n",
       "    .dataframe tbody tr th {\n",
       "        vertical-align: top;\n",
       "    }\n",
       "\n",
       "    .dataframe thead th {\n",
       "        text-align: right;\n",
       "    }\n",
       "</style>\n",
       "<table border=\"1\" class=\"dataframe\">\n",
       "  <thead>\n",
       "    <tr style=\"text-align: right;\">\n",
       "      <th></th>\n",
       "      <th>complaint_what_happened</th>\n",
       "      <th>lemmatized</th>\n",
       "      <th>removed_pos</th>\n",
       "    </tr>\n",
       "  </thead>\n",
       "  <tbody>\n",
       "    <tr>\n",
       "      <th>1</th>\n",
       "      <td>good morning my name is xxxx xxxx and i apprec...</td>\n",
       "      <td>good morning my name be xxxx xxxx and I apprec...</td>\n",
       "      <td>morning name stop debt verification statement ...</td>\n",
       "    </tr>\n",
       "    <tr>\n",
       "      <th>2</th>\n",
       "      <td>i upgraded my xxxx xxxx card in xx xx and was ...</td>\n",
       "      <td>I upgrade my xxxx xxxx card in xx xx and be te...</td>\n",
       "      <td>agent anniversary date agent information order...</td>\n",
       "    </tr>\n",
       "    <tr>\n",
       "      <th>10</th>\n",
       "      <td>chase card was reported on xx xx however fraud...</td>\n",
       "      <td>chase card be report on xx xx however fraudule...</td>\n",
       "      <td>chase card application identity consent credit...</td>\n",
       "    </tr>\n",
       "    <tr>\n",
       "      <th>11</th>\n",
       "      <td>on xx xx while trying to book a xxxx xxxx tick...</td>\n",
       "      <td>on xx xx while try to book a xxxx xxxx ticket ...</td>\n",
       "      <td>ticket offer ticket card information offer min...</td>\n",
       "    </tr>\n",
       "    <tr>\n",
       "      <th>14</th>\n",
       "      <td>my grand son give me check for i deposit it in...</td>\n",
       "      <td>my grand son give I check for I deposit it int...</td>\n",
       "      <td>son check chase account fund chase bank accoun...</td>\n",
       "    </tr>\n",
       "    <tr>\n",
       "      <th>...</th>\n",
       "      <td>...</td>\n",
       "      <td>...</td>\n",
       "      <td>...</td>\n",
       "    </tr>\n",
       "    <tr>\n",
       "      <th>78303</th>\n",
       "      <td>after being a chase card customer for well ove...</td>\n",
       "      <td>after be a chase card customer for well over a...</td>\n",
       "      <td>chase card customer decade credit chase bonus ...</td>\n",
       "    </tr>\n",
       "    <tr>\n",
       "      <th>78309</th>\n",
       "      <td>on wednesday xx xx xxxx i called chas my xxxx ...</td>\n",
       "      <td>on wednesday xx xx xxxx I call chas my xxxx xx...</td>\n",
       "      <td>credit card provider claim purchase protection...</td>\n",
       "    </tr>\n",
       "    <tr>\n",
       "      <th>78310</th>\n",
       "      <td>i am not familiar with xxxx pay and did not un...</td>\n",
       "      <td>I be not familiar with xxxx pay and do not und...</td>\n",
       "      <td>pay risk chase bank app chase banking merchant...</td>\n",
       "    </tr>\n",
       "    <tr>\n",
       "      <th>78311</th>\n",
       "      <td>i have had flawless credit for yrs i ve had ch...</td>\n",
       "      <td>I have have flawless credit for yrs I ve have ...</td>\n",
       "      <td>credit yrs chase credit freedom balance life p...</td>\n",
       "    </tr>\n",
       "    <tr>\n",
       "      <th>78312</th>\n",
       "      <td>roughly years ago i closed out my accounts wit...</td>\n",
       "      <td>roughly year ago I close out my account with j...</td>\n",
       "      <td>order line credit account payment payment cred...</td>\n",
       "    </tr>\n",
       "  </tbody>\n",
       "</table>\n",
       "<p>21072 rows × 3 columns</p>\n",
       "</div>"
      ],
      "text/plain": [
       "                                 complaint_what_happened  \\\n",
       "1      good morning my name is xxxx xxxx and i apprec...   \n",
       "2      i upgraded my xxxx xxxx card in xx xx and was ...   \n",
       "10     chase card was reported on xx xx however fraud...   \n",
       "11     on xx xx while trying to book a xxxx xxxx tick...   \n",
       "14     my grand son give me check for i deposit it in...   \n",
       "...                                                  ...   \n",
       "78303  after being a chase card customer for well ove...   \n",
       "78309  on wednesday xx xx xxxx i called chas my xxxx ...   \n",
       "78310  i am not familiar with xxxx pay and did not un...   \n",
       "78311  i have had flawless credit for yrs i ve had ch...   \n",
       "78312  roughly years ago i closed out my accounts wit...   \n",
       "\n",
       "                                              lemmatized  \\\n",
       "1      good morning my name be xxxx xxxx and I apprec...   \n",
       "2      I upgrade my xxxx xxxx card in xx xx and be te...   \n",
       "10     chase card be report on xx xx however fraudule...   \n",
       "11     on xx xx while try to book a xxxx xxxx ticket ...   \n",
       "14     my grand son give I check for I deposit it int...   \n",
       "...                                                  ...   \n",
       "78303  after be a chase card customer for well over a...   \n",
       "78309  on wednesday xx xx xxxx I call chas my xxxx xx...   \n",
       "78310  I be not familiar with xxxx pay and do not und...   \n",
       "78311  I have have flawless credit for yrs I ve have ...   \n",
       "78312  roughly year ago I close out my account with j...   \n",
       "\n",
       "                                             removed_pos  \n",
       "1      morning name stop debt verification statement ...  \n",
       "2      agent anniversary date agent information order...  \n",
       "10     chase card application identity consent credit...  \n",
       "11     ticket offer ticket card information offer min...  \n",
       "14     son check chase account fund chase bank accoun...  \n",
       "...                                                  ...  \n",
       "78303  chase card customer decade credit chase bonus ...  \n",
       "78309  credit card provider claim purchase protection...  \n",
       "78310  pay risk chase bank app chase banking merchant...  \n",
       "78311  credit yrs chase credit freedom balance life p...  \n",
       "78312  order line credit account payment payment cred...  \n",
       "\n",
       "[21072 rows x 3 columns]"
      ]
     },
     "execution_count": 56,
     "metadata": {},
     "output_type": "execute_result"
    }
   ],
   "source": [
    "df_clean"
   ]
  },
  {
   "cell_type": "code",
   "execution_count": 57,
   "id": "4335258c",
   "metadata": {},
   "outputs": [],
   "source": [
    "from sklearn.feature_extraction.text import TfidfVectorizer\n",
    "vectorizer=TfidfVectorizer(ngram_range=(1,3),min_df=2,max_df=0.8)"
   ]
  },
  {
   "cell_type": "code",
   "execution_count": 58,
   "id": "a120c4d7",
   "metadata": {},
   "outputs": [],
   "source": [
    "doc_vec=vectorizer.fit_transform(df_clean['removed_pos'])\n"
   ]
  },
  {
   "cell_type": "code",
   "execution_count": 59,
   "id": "e7628c5e",
   "metadata": {},
   "outputs": [
    {
     "name": "stderr",
     "output_type": "stream",
     "text": [
      "C:\\Users\\dhana\\anaconda3\\lib\\site-packages\\sklearn\\decomposition\\_nmf.py:289: FutureWarning: The 'init' value, when 'init=None' and n_components is less than n_samples and n_features, will be changed from 'nndsvd' to 'nndsvda' in 1.1 (renaming of 0.26).\n",
      "  warnings.warn(\n"
     ]
    }
   ],
   "source": [
    "from sklearn.decomposition import NMF\n",
    "nmf_model=NMF(n_components=5,random_state=40)\n",
    "nmf_model.fit(doc_vec)\n",
    "topic_results=nmf_model.transform(doc_vec)"
   ]
  },
  {
   "cell_type": "code",
   "execution_count": 60,
   "id": "31efdb18",
   "metadata": {},
   "outputs": [
    {
     "data": {
      "text/plain": [
       "array([0.01393414, 0.05975535, 0.00527301, 0.        , 0.0015716 ])"
      ]
     },
     "execution_count": 60,
     "metadata": {},
     "output_type": "execute_result"
    }
   ],
   "source": [
    "topic_results[14]"
   ]
  },
  {
   "cell_type": "code",
   "execution_count": 61,
   "id": "65086888",
   "metadata": {},
   "outputs": [],
   "source": [
    "df_clean['Topic']=topic_results.argmax(axis=1)"
   ]
  },
  {
   "cell_type": "code",
   "execution_count": 62,
   "id": "3b762c85",
   "metadata": {},
   "outputs": [
    {
     "data": {
      "text/html": [
       "<div>\n",
       "<style scoped>\n",
       "    .dataframe tbody tr th:only-of-type {\n",
       "        vertical-align: middle;\n",
       "    }\n",
       "\n",
       "    .dataframe tbody tr th {\n",
       "        vertical-align: top;\n",
       "    }\n",
       "\n",
       "    .dataframe thead th {\n",
       "        text-align: right;\n",
       "    }\n",
       "</style>\n",
       "<table border=\"1\" class=\"dataframe\">\n",
       "  <thead>\n",
       "    <tr style=\"text-align: right;\">\n",
       "      <th></th>\n",
       "      <th>removed_pos</th>\n",
       "      <th>Topic</th>\n",
       "    </tr>\n",
       "  </thead>\n",
       "  <tbody>\n",
       "    <tr>\n",
       "      <th>1</th>\n",
       "      <td>morning name stop debt verification statement ...</td>\n",
       "      <td>0</td>\n",
       "    </tr>\n",
       "    <tr>\n",
       "      <th>2</th>\n",
       "      <td>agent anniversary date agent information order...</td>\n",
       "      <td>0</td>\n",
       "    </tr>\n",
       "    <tr>\n",
       "      <th>10</th>\n",
       "      <td>chase card application identity consent credit...</td>\n",
       "      <td>1</td>\n",
       "    </tr>\n",
       "    <tr>\n",
       "      <th>11</th>\n",
       "      <td>ticket offer ticket card information offer min...</td>\n",
       "      <td>3</td>\n",
       "    </tr>\n",
       "    <tr>\n",
       "      <th>14</th>\n",
       "      <td>son check chase account fund chase bank accoun...</td>\n",
       "      <td>0</td>\n",
       "    </tr>\n",
       "    <tr>\n",
       "      <th>...</th>\n",
       "      <td>...</td>\n",
       "      <td>...</td>\n",
       "    </tr>\n",
       "    <tr>\n",
       "      <th>78303</th>\n",
       "      <td>chase card customer decade credit chase bonus ...</td>\n",
       "      <td>1</td>\n",
       "    </tr>\n",
       "    <tr>\n",
       "      <th>78309</th>\n",
       "      <td>credit card provider claim purchase protection...</td>\n",
       "      <td>1</td>\n",
       "    </tr>\n",
       "    <tr>\n",
       "      <th>78310</th>\n",
       "      <td>pay risk chase bank app chase banking merchant...</td>\n",
       "      <td>0</td>\n",
       "    </tr>\n",
       "    <tr>\n",
       "      <th>78311</th>\n",
       "      <td>credit yrs chase credit freedom balance life p...</td>\n",
       "      <td>4</td>\n",
       "    </tr>\n",
       "    <tr>\n",
       "      <th>78312</th>\n",
       "      <td>order line credit account payment payment cred...</td>\n",
       "      <td>4</td>\n",
       "    </tr>\n",
       "  </tbody>\n",
       "</table>\n",
       "<p>21072 rows × 2 columns</p>\n",
       "</div>"
      ],
      "text/plain": [
       "                                             removed_pos  Topic\n",
       "1      morning name stop debt verification statement ...      0\n",
       "2      agent anniversary date agent information order...      0\n",
       "10     chase card application identity consent credit...      1\n",
       "11     ticket offer ticket card information offer min...      3\n",
       "14     son check chase account fund chase bank accoun...      0\n",
       "...                                                  ...    ...\n",
       "78303  chase card customer decade credit chase bonus ...      1\n",
       "78309  credit card provider claim purchase protection...      1\n",
       "78310  pay risk chase bank app chase banking merchant...      0\n",
       "78311  credit yrs chase credit freedom balance life p...      4\n",
       "78312  order line credit account payment payment cred...      4\n",
       "\n",
       "[21072 rows x 2 columns]"
      ]
     },
     "execution_count": 62,
     "metadata": {},
     "output_type": "execute_result"
    }
   ],
   "source": [
    "df_clean[['removed_pos','Topic']]"
   ]
  },
  {
   "cell_type": "code",
   "execution_count": 63,
   "id": "93f8cb0d",
   "metadata": {},
   "outputs": [
    {
     "data": {
      "text/plain": [
       "'morning name stop debt verification statement bank debt mail month debt right information consumer chase account advance help'"
      ]
     },
     "execution_count": 63,
     "metadata": {},
     "output_type": "execute_result"
    }
   ],
   "source": [
    "df_clean[df_clean['Topic']==0]['removed_pos'][1]"
   ]
  },
  {
   "cell_type": "code",
   "execution_count": 64,
   "id": "3c62b20e",
   "metadata": {},
   "outputs": [
    {
     "data": {
      "text/plain": [
       "'pay risk chase bank app chase banking merchant merchant communication website merchant consent research phone number information pi merchant account title cycle fraud voip identity report report recourse matter protocol place issue chase app verbiage point app branch chase banking service imply degree entitlement customer service protection chase link risk service concern chase minimum risk banking app public individual identity neighbor television news network risk banking public fraud scamming banking mogul chase recourse action risk extent'"
      ]
     },
     "execution_count": 64,
     "metadata": {},
     "output_type": "execute_result"
    }
   ],
   "source": [
    "df_clean[df_clean['Topic']==0]['removed_pos'][78310]"
   ]
  },
  {
   "cell_type": "code",
   "execution_count": 65,
   "id": "3ae9b9de",
   "metadata": {},
   "outputs": [
    {
     "data": {
      "text/plain": [
       "'payment retailer chase pay chase website scam website confirmation product response order chase information transaction refund bank chase message way transaction contact information recipient message response email transfer website scam email expertise team order refund consumer online support team number email situation department transaction chase information transfer agent call closing script contact number opportunity information information system bank transaction customer service agent information transaction chase system transaction line everything understanding situation call chase chase time agent information bank information information situation department information nothing nature transaction chase information email address banking information system phone transaction responsibility matter process chase information situation way money way business advertising way customer service team'"
      ]
     },
     "execution_count": 65,
     "metadata": {},
     "output_type": "execute_result"
    }
   ],
   "source": [
    "df_clean[df_clean['Topic']==0]['removed_pos'][21]"
   ]
  },
  {
   "cell_type": "code",
   "execution_count": 66,
   "id": "3b81d7ad",
   "metadata": {},
   "outputs": [
    {
     "data": {
      "text/plain": [
       "'son check chase account fund chase bank account money son check money chase bank money son chase check owner country time date check number claim number chase'"
      ]
     },
     "execution_count": 66,
     "metadata": {},
     "output_type": "execute_result"
    }
   ],
   "source": [
    "df_clean[df_clean['Topic']==0]['removed_pos'][14]"
   ]
  },
  {
   "cell_type": "code",
   "execution_count": 67,
   "id": "8a52bb24",
   "metadata": {},
   "outputs": [
    {
     "data": {
      "text/plain": [
       "10       chase card application identity consent credit...\n",
       "32       chase amazon card catering order funeral amoun...\n",
       "50       citizen time share nothing refund credit card ...\n",
       "52       roommate chase debit card license money accoun...\n",
       "59       chase bonus chase freedom page request time im...\n",
       "                               ...                        \n",
       "78294    concert someone risk lot ticket confirmation c...\n",
       "78295    chase card portal chase price card account cre...\n",
       "78296    dispute credit card company chase visa purchas...\n",
       "78303    chase card customer decade credit chase bonus ...\n",
       "78309    credit card provider claim purchase protection...\n",
       "Name: removed_pos, Length: 5756, dtype: object"
      ]
     },
     "execution_count": 67,
     "metadata": {},
     "output_type": "execute_result"
    }
   ],
   "source": [
    "df_clean[df_clean['Topic']==1]['removed_pos']"
   ]
  },
  {
   "cell_type": "code",
   "execution_count": 68,
   "id": "9a4268d8",
   "metadata": {
    "scrolled": true
   },
   "outputs": [
    {
     "data": {
      "text/plain": [
       "'chase bonus chase freedom page request time image error t uncommon chase customer support ticket tech team case call lot time situation bunch information com chase com result phone travel center account browser phone application page request time vp customer flight hotel chase sapphire credit credit card purchase story t anything lot inconvenience travel issue asap'"
      ]
     },
     "execution_count": 68,
     "metadata": {},
     "output_type": "execute_result"
    }
   ],
   "source": [
    "df_clean[df_clean['Topic']==1]['removed_pos'][59]"
   ]
  },
  {
   "cell_type": "code",
   "execution_count": 69,
   "id": "fea3b318",
   "metadata": {},
   "outputs": [
    {
     "data": {
      "text/plain": [
       "'dispute credit card company chase visa purchase dispute t misinformation vendor documentation dispute phone resolution chase service chase branch assistance branch manager matter time chase visa discuss dispute fault chase responsibility failure matter'"
      ]
     },
     "execution_count": 69,
     "metadata": {},
     "output_type": "execute_result"
    }
   ],
   "source": [
    "df_clean[df_clean['Topic']==1]['removed_pos'][78296]"
   ]
  },
  {
   "cell_type": "code",
   "execution_count": 70,
   "id": "16c9e2a5",
   "metadata": {},
   "outputs": [
    {
     "data": {
      "text/plain": [
       "57                       loan modification chase runaround\n",
       "73       chase reinstatement amount order foreclosure p...\n",
       "81       loan title chase time resolution time nothing ...\n",
       "99       name payment loan modification loss mitigation...\n",
       "127      member auto finance gap insurance waiver cover...\n",
       "                               ...                        \n",
       "78244    cfpb law representative bank case circuit cler...\n",
       "78246    cfpb mortgage loan issue alternative loan sale...\n",
       "78249    heloc failure notary signing document bank man...\n",
       "78283    loan file line credit agreement chase straw ma...\n",
       "78293    attorney bankruptcy copy cease letter cease le...\n",
       "Name: removed_pos, Length: 3868, dtype: object"
      ]
     },
     "execution_count": 70,
     "metadata": {},
     "output_type": "execute_result"
    }
   ],
   "source": [
    "df_clean[df_clean['Topic']==2]['removed_pos']"
   ]
  },
  {
   "cell_type": "code",
   "execution_count": 71,
   "id": "582150af",
   "metadata": {},
   "outputs": [
    {
     "data": {
      "text/plain": [
       "'member auto finance gap insurance waiver coverage time financing agreement premium vehicle chase auto finance vehicle financing agreement option gap insurance provider gap insurance gap waiver addendum insurance agreement chase auto finance deficiency event vehicle chase auto finance vehicle letter vehicle vehicle accident chase gap insurance waiver loss lien vehicle salvage value bank chase commitment deficiency insurance payout balance loan salvage value'"
      ]
     },
     "execution_count": 71,
     "metadata": {},
     "output_type": "execute_result"
    }
   ],
   "source": [
    "df_clean[df_clean['Topic']==2]['removed_pos'][127]"
   ]
  },
  {
   "cell_type": "code",
   "execution_count": 72,
   "id": "64250559",
   "metadata": {},
   "outputs": [
    {
     "data": {
      "text/plain": [
       "'name payment loan modification loss mitigation assistance help chase loan forbearance option issue refinancing debt time credit score'"
      ]
     },
     "execution_count": 72,
     "metadata": {},
     "output_type": "execute_result"
    }
   ],
   "source": [
    "df_clean[df_clean['Topic']==2]['removed_pos'][99]"
   ]
  },
  {
   "cell_type": "code",
   "execution_count": 73,
   "id": "1c6385b9",
   "metadata": {},
   "outputs": [
    {
     "data": {
      "text/plain": [
       "11     ticket offer ticket card information offer min...\n",
       "15                                               inquiry\n",
       "23         chase credit card credit report company issue\n",
       "26     attempt inquiry creditor inquiry report chase ...\n",
       "83              inquire credit bureau company chase auto\n",
       "86     student loan account department one contact cr...\n",
       "100                      chase credit credit none credit\n",
       "135                      credit inquiry business company\n",
       "139    complaint company problem lot violation accoun...\n",
       "143    credit account amazon credit credit reporting ...\n",
       "152                      inquiry inquiry inquiry inquiry\n",
       "162    inquiry credit score information inquiry credi...\n",
       "168    information knowledge phone credit information...\n",
       "240    copy documentation section section consumer co...\n",
       "283                           card inquiry credit report\n",
       "286    chase charge credit report charge card chase l...\n",
       "325    inquiry credit report credit bureau dispute le...\n",
       "360    police report case card fraud alert credit rep...\n",
       "369    report increase credit card limit request inqu...\n",
       "370    checking account chase website time processing...\n",
       "Name: removed_pos, dtype: object"
      ]
     },
     "execution_count": 73,
     "metadata": {},
     "output_type": "execute_result"
    }
   ],
   "source": [
    "df_clean[df_clean['Topic']==3]['removed_pos'][0:20]"
   ]
  },
  {
   "cell_type": "code",
   "execution_count": 39,
   "id": "1eb30f03",
   "metadata": {},
   "outputs": [
    {
     "data": {
      "text/plain": [
       "'complaint company problem lot violation account violation consumer dispute none account law creditor information consumer report violation fcra bureau violation number account payment violation bureau account asap violation fcra law liability remedy law consumer litigation matter chase threat credit company action court'"
      ]
     },
     "execution_count": 39,
     "metadata": {},
     "output_type": "execute_result"
    }
   ],
   "source": [
    "df_clean[df_clean['Topic']==3]['removed_pos'][139]"
   ]
  },
  {
   "cell_type": "code",
   "execution_count": 40,
   "id": "59fd1640",
   "metadata": {},
   "outputs": [
    {
     "data": {
      "text/plain": [
       "'police report case card fraud alert credit report bureau file identity theft trade file report consumer copy passport country year time file month accuracy card month flie attorney office file step chase card account credit report month dispute bureau one chase card company situation everything bureau response time dispute wife someone account name fouth'"
      ]
     },
     "execution_count": 40,
     "metadata": {},
     "output_type": "execute_result"
    }
   ],
   "source": [
    "df_clean[df_clean['Topic']==3]['removed_pos'][360]"
   ]
  },
  {
   "cell_type": "code",
   "execution_count": 41,
   "id": "d910ab12",
   "metadata": {},
   "outputs": [
    {
     "data": {
      "text/plain": [
       "20       summer decline income employment month payment...\n",
       "30       concern overdraft alert balance fee balance ch...\n",
       "58       purchase payment closing date statement statem...\n",
       "82       chase bank credit bureau payment info bill bal...\n",
       "141      action company individual group chase claim in...\n",
       "                               ...                        \n",
       "78265    reporting credit payment chase freedom credit ...\n",
       "78290    mail authorization option paper chase represen...\n",
       "78297    balance transfer apr rut debt godsend debt int...\n",
       "78311    credit yrs chase credit freedom balance life p...\n",
       "78312    order line credit account payment payment cred...\n",
       "Name: removed_pos, Length: 2599, dtype: object"
      ]
     },
     "execution_count": 41,
     "metadata": {},
     "output_type": "execute_result"
    }
   ],
   "source": [
    "df_clean[df_clean['Topic']==4]['removed_pos']"
   ]
  },
  {
   "cell_type": "code",
   "execution_count": 42,
   "id": "7fec5016",
   "metadata": {},
   "outputs": [
    {
     "data": {
      "text/plain": [
       "'action company individual group chase claim individual group payment loan claim individual group behalf credit card date payment s claim individual group claim individual group payment payment claim individual group hoa payment payment amount claim individual group amount claim individual group amount claim individual group amount claim individual group payment amount amount amount payment amount claim branch customer service representative advice account email debit card use issue paperwork chase department specialist transaction account information information guy situation know transaction transaction look nd call claim specialist claim specialist supervisor hold rd attempt help money review chase office claim office claim xxxx behalf claim office employee person number file case office phone handful account account end chase checking account description money account course voicemail message return call return call money account time hold xxxx explanation bit money nothing voicemail call school day point investigation decision research investigation information point situation'"
      ]
     },
     "execution_count": 42,
     "metadata": {},
     "output_type": "execute_result"
    }
   ],
   "source": [
    "df_clean[df_clean['Topic']==4]['removed_pos'][141]"
   ]
  },
  {
   "cell_type": "code",
   "execution_count": 43,
   "id": "4080bc74",
   "metadata": {},
   "outputs": [
    {
     "data": {
      "text/plain": [
       "'summer decline income employment month payment extension auto loan company chase past request payment extension auto loan payment request month payment extension year situation supervisor avail discussion reason decline reason denial office representative chase week representative representative role matter representative conference call department request information request policy explanation representative letter explanation reason denial policy cfpb help denial payment extension request reason denial'"
      ]
     },
     "execution_count": 43,
     "metadata": {},
     "output_type": "execute_result"
    }
   ],
   "source": [
    "df_clean[df_clean['Topic']==4]['removed_pos'][20]"
   ]
  },
  {
   "cell_type": "code",
   "execution_count": 44,
   "id": "e1a11de3",
   "metadata": {},
   "outputs": [
    {
     "data": {
      "text/plain": [
       "'purchase payment closing date statement statement purchase balance statement one statement purchase balance balance xxxx balance difference payment payment chase purchase balance understanding payment excess minimum interest rate balance time chase law profit help problem logic chase advance assistance'"
      ]
     },
     "execution_count": 44,
     "metadata": {},
     "output_type": "execute_result"
    }
   ],
   "source": [
    "df_clean[df_clean['Topic']==4]['removed_pos'][58]"
   ]
  },
  {
   "cell_type": "code",
   "execution_count": 74,
   "id": "bfbbc94f",
   "metadata": {},
   "outputs": [],
   "source": [
    "Topic_mapping={\n",
    "    0:\"Bank Account Service\",\n",
    "    1: \"Credit or Debit Card\",\n",
    "    2: \"Loan/Mortgage\",\n",
    "    3: \"Theft/Dispute Reporting\",\n",
    "    4: \"Others\"\n",
    "\n",
    "}\n",
    "df_clean[\"Topic\"]=df_clean['Topic'].map(Topic_mapping)"
   ]
  },
  {
   "cell_type": "code",
   "execution_count": 75,
   "id": "b2174775",
   "metadata": {},
   "outputs": [
    {
     "data": {
      "text/html": [
       "<div>\n",
       "<style scoped>\n",
       "    .dataframe tbody tr th:only-of-type {\n",
       "        vertical-align: middle;\n",
       "    }\n",
       "\n",
       "    .dataframe tbody tr th {\n",
       "        vertical-align: top;\n",
       "    }\n",
       "\n",
       "    .dataframe thead th {\n",
       "        text-align: right;\n",
       "    }\n",
       "</style>\n",
       "<table border=\"1\" class=\"dataframe\">\n",
       "  <thead>\n",
       "    <tr style=\"text-align: right;\">\n",
       "      <th></th>\n",
       "      <th>complaint_what_happened</th>\n",
       "      <th>lemmatized</th>\n",
       "      <th>removed_pos</th>\n",
       "      <th>Topic</th>\n",
       "    </tr>\n",
       "  </thead>\n",
       "  <tbody>\n",
       "    <tr>\n",
       "      <th>1</th>\n",
       "      <td>good morning my name is xxxx xxxx and i apprec...</td>\n",
       "      <td>good morning my name be xxxx xxxx and I apprec...</td>\n",
       "      <td>morning name stop debt verification statement ...</td>\n",
       "      <td>Bank Account Service</td>\n",
       "    </tr>\n",
       "    <tr>\n",
       "      <th>2</th>\n",
       "      <td>i upgraded my xxxx xxxx card in xx xx and was ...</td>\n",
       "      <td>I upgrade my xxxx xxxx card in xx xx and be te...</td>\n",
       "      <td>agent anniversary date agent information order...</td>\n",
       "      <td>Bank Account Service</td>\n",
       "    </tr>\n",
       "    <tr>\n",
       "      <th>10</th>\n",
       "      <td>chase card was reported on xx xx however fraud...</td>\n",
       "      <td>chase card be report on xx xx however fraudule...</td>\n",
       "      <td>chase card application identity consent credit...</td>\n",
       "      <td>Credit or Debit Card</td>\n",
       "    </tr>\n",
       "    <tr>\n",
       "      <th>11</th>\n",
       "      <td>on xx xx while trying to book a xxxx xxxx tick...</td>\n",
       "      <td>on xx xx while try to book a xxxx xxxx ticket ...</td>\n",
       "      <td>ticket offer ticket card information offer min...</td>\n",
       "      <td>Theft/Dispute Reporting</td>\n",
       "    </tr>\n",
       "    <tr>\n",
       "      <th>14</th>\n",
       "      <td>my grand son give me check for i deposit it in...</td>\n",
       "      <td>my grand son give I check for I deposit it int...</td>\n",
       "      <td>son check chase account fund chase bank accoun...</td>\n",
       "      <td>Bank Account Service</td>\n",
       "    </tr>\n",
       "    <tr>\n",
       "      <th>...</th>\n",
       "      <td>...</td>\n",
       "      <td>...</td>\n",
       "      <td>...</td>\n",
       "      <td>...</td>\n",
       "    </tr>\n",
       "    <tr>\n",
       "      <th>78303</th>\n",
       "      <td>after being a chase card customer for well ove...</td>\n",
       "      <td>after be a chase card customer for well over a...</td>\n",
       "      <td>chase card customer decade credit chase bonus ...</td>\n",
       "      <td>Credit or Debit Card</td>\n",
       "    </tr>\n",
       "    <tr>\n",
       "      <th>78309</th>\n",
       "      <td>on wednesday xx xx xxxx i called chas my xxxx ...</td>\n",
       "      <td>on wednesday xx xx xxxx I call chas my xxxx xx...</td>\n",
       "      <td>credit card provider claim purchase protection...</td>\n",
       "      <td>Credit or Debit Card</td>\n",
       "    </tr>\n",
       "    <tr>\n",
       "      <th>78310</th>\n",
       "      <td>i am not familiar with xxxx pay and did not un...</td>\n",
       "      <td>I be not familiar with xxxx pay and do not und...</td>\n",
       "      <td>pay risk chase bank app chase banking merchant...</td>\n",
       "      <td>Bank Account Service</td>\n",
       "    </tr>\n",
       "    <tr>\n",
       "      <th>78311</th>\n",
       "      <td>i have had flawless credit for yrs i ve had ch...</td>\n",
       "      <td>I have have flawless credit for yrs I ve have ...</td>\n",
       "      <td>credit yrs chase credit freedom balance life p...</td>\n",
       "      <td>Others</td>\n",
       "    </tr>\n",
       "    <tr>\n",
       "      <th>78312</th>\n",
       "      <td>roughly years ago i closed out my accounts wit...</td>\n",
       "      <td>roughly year ago I close out my account with j...</td>\n",
       "      <td>order line credit account payment payment cred...</td>\n",
       "      <td>Others</td>\n",
       "    </tr>\n",
       "  </tbody>\n",
       "</table>\n",
       "<p>21072 rows × 4 columns</p>\n",
       "</div>"
      ],
      "text/plain": [
       "                                 complaint_what_happened  \\\n",
       "1      good morning my name is xxxx xxxx and i apprec...   \n",
       "2      i upgraded my xxxx xxxx card in xx xx and was ...   \n",
       "10     chase card was reported on xx xx however fraud...   \n",
       "11     on xx xx while trying to book a xxxx xxxx tick...   \n",
       "14     my grand son give me check for i deposit it in...   \n",
       "...                                                  ...   \n",
       "78303  after being a chase card customer for well ove...   \n",
       "78309  on wednesday xx xx xxxx i called chas my xxxx ...   \n",
       "78310  i am not familiar with xxxx pay and did not un...   \n",
       "78311  i have had flawless credit for yrs i ve had ch...   \n",
       "78312  roughly years ago i closed out my accounts wit...   \n",
       "\n",
       "                                              lemmatized  \\\n",
       "1      good morning my name be xxxx xxxx and I apprec...   \n",
       "2      I upgrade my xxxx xxxx card in xx xx and be te...   \n",
       "10     chase card be report on xx xx however fraudule...   \n",
       "11     on xx xx while try to book a xxxx xxxx ticket ...   \n",
       "14     my grand son give I check for I deposit it int...   \n",
       "...                                                  ...   \n",
       "78303  after be a chase card customer for well over a...   \n",
       "78309  on wednesday xx xx xxxx I call chas my xxxx xx...   \n",
       "78310  I be not familiar with xxxx pay and do not und...   \n",
       "78311  I have have flawless credit for yrs I ve have ...   \n",
       "78312  roughly year ago I close out my account with j...   \n",
       "\n",
       "                                             removed_pos  \\\n",
       "1      morning name stop debt verification statement ...   \n",
       "2      agent anniversary date agent information order...   \n",
       "10     chase card application identity consent credit...   \n",
       "11     ticket offer ticket card information offer min...   \n",
       "14     son check chase account fund chase bank accoun...   \n",
       "...                                                  ...   \n",
       "78303  chase card customer decade credit chase bonus ...   \n",
       "78309  credit card provider claim purchase protection...   \n",
       "78310  pay risk chase bank app chase banking merchant...   \n",
       "78311  credit yrs chase credit freedom balance life p...   \n",
       "78312  order line credit account payment payment cred...   \n",
       "\n",
       "                         Topic  \n",
       "1         Bank Account Service  \n",
       "2         Bank Account Service  \n",
       "10        Credit or Debit Card  \n",
       "11     Theft/Dispute Reporting  \n",
       "14        Bank Account Service  \n",
       "...                        ...  \n",
       "78303     Credit or Debit Card  \n",
       "78309     Credit or Debit Card  \n",
       "78310     Bank Account Service  \n",
       "78311                   Others  \n",
       "78312                   Others  \n",
       "\n",
       "[21072 rows x 4 columns]"
      ]
     },
     "execution_count": 75,
     "metadata": {},
     "output_type": "execute_result"
    }
   ],
   "source": [
    "df_clean"
   ]
  },
  {
   "cell_type": "code",
   "execution_count": 76,
   "id": "3ad514e4",
   "metadata": {
    "scrolled": true
   },
   "outputs": [
    {
     "data": {
      "text/plain": [
       "<21072x28081 sparse matrix of type '<class 'numpy.int64'>'\n",
       "\twith 2283926 stored elements in Compressed Sparse Row format>"
      ]
     },
     "execution_count": 76,
     "metadata": {},
     "output_type": "execute_result"
    }
   ],
   "source": [
    "from sklearn.feature_extraction.text import CountVectorizer\n",
    "count_vec=CountVectorizer()\n",
    "trains_count=count_vec.fit_transform(df_clean['complaint_what_happened'])\n",
    "trains_count"
   ]
  },
  {
   "cell_type": "code",
   "execution_count": 77,
   "id": "6741d1cc",
   "metadata": {},
   "outputs": [],
   "source": [
    "from sklearn.feature_extraction.text import TfidfTransformer\n",
    "tfidf_transformer = TfidfTransformer()\n",
    "trains_count_tfidf =  tfidf_transformer.fit_transform(trains_count)"
   ]
  },
  {
   "cell_type": "code",
   "execution_count": 78,
   "id": "e755e691",
   "metadata": {},
   "outputs": [],
   "source": [
    "\n",
    "from sklearn.model_selection import train_test_split\n",
    "X_train,X_test,y_train,y_test = train_test_split(trains_count_tfidf,df_clean['Topic'],train_size=0.75,random_state=20)"
   ]
  },
  {
   "cell_type": "code",
   "execution_count": 87,
   "id": "2ae9b231",
   "metadata": {},
   "outputs": [],
   "source": [
    "from sklearn.metrics import classification_report,confusion_matrix,ConfusionMatrixDisplay,accuracy_score\n",
    "def show_classification_report(model):\n",
    "    model.fit(X_train,y_train)\n",
    "    y_pred=model.predict(X_test)\n",
    "    print(accuracy_score(y_test,y_pred))\n",
    "    print(classification_report(y_test,y_pred))\n",
    "    fig,ax=plt.subplots(figsize=(12,8))\n",
    "    cm=confusion_matrix(y_test,y_pred)\n",
    "    cmp=ConfusionMatrixDisplay(cm,display_labels=model.classes_)\n",
    "    cmp.plot(ax=ax)\n",
    "    plt.xticks(rotation=80)\n",
    "    plt.show()"
   ]
  },
  {
   "cell_type": "code",
   "execution_count": 88,
   "id": "925aabd4",
   "metadata": {},
   "outputs": [
    {
     "name": "stdout",
     "output_type": "stream",
     "text": [
      "0.6315489749430524\n",
      "                         precision    recall  f1-score   support\n",
      "\n",
      "   Bank Account Service       0.59      0.94      0.72      1621\n",
      "   Credit or Debit Card       0.58      0.75      0.66      1476\n",
      "          Loan/Mortgage       0.87      0.66      0.75       940\n",
      "                 Others       0.94      0.02      0.05       651\n",
      "Theft/Dispute Reporting       0.89      0.11      0.20       580\n",
      "\n",
      "               accuracy                           0.63      5268\n",
      "              macro avg       0.78      0.50      0.48      5268\n",
      "           weighted avg       0.72      0.63      0.57      5268\n",
      "\n"
     ]
    },
    {
     "data": {
      "image/png": "[encoded data removed]",
      "text/plain": [
       "<Figure size 864x576 with 2 Axes>"
      ]
     },
     "metadata": {
      "needs_background": "light"
     },
     "output_type": "display_data"
    }
   ],
   "source": [
    "from sklearn.naive_bayes import MultinomialNB\n",
    "clf =MultinomialNB()\n",
    "show_classification_report(clf)"
   ]
  },
  {
   "cell_type": "code",
   "execution_count": 90,
   "id": "d1d48162",
   "metadata": {},
   "outputs": [
    {
     "name": "stderr",
     "output_type": "stream",
     "text": [
      "C:\\Users\\dhana\\anaconda3\\lib\\site-packages\\sklearn\\linear_model\\_logistic.py:814: ConvergenceWarning: lbfgs failed to converge (status=1):\n",
      "STOP: TOTAL NO. of ITERATIONS REACHED LIMIT.\n",
      "\n",
      "Increase the number of iterations (max_iter) or scale the data as shown in:\n",
      "    https://scikit-learn.org/stable/modules/preprocessing.html\n",
      "Please also refer to the documentation for alternative solver options:\n",
      "    https://scikit-learn.org/stable/modules/linear_model.html#logistic-regression\n",
      "  n_iter_i = _check_optimize_result(\n"
     ]
    },
    {
     "name": "stdout",
     "output_type": "stream",
     "text": [
      "0.9100227790432802\n",
      "                         precision    recall  f1-score   support\n",
      "\n",
      "   Bank Account Service       0.91      0.95      0.93      1621\n",
      "   Credit or Debit Card       0.90      0.94      0.92      1476\n",
      "          Loan/Mortgage       0.91      0.92      0.92       940\n",
      "                 Others       0.94      0.82      0.88       651\n",
      "Theft/Dispute Reporting       0.88      0.82      0.85       580\n",
      "\n",
      "               accuracy                           0.91      5268\n",
      "              macro avg       0.91      0.89      0.90      5268\n",
      "           weighted avg       0.91      0.91      0.91      5268\n",
      "\n"
     ]
    },
    {
     "data": {
      "image/png": "[encoded data removed]",
      "text/plain": [
       "<Figure size 864x576 with 2 Axes>"
      ]
     },
     "metadata": {
      "needs_background": "light"
     },
     "output_type": "display_data"
    }
   ],
   "source": [
    "from sklearn.linear_model import LogisticRegression\n",
    "lr=LogisticRegression()\n",
    "show_classification_report(lr)\n",
    "import warnings\n",
    "warnings.filterwarnings('ignore')"
   ]
  },
  {
   "cell_type": "code",
   "execution_count": 91,
   "id": "e09ecb07",
   "metadata": {},
   "outputs": [
    {
     "name": "stdout",
     "output_type": "stream",
     "text": [
      "0.8096051632498101\n",
      "                         precision    recall  f1-score   support\n",
      "\n",
      "   Bank Account Service       0.84      0.82      0.83      1621\n",
      "   Credit or Debit Card       0.82      0.84      0.83      1476\n",
      "          Loan/Mortgage       0.83      0.83      0.83       940\n",
      "                 Others       0.72      0.71      0.72       651\n",
      "Theft/Dispute Reporting       0.76      0.76      0.76       580\n",
      "\n",
      "               accuracy                           0.81      5268\n",
      "              macro avg       0.79      0.79      0.79      5268\n",
      "           weighted avg       0.81      0.81      0.81      5268\n",
      "\n"
     ]
    },
    {
     "data": {
      "image/png": "[encoded data removed]",
      "text/plain": [
       "<Figure size 864x576 with 2 Axes>"
      ]
     },
     "metadata": {
      "needs_background": "light"
     },
     "output_type": "display_data"
    }
   ],
   "source": [
    "from sklearn.tree import DecisionTreeClassifier\n",
    "Dt=DecisionTreeClassifier(random_state=30)\n",
    "show_classification_report(Dt)"
   ]
  },
  {
   "cell_type": "code",
   "execution_count": 92,
   "id": "4030bafc",
   "metadata": {},
   "outputs": [
    {
     "name": "stdout",
     "output_type": "stream",
     "text": [
      "0.8149202733485194\n",
      "                         precision    recall  f1-score   support\n",
      "\n",
      "   Bank Account Service       0.79      0.92      0.85      1621\n",
      "   Credit or Debit Card       0.79      0.90      0.84      1476\n",
      "          Loan/Mortgage       0.86      0.85      0.86       940\n",
      "                 Others       0.88      0.42      0.57       651\n",
      "Theft/Dispute Reporting       0.88      0.68      0.77       580\n",
      "\n",
      "               accuracy                           0.81      5268\n",
      "              macro avg       0.84      0.76      0.78      5268\n",
      "           weighted avg       0.82      0.81      0.81      5268\n",
      "\n"
     ]
    },
    {
     "data": {
      "image/png": "[encoded data removed]",
      "text/plain": [
       "<Figure size 864x576 with 2 Axes>"
      ]
     },
     "metadata": {
      "needs_background": "light"
     },
     "output_type": "display_data"
    }
   ],
   "source": [
    "from sklearn.ensemble import RandomForestClassifier\n",
    "rf=RandomForestClassifier()\n",
    "show_classification_report(rf)"
   ]
  },
  {
   "cell_type": "code",
   "execution_count": 93,
   "id": "d1fd2978",
   "metadata": {},
   "outputs": [],
   "source": [
    "from sklearn.model_selection import StratifiedKFold\n",
    "folds=StratifiedKFold(n_splits=5,shuffle=True,random_state=40)\n"
   ]
  },
  {
   "cell_type": "code",
   "execution_count": 97,
   "id": "8eea8002",
   "metadata": {},
   "outputs": [],
   "source": [
    "from sklearn.model_selection import GridSearchCV\n",
    "def grid_search(model,folds,params,scoring):\n",
    "    grid_search=GridSearchCV(model,cv=folds,param_grid=params,scoring=scoring,n_jobs=-1,verbose=1)\n",
    "    return grid_search"
   ]
  },
  {
   "cell_type": "code",
   "execution_count": 105,
   "id": "a03b39ae",
   "metadata": {},
   "outputs": [],
   "source": [
    "def best_score_params(model):\n",
    "    model.fit(X_train,y_train)\n",
    "    print(\"best score:\",model.best_score_)\n",
    "    print(\"best_params:\",model.best_params_)"
   ]
  },
  {
   "cell_type": "code",
   "execution_count": 106,
   "id": "438c8d76",
   "metadata": {},
   "outputs": [
    {
     "name": "stdout",
     "output_type": "stream",
     "text": [
      "Fitting 5 folds for each of 4 candidates, totalling 20 fits\n",
      "best score: 0.7489237502953319\n",
      "best_params: {'alpha': 0.01}\n",
      "Fitting 5 folds for each of 4 candidates, totalling 20 fits\n",
      "0.7593014426727411\n",
      "                         precision    recall  f1-score   support\n",
      "\n",
      "   Bank Account Service       0.77      0.84      0.80      1621\n",
      "   Credit or Debit Card       0.74      0.77      0.76      1476\n",
      "          Loan/Mortgage       0.80      0.81      0.81       940\n",
      "                 Others       0.73      0.55      0.63       651\n",
      "Theft/Dispute Reporting       0.72      0.64      0.68       580\n",
      "\n",
      "               accuracy                           0.76      5268\n",
      "              macro avg       0.75      0.72      0.73      5268\n",
      "           weighted avg       0.76      0.76      0.76      5268\n",
      "\n"
     ]
    },
    {
     "data": {
      "image/png": "[encoded data removed]",
      "text/plain": [
       "<Figure size 864x576 with 2 Axes>"
      ]
     },
     "metadata": {
      "needs_background": "light"
     },
     "output_type": "display_data"
    }
   ],
   "source": [
    "mn=MultinomialNB()\n",
    "mn_params={\n",
    "    'alpha':(0.1,0.01,0.001,0.0001)\n",
    "}\n",
    "\n",
    "mn_grid_search=grid_search(mn,folds,mn_params,scoring=None)\n",
    "best_score_params(mn_grid_search)\n",
    "show_classification_report(mn_grid_search)"
   ]
  },
  {
   "cell_type": "code",
   "execution_count": 109,
   "id": "dcc927cb",
   "metadata": {
    "scrolled": true
   },
   "outputs": [
    {
     "name": "stdout",
     "output_type": "stream",
     "text": [
      "Fitting 5 folds for each of 18 candidates, totalling 90 fits\n",
      "best score: 0.9307141426963907\n",
      "best_params: {'C': 1, 'penalty': 'l1', 'solver': 'saga'}\n",
      "Fitting 5 folds for each of 18 candidates, totalling 90 fits\n",
      "0.932422171602126\n",
      "                         precision    recall  f1-score   support\n",
      "\n",
      "   Bank Account Service       0.94      0.95      0.95      1621\n",
      "   Credit or Debit Card       0.94      0.93      0.94      1476\n",
      "          Loan/Mortgage       0.93      0.96      0.94       940\n",
      "                 Others       0.93      0.91      0.92       651\n",
      "Theft/Dispute Reporting       0.89      0.88      0.88       580\n",
      "\n",
      "               accuracy                           0.93      5268\n",
      "              macro avg       0.93      0.92      0.93      5268\n",
      "           weighted avg       0.93      0.93      0.93      5268\n",
      "\n"
     ]
    },
    {
     "data": {
      "image/png": "[encoded data removed]",
      "text/plain": [
       "<Figure size 864x576 with 2 Axes>"
      ]
     },
     "metadata": {
      "needs_background": "light"
     },
     "output_type": "display_data"
    }
   ],
   "source": [
    "lr=LogisticRegression()\n",
    "lr_params={\n",
    "    'C':[0.01,1,10],\n",
    "    'penalty':['l1','l2'],\n",
    "    'solver':['liblinear','newton-cg','saga']\n",
    "}\n",
    "lr_grid_search=grid_search(lr,folds,lr_params,scoring=None)\n",
    "best_score_params(lr_grid_search)\n",
    "show_classification_report(lr_grid_search)"
   ]
  },
  {
   "cell_type": "code",
   "execution_count": 112,
   "id": "85d28e1d",
   "metadata": {},
   "outputs": [
    {
     "name": "stdout",
     "output_type": "stream",
     "text": [
      "Fitting 5 folds for each of 16 candidates, totalling 80 fits\n",
      "best score: 0.9503147347875845\n",
      "best_params: {'max_depth': 20, 'min_samples_leaf': 30}\n",
      "Fitting 5 folds for each of 16 candidates, totalling 80 fits\n",
      "0.8185269552012149\n",
      "                         precision    recall  f1-score   support\n",
      "\n",
      "   Bank Account Service       0.83      0.86      0.85      1621\n",
      "   Credit or Debit Card       0.85      0.85      0.85      1476\n",
      "          Loan/Mortgage       0.80      0.86      0.83       940\n",
      "                 Others       0.79      0.66      0.72       651\n",
      "Theft/Dispute Reporting       0.77      0.74      0.75       580\n",
      "\n",
      "               accuracy                           0.82      5268\n",
      "              macro avg       0.81      0.79      0.80      5268\n",
      "           weighted avg       0.82      0.82      0.82      5268\n",
      "\n"
     ]
    },
    {
     "data": {
      "image/png": "[encoded data removed]",
      "text/plain": [
       "<Figure size 864x576 with 2 Axes>"
      ]
     },
     "metadata": {
      "needs_background": "light"
     },
     "output_type": "display_data"
    }
   ],
   "source": [
    "dt=DecisionTreeClassifier()\n",
    "dt_params={\n",
    "    'max_depth':[5,10,20,30],\n",
    "    'min_samples_leaf':[5,10,20,30]\n",
    "}\n",
    "dt_grid_search=grid_search(dt,folds,dt_params,scoring='roc_auc_ovr')\n",
    "best_score_params(dt_grid_search)\n",
    "show_classification_report(dt_grid_search)"
   ]
  },
  {
   "cell_type": "code",
   "execution_count": 119,
   "id": "d12cb390",
   "metadata": {},
   "outputs": [
    {
     "name": "stdout",
     "output_type": "stream",
     "text": [
      "Fitting 5 folds for each of 1 candidates, totalling 5 fits\n",
      "best score: 0.9726815314590652\n",
      "best_params: {'max_depth': 40, 'min_samples_leaf': 5, 'n_estimators': 700}\n",
      "Fitting 5 folds for each of 1 candidates, totalling 5 fits\n",
      "0.7947987851176918\n",
      "                         precision    recall  f1-score   support\n",
      "\n",
      "   Bank Account Service       0.76      0.94      0.84      1621\n",
      "   Credit or Debit Card       0.76      0.90      0.82      1476\n",
      "          Loan/Mortgage       0.86      0.83      0.85       940\n",
      "                 Others       0.93      0.33      0.49       651\n",
      "Theft/Dispute Reporting       0.89      0.58      0.71       580\n",
      "\n",
      "               accuracy                           0.79      5268\n",
      "              macro avg       0.84      0.72      0.74      5268\n",
      "           weighted avg       0.81      0.79      0.78      5268\n",
      "\n"
     ]
    },
    {
     "data": {
      "image/png": "[encoded data removed]",
      "text/plain": [
       "<Figure size 864x576 with 2 Axes>"
      ]
     },
     "metadata": {
      "needs_background": "light"
     },
     "output_type": "display_data"
    }
   ],
   "source": [
    "rf =RandomForestClassifier(random_state=40,n_jobs=-1,oob_score=True)\n",
    "rf_params={\n",
    "    'max_depth':[5,10,20,3040],\n",
    "    'min_samples_leaf':[5,10,20,30],\n",
    "    'n_estimators':[100,200,300,400,500,600,700]\n",
    "}\n",
    "rf_gridsearch=grid_search(rf,folds,rf_params,scoring='roc_auc_ovr')\n",
    "best_score_params(rf_gridsearch)\n",
    "show_classification_report(rf_gridsearch)"
   ]
  },
  {
   "cell_type": "code",
   "execution_count": 118,
   "id": "62292e58",
   "metadata": {},
   "outputs": [
    {
     "name": "stdout",
     "output_type": "stream",
     "text": [
      "enter ypur complain: complaint company problem lot violation account violation consumer dispute none account law creditor information consumer report violation fcra bureau violation number account payment violation bureau account asap violation fcra law liability remedy law consumer litigation matter chase threat credit company action court\n",
      "\n",
      "\n",
      "\n",
      "Complain is categorized as Theft/Dispute Reporting\n"
     ]
    }
   ],
   "source": [
    "complain = [input(\"enter ypur complain: \")]\n",
    "complain_vec = count_vec.transform(complain)\n",
    "complain_vec_tfidf = tfidf_transformer.transform(complain_vec)\n",
    "preditction = lr_grid_search.predict(complain_vec_tfidf)\n",
    "print(\"\\n\\n\")\n",
    "print(\"Complain is categorized as {}\".format(preditction[0]))\n"
   ]
  },
  {
   "cell_type": "code",
   "execution_count": null,
   "id": "43660baa",
   "metadata": {},
   "outputs": [],
   "source": []
  }
 ],
 "metadata": {
  "kernelspec": {
   "display_name": "Python 3 (ipykernel)",
   "language": "python",
   "name": "python3"
  },
  "language_info": {
   "codemirror_mode": {
    "name": "ipython",
    "version": 3
   },
   "file_extension": ".py",
   "mimetype": "text/x-python",
   "name": "python",
   "nbconvert_exporter": "python",
   "pygments_lexer": "ipython3",
   "version": "3.9.12"
  }
 },
 "nbformat": 4,
 "nbformat_minor": 5
}
